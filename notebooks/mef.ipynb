{
 "cells": [
  {
   "cell_type": "markdown",
   "id": "f396fb6e",
   "metadata": {},
   "source": [
    "## Notebook sobre el caso MEF"
   ]
  },
  {
   "cell_type": "code",
   "execution_count": 1,
   "id": "6732d9ab",
   "metadata": {},
   "outputs": [],
   "source": [
    "from sqlalchemy import create_engine\n",
    "from dotenv import load_dotenv\n",
    "import os\n",
    "\n",
    "import pandas as pd\n",
    "\n",
    "import seaborn as sns\n",
    "import matplotlib.pyplot as plt\n",
    "import plotly.express as px\n",
    "\n",
    "import geopandas as gpd\n",
    "\n",
    "import re\n",
    "\n",
    "import nltk\n",
    "from nltk.tokenize import wordpunct_tokenize\n",
    "from nltk.corpus import stopwords\n",
    "\n",
    "import unicodedata\n",
    "\n",
    "from wordcloud import WordCloud"
   ]
  },
  {
   "cell_type": "code",
   "execution_count": 2,
   "id": "2a4cedf0",
   "metadata": {},
   "outputs": [
    {
     "name": "stderr",
     "output_type": "stream",
     "text": [
      "[nltk_data] Downloading package punkt to D:/Maestria/mef/nltk_data...\n",
      "[nltk_data]   Package punkt is already up-to-date!\n",
      "[nltk_data] Downloading package stopwords to\n",
      "[nltk_data]     C:\\Users\\jhoee\\AppData\\Roaming\\nltk_data...\n",
      "[nltk_data]   Package stopwords is already up-to-date!\n"
     ]
    }
   ],
   "source": [
    "nltk.download(\"punkt\", download_dir=\"D:/Maestria/mef/nltk_data\")  # para el mapa de palabras\n",
    "nltk.data.path.append(\"D:/Maestria/mef/nltk_data\")\n",
    "\n",
    "nltk.download(\"stopwords\")\n",
    "palabras_vacias = set(stopwords.words(\"spanish\"))"
   ]
  },
  {
   "cell_type": "markdown",
   "id": "9d716b1b",
   "metadata": {},
   "source": [
    "#### 1. Conexion a base de datos"
   ]
  },
  {
   "cell_type": "code",
   "execution_count": 3,
   "id": "62240b47",
   "metadata": {},
   "outputs": [
    {
     "data": {
      "text/plain": [
       "True"
      ]
     },
     "execution_count": 3,
     "metadata": {},
     "output_type": "execute_result"
    }
   ],
   "source": [
    "load_dotenv()"
   ]
  },
  {
   "cell_type": "code",
   "execution_count": 4,
   "id": "af6bb785",
   "metadata": {},
   "outputs": [],
   "source": [
    "servidor = os.getenv(\"SERVIDOR\")\n",
    "base_datos = os.getenv(\"BASE_DATOS\")\n",
    "driver = os.getenv(\"DRIVER\")\n",
    "\n",
    "cadena_conexion = (\n",
    "    f\"mssql+pyodbc://@{servidor}/{base_datos}\"\n",
    "    f\"?driver={driver.replace(' ', '+')}\"\n",
    "    f\"&Trusted_Connection=yes\"\n",
    "    f\"&TrustServerCertificate=yes\"\n",
    ")\n",
    "\n",
    "motor = create_engine(cadena_conexion)"
   ]
  },
  {
   "cell_type": "markdown",
   "id": "c99efbbb",
   "metadata": {},
   "source": [
    "#### 2. Cargar Tablas"
   ]
  },
  {
   "cell_type": "code",
   "execution_count": 5,
   "id": "68454336",
   "metadata": {},
   "outputs": [],
   "source": [
    "dim_ejecutora = pd.read_sql(\"\"\"\n",
    "    SELECT [EJECUTORA_ID]\n",
    "        ,[COD_DEPARTAMENTO_EJEC]\n",
    "        ,[COD_PROVINCIA_EJEC]\n",
    "        ,[COD_DISTRITO_EJEC]\n",
    "        ,[RUC_EJEC]\n",
    "        ,[ANIO_EJE]\n",
    "        ,[ID_EJECUTORA]\n",
    "        ,[SEC_EJEC]\n",
    "        ,[NOMBRE]\n",
    "        ,[TIPO_UNIDAD]\n",
    "    FROM [DMT_GASTO_MEF].[dbo].[DIM_EJECUTORA]\n",
    "\"\"\", motor)"
   ]
  },
  {
   "cell_type": "code",
   "execution_count": 6,
   "id": "768820d6",
   "metadata": {},
   "outputs": [
    {
     "name": "stdout",
     "output_type": "stream",
     "text": [
      "<class 'pandas.core.frame.DataFrame'>\n",
      "RangeIndex: 487 entries, 0 to 486\n",
      "Data columns (total 10 columns):\n",
      " #   Column                 Non-Null Count  Dtype \n",
      "---  ------                 --------------  ----- \n",
      " 0   EJECUTORA_ID           487 non-null    int64 \n",
      " 1   COD_DEPARTAMENTO_EJEC  487 non-null    object\n",
      " 2   COD_PROVINCIA_EJEC     487 non-null    object\n",
      " 3   COD_DISTRITO_EJEC      487 non-null    object\n",
      " 4   RUC_EJEC               487 non-null    object\n",
      " 5   ANIO_EJE               487 non-null    int64 \n",
      " 6   ID_EJECUTORA           487 non-null    object\n",
      " 7   SEC_EJEC               487 non-null    int64 \n",
      " 8   NOMBRE                 487 non-null    object\n",
      " 9   TIPO_UNIDAD            487 non-null    object\n",
      "dtypes: int64(3), object(7)\n",
      "memory usage: 38.2+ KB\n"
     ]
    }
   ],
   "source": [
    "dim_ejecutora.info()"
   ]
  },
  {
   "cell_type": "code",
   "execution_count": 7,
   "id": "052b0fbf",
   "metadata": {},
   "outputs": [
    {
     "data": {
      "text/html": [
       "<div>\n",
       "<style scoped>\n",
       "    .dataframe tbody tr th:only-of-type {\n",
       "        vertical-align: middle;\n",
       "    }\n",
       "\n",
       "    .dataframe tbody tr th {\n",
       "        vertical-align: top;\n",
       "    }\n",
       "\n",
       "    .dataframe thead th {\n",
       "        text-align: right;\n",
       "    }\n",
       "</style>\n",
       "<table border=\"1\" class=\"dataframe\">\n",
       "  <thead>\n",
       "    <tr style=\"text-align: right;\">\n",
       "      <th></th>\n",
       "      <th>EJECUTORA_ID</th>\n",
       "      <th>COD_DEPARTAMENTO_EJEC</th>\n",
       "      <th>COD_PROVINCIA_EJEC</th>\n",
       "      <th>COD_DISTRITO_EJEC</th>\n",
       "      <th>RUC_EJEC</th>\n",
       "      <th>ANIO_EJE</th>\n",
       "      <th>ID_EJECUTORA</th>\n",
       "      <th>SEC_EJEC</th>\n",
       "      <th>NOMBRE</th>\n",
       "      <th>TIPO_UNIDAD</th>\n",
       "    </tr>\n",
       "  </thead>\n",
       "  <tbody>\n",
       "    <tr>\n",
       "      <th>72</th>\n",
       "      <td>72</td>\n",
       "      <td>15</td>\n",
       "      <td>08</td>\n",
       "      <td>01</td>\n",
       "      <td>20172299742</td>\n",
       "      <td>2012</td>\n",
       "      <td>001</td>\n",
       "      <td>108</td>\n",
       "      <td>UNIVERSIDAD NACIONAL FAUSTINO SANCHEZ CARRION</td>\n",
       "      <td>E</td>\n",
       "    </tr>\n",
       "    <tr>\n",
       "      <th>244</th>\n",
       "      <td>244</td>\n",
       "      <td>15</td>\n",
       "      <td>01</td>\n",
       "      <td>01</td>\n",
       "      <td>20169004359</td>\n",
       "      <td>2017</td>\n",
       "      <td>001</td>\n",
       "      <td>92</td>\n",
       "      <td>UNIVERSIDAD NACIONAL DE INGENIERIA</td>\n",
       "      <td>E</td>\n",
       "    </tr>\n",
       "    <tr>\n",
       "      <th>437</th>\n",
       "      <td>437</td>\n",
       "      <td>16</td>\n",
       "      <td>01</td>\n",
       "      <td>01</td>\n",
       "      <td>20180260316</td>\n",
       "      <td>2018</td>\n",
       "      <td>001</td>\n",
       "      <td>97</td>\n",
       "      <td>UNIVERSIDAD NACIONAL DE LA AMAZONIA PERUANA</td>\n",
       "      <td>E</td>\n",
       "    </tr>\n",
       "    <tr>\n",
       "      <th>79</th>\n",
       "      <td>79</td>\n",
       "      <td>02</td>\n",
       "      <td>18</td>\n",
       "      <td>01</td>\n",
       "      <td>20148309109</td>\n",
       "      <td>2014</td>\n",
       "      <td>001</td>\n",
       "      <td>114</td>\n",
       "      <td>UNIVERSIDAD NACIONAL DEL SANTA</td>\n",
       "      <td>E</td>\n",
       "    </tr>\n",
       "    <tr>\n",
       "      <th>402</th>\n",
       "      <td>402</td>\n",
       "      <td>09</td>\n",
       "      <td>01</td>\n",
       "      <td>01</td>\n",
       "      <td>20168014962</td>\n",
       "      <td>2017</td>\n",
       "      <td>001</td>\n",
       "      <td>115</td>\n",
       "      <td>UNIVERSIDAD NACIONAL DE HUANCAVELICA</td>\n",
       "      <td>E</td>\n",
       "    </tr>\n",
       "  </tbody>\n",
       "</table>\n",
       "</div>"
      ],
      "text/plain": [
       "     EJECUTORA_ID COD_DEPARTAMENTO_EJEC COD_PROVINCIA_EJEC COD_DISTRITO_EJEC  \\\n",
       "72             72                    15                 08                01   \n",
       "244           244                    15                 01                01   \n",
       "437           437                    16                 01                01   \n",
       "79             79                    02                 18                01   \n",
       "402           402                    09                 01                01   \n",
       "\n",
       "        RUC_EJEC  ANIO_EJE ID_EJECUTORA  SEC_EJEC  \\\n",
       "72   20172299742      2012          001       108   \n",
       "244  20169004359      2017          001        92   \n",
       "437  20180260316      2018          001        97   \n",
       "79   20148309109      2014          001       114   \n",
       "402  20168014962      2017          001       115   \n",
       "\n",
       "                                            NOMBRE TIPO_UNIDAD  \n",
       "72   UNIVERSIDAD NACIONAL FAUSTINO SANCHEZ CARRION           E  \n",
       "244             UNIVERSIDAD NACIONAL DE INGENIERIA           E  \n",
       "437    UNIVERSIDAD NACIONAL DE LA AMAZONIA PERUANA           E  \n",
       "79                  UNIVERSIDAD NACIONAL DEL SANTA           E  \n",
       "402           UNIVERSIDAD NACIONAL DE HUANCAVELICA           E  "
      ]
     },
     "execution_count": 7,
     "metadata": {},
     "output_type": "execute_result"
    }
   ],
   "source": [
    "dim_ejecutora.sample(5, random_state=42)"
   ]
  },
  {
   "cell_type": "code",
   "execution_count": 8,
   "id": "45bd6f53",
   "metadata": {},
   "outputs": [
    {
     "data": {
      "text/plain": [
       "56"
      ]
     },
     "execution_count": 8,
     "metadata": {},
     "output_type": "execute_result"
    }
   ],
   "source": [
    "len(dim_ejecutora.value_counts(subset=\"NOMBRE\"))"
   ]
  },
  {
   "cell_type": "markdown",
   "id": "b8c1fcf5",
   "metadata": {},
   "source": [
    "Parece que hay 56 universidades unicas"
   ]
  },
  {
   "cell_type": "code",
   "execution_count": 9,
   "id": "724857bf",
   "metadata": {},
   "outputs": [],
   "source": [
    "dim_ubigeo = pd.read_sql(\"\"\"\n",
    "SELECT TOP (1000) [UBIGEO_ID]\n",
    "        ,[UBIGEO_RENIEC]\n",
    "        ,[UBIGEO_INEI]\n",
    "        ,[DEPARTAMENTO_INEI]\n",
    "        ,[DEPARTAMENTO]\n",
    "        ,[PROVINCIA_INEI]\n",
    "        ,[PROVINCIA]\n",
    "        ,[DISTRITO]\n",
    "        ,[REGION]\n",
    "        ,[MACROREGION_INEI]\n",
    "        ,[MACROREGION_MINSA]\n",
    "        ,[CODIGO_FIPS]\n",
    "        ,[SUPERFICIE]\n",
    "        ,[ALTITUD]\n",
    "        ,[LATITUD]\n",
    "        ,[LONGITUD]\n",
    "        ,[POBLACION_DISTRITO]\n",
    "        ,[POBLACION_PROVINCIA]\n",
    "        ,[POBLACION_DEPARTAMENTO]\n",
    "        ,[DIRESA]\n",
    "    FROM [DMT_GASTO_MEF].[dbo].[DIM_UBIGEO]\n",
    "\"\"\", motor)"
   ]
  },
  {
   "cell_type": "code",
   "execution_count": 10,
   "id": "b5ccdb3a",
   "metadata": {},
   "outputs": [
    {
     "name": "stdout",
     "output_type": "stream",
     "text": [
      "<class 'pandas.core.frame.DataFrame'>\n",
      "RangeIndex: 1000 entries, 0 to 999\n",
      "Data columns (total 20 columns):\n",
      " #   Column                  Non-Null Count  Dtype  \n",
      "---  ------                  --------------  -----  \n",
      " 0   UBIGEO_ID               1000 non-null   int64  \n",
      " 1   UBIGEO_RENIEC           1000 non-null   object \n",
      " 2   UBIGEO_INEI             1000 non-null   object \n",
      " 3   DEPARTAMENTO_INEI       1000 non-null   object \n",
      " 4   DEPARTAMENTO            1000 non-null   object \n",
      " 5   PROVINCIA_INEI          1000 non-null   object \n",
      " 6   PROVINCIA               1000 non-null   object \n",
      " 7   DISTRITO                1000 non-null   object \n",
      " 8   REGION                  1000 non-null   object \n",
      " 9   MACROREGION_INEI        1000 non-null   object \n",
      " 10  MACROREGION_MINSA       1000 non-null   object \n",
      " 11  CODIGO_FIPS             1000 non-null   object \n",
      " 12  SUPERFICIE              996 non-null    float64\n",
      " 13  ALTITUD                 1000 non-null   int64  \n",
      " 14  LATITUD                 1000 non-null   float64\n",
      " 15  LONGITUD                1000 non-null   float64\n",
      " 16  POBLACION_DISTRITO      1000 non-null   int64  \n",
      " 17  POBLACION_PROVINCIA     1000 non-null   int64  \n",
      " 18  POBLACION_DEPARTAMENTO  1000 non-null   int64  \n",
      " 19  DIRESA                  1000 non-null   object \n",
      "dtypes: float64(3), int64(5), object(12)\n",
      "memory usage: 156.4+ KB\n"
     ]
    }
   ],
   "source": [
    "dim_ubigeo.info()"
   ]
  },
  {
   "cell_type": "code",
   "execution_count": 11,
   "id": "2403f2ed",
   "metadata": {},
   "outputs": [
    {
     "data": {
      "text/html": [
       "<div>\n",
       "<style scoped>\n",
       "    .dataframe tbody tr th:only-of-type {\n",
       "        vertical-align: middle;\n",
       "    }\n",
       "\n",
       "    .dataframe tbody tr th {\n",
       "        vertical-align: top;\n",
       "    }\n",
       "\n",
       "    .dataframe thead th {\n",
       "        text-align: right;\n",
       "    }\n",
       "</style>\n",
       "<table border=\"1\" class=\"dataframe\">\n",
       "  <thead>\n",
       "    <tr style=\"text-align: right;\">\n",
       "      <th></th>\n",
       "      <th>UBIGEO_ID</th>\n",
       "      <th>UBIGEO_RENIEC</th>\n",
       "      <th>UBIGEO_INEI</th>\n",
       "      <th>DEPARTAMENTO_INEI</th>\n",
       "      <th>DEPARTAMENTO</th>\n",
       "      <th>PROVINCIA_INEI</th>\n",
       "      <th>PROVINCIA</th>\n",
       "      <th>DISTRITO</th>\n",
       "      <th>REGION</th>\n",
       "      <th>MACROREGION_INEI</th>\n",
       "      <th>MACROREGION_MINSA</th>\n",
       "      <th>CODIGO_FIPS</th>\n",
       "      <th>SUPERFICIE</th>\n",
       "      <th>ALTITUD</th>\n",
       "      <th>LATITUD</th>\n",
       "      <th>LONGITUD</th>\n",
       "      <th>POBLACION_DISTRITO</th>\n",
       "      <th>POBLACION_PROVINCIA</th>\n",
       "      <th>POBLACION_DEPARTAMENTO</th>\n",
       "      <th>DIRESA</th>\n",
       "    </tr>\n",
       "  </thead>\n",
       "  <tbody>\n",
       "    <tr>\n",
       "      <th>521</th>\n",
       "      <td>6794</td>\n",
       "      <td>050616</td>\n",
       "      <td>050708</td>\n",
       "      <td>05</td>\n",
       "      <td>AYACUCHO</td>\n",
       "      <td>0507</td>\n",
       "      <td>PARINACOCHAS</td>\n",
       "      <td>UPAHUACHO</td>\n",
       "      <td>AYACUCHO</td>\n",
       "      <td>CENTRO</td>\n",
       "      <td>MACROREGION CENTRO</td>\n",
       "      <td>5</td>\n",
       "      <td>587.0</td>\n",
       "      <td>3341</td>\n",
       "      <td>-14.9072</td>\n",
       "      <td>-73.3975</td>\n",
       "      <td>1585</td>\n",
       "      <td>26461</td>\n",
       "      <td>696504</td>\n",
       "      <td>AYACUCHO</td>\n",
       "    </tr>\n",
       "    <tr>\n",
       "      <th>737</th>\n",
       "      <td>7010</td>\n",
       "      <td>070601</td>\n",
       "      <td>080601</td>\n",
       "      <td>08</td>\n",
       "      <td>CUSCO</td>\n",
       "      <td>0806</td>\n",
       "      <td>CANCHIS</td>\n",
       "      <td>SICUANI</td>\n",
       "      <td>CUSCO</td>\n",
       "      <td>SUR</td>\n",
       "      <td>MACROREGION SUR</td>\n",
       "      <td>8</td>\n",
       "      <td>646.0</td>\n",
       "      <td>3593</td>\n",
       "      <td>-14.2381</td>\n",
       "      <td>-71.2308</td>\n",
       "      <td>66376</td>\n",
       "      <td>112783</td>\n",
       "      <td>1471345</td>\n",
       "      <td>CUSCO</td>\n",
       "    </tr>\n",
       "    <tr>\n",
       "      <th>740</th>\n",
       "      <td>7013</td>\n",
       "      <td>070604</td>\n",
       "      <td>080604</td>\n",
       "      <td>08</td>\n",
       "      <td>CUSCO</td>\n",
       "      <td>0806</td>\n",
       "      <td>CANCHIS</td>\n",
       "      <td>MARANGANI</td>\n",
       "      <td>CUSCO</td>\n",
       "      <td>SUR</td>\n",
       "      <td>MACROREGION SUR</td>\n",
       "      <td>8</td>\n",
       "      <td>433.0</td>\n",
       "      <td>3720</td>\n",
       "      <td>-14.3567</td>\n",
       "      <td>-71.1686</td>\n",
       "      <td>11741</td>\n",
       "      <td>112783</td>\n",
       "      <td>1471345</td>\n",
       "      <td>CUSCO</td>\n",
       "    </tr>\n",
       "    <tr>\n",
       "      <th>660</th>\n",
       "      <td>6933</td>\n",
       "      <td>061204</td>\n",
       "      <td>061006</td>\n",
       "      <td>06</td>\n",
       "      <td>CAJAMARCA</td>\n",
       "      <td>0610</td>\n",
       "      <td>SAN MARCOS</td>\n",
       "      <td>JOSE MANUEL QUIROZ</td>\n",
       "      <td>CAJAMARCA</td>\n",
       "      <td>NORTE</td>\n",
       "      <td>MACROREGION NORTE</td>\n",
       "      <td>6</td>\n",
       "      <td>115.0</td>\n",
       "      <td>2781</td>\n",
       "      <td>-7.3494</td>\n",
       "      <td>-78.0478</td>\n",
       "      <td>4355</td>\n",
       "      <td>58393</td>\n",
       "      <td>1614623</td>\n",
       "      <td>CAJAMARCA</td>\n",
       "    </tr>\n",
       "    <tr>\n",
       "      <th>411</th>\n",
       "      <td>6684</td>\n",
       "      <td>040213</td>\n",
       "      <td>040513</td>\n",
       "      <td>04</td>\n",
       "      <td>AREQUIPA</td>\n",
       "      <td>0405</td>\n",
       "      <td>CAYLLOMA</td>\n",
       "      <td>MADRIGAL</td>\n",
       "      <td>AREQUIPA</td>\n",
       "      <td>SUR</td>\n",
       "      <td>MACROREGION SUR</td>\n",
       "      <td>4</td>\n",
       "      <td>160.0</td>\n",
       "      <td>3300</td>\n",
       "      <td>-15.6083</td>\n",
       "      <td>-71.8075</td>\n",
       "      <td>821</td>\n",
       "      <td>105492</td>\n",
       "      <td>1568544</td>\n",
       "      <td>AREQUIPA</td>\n",
       "    </tr>\n",
       "  </tbody>\n",
       "</table>\n",
       "</div>"
      ],
      "text/plain": [
       "     UBIGEO_ID UBIGEO_RENIEC UBIGEO_INEI DEPARTAMENTO_INEI DEPARTAMENTO  \\\n",
       "521       6794        050616      050708                05     AYACUCHO   \n",
       "737       7010        070601      080601                08        CUSCO   \n",
       "740       7013        070604      080604                08        CUSCO   \n",
       "660       6933        061204      061006                06    CAJAMARCA   \n",
       "411       6684        040213      040513                04     AREQUIPA   \n",
       "\n",
       "    PROVINCIA_INEI     PROVINCIA            DISTRITO     REGION  \\\n",
       "521           0507  PARINACOCHAS           UPAHUACHO   AYACUCHO   \n",
       "737           0806       CANCHIS             SICUANI      CUSCO   \n",
       "740           0806       CANCHIS           MARANGANI      CUSCO   \n",
       "660           0610    SAN MARCOS  JOSE MANUEL QUIROZ  CAJAMARCA   \n",
       "411           0405      CAYLLOMA            MADRIGAL   AREQUIPA   \n",
       "\n",
       "    MACROREGION_INEI   MACROREGION_MINSA CODIGO_FIPS  SUPERFICIE  ALTITUD  \\\n",
       "521           CENTRO  MACROREGION CENTRO           5       587.0     3341   \n",
       "737              SUR     MACROREGION SUR           8       646.0     3593   \n",
       "740              SUR     MACROREGION SUR           8       433.0     3720   \n",
       "660            NORTE   MACROREGION NORTE           6       115.0     2781   \n",
       "411              SUR     MACROREGION SUR           4       160.0     3300   \n",
       "\n",
       "     LATITUD  LONGITUD  POBLACION_DISTRITO  POBLACION_PROVINCIA  \\\n",
       "521 -14.9072  -73.3975                1585                26461   \n",
       "737 -14.2381  -71.2308               66376               112783   \n",
       "740 -14.3567  -71.1686               11741               112783   \n",
       "660  -7.3494  -78.0478                4355                58393   \n",
       "411 -15.6083  -71.8075                 821               105492   \n",
       "\n",
       "     POBLACION_DEPARTAMENTO     DIRESA  \n",
       "521                  696504   AYACUCHO  \n",
       "737                 1471345      CUSCO  \n",
       "740                 1471345      CUSCO  \n",
       "660                 1614623  CAJAMARCA  \n",
       "411                 1568544   AREQUIPA  "
      ]
     },
     "execution_count": 11,
     "metadata": {},
     "output_type": "execute_result"
    }
   ],
   "source": [
    "dim_ubigeo.sample(5, random_state=42)"
   ]
  },
  {
   "cell_type": "code",
   "execution_count": 12,
   "id": "9586673d",
   "metadata": {},
   "outputs": [
    {
     "data": {
      "text/plain": [
       "(56, 3)"
      ]
     },
     "execution_count": 12,
     "metadata": {},
     "output_type": "execute_result"
    }
   ],
   "source": [
    "df_universidades = dim_ejecutora[['NOMBRE', 'COD_DEPARTAMENTO_EJEC', \"EJECUTORA_ID\"]].drop_duplicates(subset='NOMBRE').reset_index(drop=True)\n",
    "df_universidades.shape"
   ]
  },
  {
   "cell_type": "markdown",
   "id": "e78fc4af",
   "metadata": {},
   "source": [
    "Siguen siendo las 56 universidades"
   ]
  },
  {
   "cell_type": "code",
   "execution_count": 13,
   "id": "f3ba62a8",
   "metadata": {},
   "outputs": [
    {
     "data": {
      "text/html": [
       "<div>\n",
       "<style scoped>\n",
       "    .dataframe tbody tr th:only-of-type {\n",
       "        vertical-align: middle;\n",
       "    }\n",
       "\n",
       "    .dataframe tbody tr th {\n",
       "        vertical-align: top;\n",
       "    }\n",
       "\n",
       "    .dataframe thead th {\n",
       "        text-align: right;\n",
       "    }\n",
       "</style>\n",
       "<table border=\"1\" class=\"dataframe\">\n",
       "  <thead>\n",
       "    <tr style=\"text-align: right;\">\n",
       "      <th></th>\n",
       "      <th>NOMBRE</th>\n",
       "      <th>COD_DEPARTAMENTO_EJEC</th>\n",
       "      <th>EJECUTORA_ID</th>\n",
       "    </tr>\n",
       "  </thead>\n",
       "  <tbody>\n",
       "    <tr>\n",
       "      <th>0</th>\n",
       "      <td>SIN DATOS</td>\n",
       "      <td>99</td>\n",
       "      <td>-1</td>\n",
       "    </tr>\n",
       "    <tr>\n",
       "      <th>1</th>\n",
       "      <td>UNIVERSIDAD NACIONAL SAN CRISTOBAL DE HUAMANGA</td>\n",
       "      <td>05</td>\n",
       "      <td>1</td>\n",
       "    </tr>\n",
       "    <tr>\n",
       "      <th>2</th>\n",
       "      <td>UNIVERSIDAD NACIONAL DANIEL ALCIDES CARRION</td>\n",
       "      <td>19</td>\n",
       "      <td>2</td>\n",
       "    </tr>\n",
       "    <tr>\n",
       "      <th>3</th>\n",
       "      <td>UNIVERSIDAD NACIONAL TORIBIO RODRIGUEZ DE MEND...</td>\n",
       "      <td>01</td>\n",
       "      <td>3</td>\n",
       "    </tr>\n",
       "    <tr>\n",
       "      <th>4</th>\n",
       "      <td>UNIVERSIDAD NACIONAL DEL CENTRO DEL PERU</td>\n",
       "      <td>12</td>\n",
       "      <td>4</td>\n",
       "    </tr>\n",
       "  </tbody>\n",
       "</table>\n",
       "</div>"
      ],
      "text/plain": [
       "                                              NOMBRE COD_DEPARTAMENTO_EJEC  \\\n",
       "0                                          SIN DATOS                    99   \n",
       "1     UNIVERSIDAD NACIONAL SAN CRISTOBAL DE HUAMANGA                    05   \n",
       "2        UNIVERSIDAD NACIONAL DANIEL ALCIDES CARRION                    19   \n",
       "3  UNIVERSIDAD NACIONAL TORIBIO RODRIGUEZ DE MEND...                    01   \n",
       "4           UNIVERSIDAD NACIONAL DEL CENTRO DEL PERU                    12   \n",
       "\n",
       "   EJECUTORA_ID  \n",
       "0            -1  \n",
       "1             1  \n",
       "2             2  \n",
       "3             3  \n",
       "4             4  "
      ]
     },
     "execution_count": 13,
     "metadata": {},
     "output_type": "execute_result"
    }
   ],
   "source": [
    "df_universidades.head()"
   ]
  },
  {
   "cell_type": "markdown",
   "id": "12bdca3f",
   "metadata": {},
   "source": [
    "Sin embargo, hay una fila sin datos que se removera"
   ]
  },
  {
   "cell_type": "code",
   "execution_count": 14,
   "id": "2b127b9c",
   "metadata": {},
   "outputs": [
    {
     "data": {
      "text/html": [
       "<div>\n",
       "<style scoped>\n",
       "    .dataframe tbody tr th:only-of-type {\n",
       "        vertical-align: middle;\n",
       "    }\n",
       "\n",
       "    .dataframe tbody tr th {\n",
       "        vertical-align: top;\n",
       "    }\n",
       "\n",
       "    .dataframe thead th {\n",
       "        text-align: right;\n",
       "    }\n",
       "</style>\n",
       "<table border=\"1\" class=\"dataframe\">\n",
       "  <thead>\n",
       "    <tr style=\"text-align: right;\">\n",
       "      <th></th>\n",
       "      <th>NOMBRE</th>\n",
       "      <th>COD_DEPARTAMENTO_EJEC</th>\n",
       "      <th>EJECUTORA_ID</th>\n",
       "    </tr>\n",
       "  </thead>\n",
       "  <tbody>\n",
       "    <tr>\n",
       "      <th>0</th>\n",
       "      <td>UNIVERSIDAD NACIONAL SAN CRISTOBAL DE HUAMANGA</td>\n",
       "      <td>05</td>\n",
       "      <td>1</td>\n",
       "    </tr>\n",
       "    <tr>\n",
       "      <th>1</th>\n",
       "      <td>UNIVERSIDAD NACIONAL DANIEL ALCIDES CARRION</td>\n",
       "      <td>19</td>\n",
       "      <td>2</td>\n",
       "    </tr>\n",
       "    <tr>\n",
       "      <th>2</th>\n",
       "      <td>UNIVERSIDAD NACIONAL TORIBIO RODRIGUEZ DE MEND...</td>\n",
       "      <td>01</td>\n",
       "      <td>3</td>\n",
       "    </tr>\n",
       "    <tr>\n",
       "      <th>3</th>\n",
       "      <td>UNIVERSIDAD NACIONAL DEL CENTRO DEL PERU</td>\n",
       "      <td>12</td>\n",
       "      <td>4</td>\n",
       "    </tr>\n",
       "    <tr>\n",
       "      <th>4</th>\n",
       "      <td>UNIVERSIDAD NACIONAL DEL SANTA</td>\n",
       "      <td>02</td>\n",
       "      <td>5</td>\n",
       "    </tr>\n",
       "  </tbody>\n",
       "</table>\n",
       "</div>"
      ],
      "text/plain": [
       "                                              NOMBRE COD_DEPARTAMENTO_EJEC  \\\n",
       "0     UNIVERSIDAD NACIONAL SAN CRISTOBAL DE HUAMANGA                    05   \n",
       "1        UNIVERSIDAD NACIONAL DANIEL ALCIDES CARRION                    19   \n",
       "2  UNIVERSIDAD NACIONAL TORIBIO RODRIGUEZ DE MEND...                    01   \n",
       "3           UNIVERSIDAD NACIONAL DEL CENTRO DEL PERU                    12   \n",
       "4                     UNIVERSIDAD NACIONAL DEL SANTA                    02   \n",
       "\n",
       "   EJECUTORA_ID  \n",
       "0             1  \n",
       "1             2  \n",
       "2             3  \n",
       "3             4  \n",
       "4             5  "
      ]
     },
     "execution_count": 14,
     "metadata": {},
     "output_type": "execute_result"
    }
   ],
   "source": [
    "df_universidades = df_universidades.iloc[1:].reset_index(drop=True).copy()\n",
    "df_universidades.head()"
   ]
  },
  {
   "cell_type": "markdown",
   "id": "e0f13b5d",
   "metadata": {},
   "source": [
    "#### Mapa de palabras"
   ]
  },
  {
   "cell_type": "markdown",
   "id": "4a08c657",
   "metadata": {},
   "source": [
    "Primero, convertimos a una lista"
   ]
  },
  {
   "cell_type": "code",
   "execution_count": 15,
   "id": "2775af9b",
   "metadata": {},
   "outputs": [
    {
     "data": {
      "text/plain": [
       "['UNIVERSIDAD NACIONAL SAN CRISTOBAL DE HUAMANGA',\n",
       " 'UNIVERSIDAD NACIONAL DANIEL ALCIDES CARRION',\n",
       " 'UNIVERSIDAD NACIONAL TORIBIO RODRIGUEZ DE MENDOZA DE AMAZONAS']"
      ]
     },
     "execution_count": 15,
     "metadata": {},
     "output_type": "execute_result"
    }
   ],
   "source": [
    "df_universidades[\"NOMBRE\"].to_list()[:3]"
   ]
  },
  {
   "cell_type": "code",
   "execution_count": 16,
   "id": "982a6ac9",
   "metadata": {},
   "outputs": [],
   "source": [
    "lista_nombres = df_universidades[\"NOMBRE\"].to_list()\n",
    "\n",
    "# convierte a minusculas\n",
    "lista_nombres_minuscula = []\n",
    "\n",
    "for nombre in lista_nombres:\n",
    "    nombre_limpio = nombre.lower()\n",
    "    lista_nombres_minuscula.append(nombre_limpio)\n",
    "\n",
    "# quita signos de puntuacion\n",
    "lista_nombres_sin_signos = []\n",
    "\n",
    "for nombre in lista_nombres_minuscula:\n",
    "    nombre_limpio = re.sub(r\"[^a-záéíóúñü\\s]\", \"\", nombre)\n",
    "    lista_nombres_sin_signos.append(nombre_limpio)\n",
    "\n",
    "# quita tildes\n",
    "lista_normalizada = []\n",
    "\n",
    "for nombre in lista_nombres_sin_signos:\n",
    "    nombre_sin_tildes = unicodedata.normalize('NFKD', nombre).encode('ASCII', 'ignore').decode('utf-8')\n",
    "    lista_normalizada.append(nombre_sin_tildes)\n",
    "\n",
    "# tokeniza\n",
    "lista_tokens = []\n",
    "\n",
    "for nombre in lista_normalizada:\n",
    "    tokens = wordpunct_tokenize(nombre)\n",
    "    lista_tokens.append(tokens)\n",
    "\n",
    "# elmina stopwords\n",
    "palabras_vacias = set(stopwords.words(\"spanish\"))\n",
    "tokens_limpios = []\n",
    "\n",
    "for lista in lista_tokens:\n",
    "    palabras_filtradas = []\n",
    "\n",
    "    for palabra in lista:\n",
    "        if palabra not in palabras_vacias and len(palabra) > 2:\n",
    "            palabras_filtradas.append(palabra)\n",
    "\n",
    "    tokens_limpios.append(palabras_filtradas)\n",
    "\n",
    "# une los tokens\n",
    "lista_final = []\n",
    "\n",
    "for lista in tokens_limpios:\n",
    "    for palabra in lista:\n",
    "        lista_final.append(palabra)\n",
    "\n",
    "texto_total = \" \".join(lista_final)"
   ]
  },
  {
   "cell_type": "code",
   "execution_count": 17,
   "id": "9f288eff",
   "metadata": {},
   "outputs": [
    {
     "data": {
      "image/png": "[encoded data removed]",
      "text/plain": [
       "<Figure size 1000x500 with 1 Axes>"
      ]
     },
     "metadata": {},
     "output_type": "display_data"
    }
   ],
   "source": [
    "nube = WordCloud(width=800, height=400, background_color=\"white\", collocations=False).generate(texto_total)\n",
    "\n",
    "plt.figure(figsize=(10, 5))\n",
    "plt.imshow(nube, interpolation=\"bilinear\")\n",
    "plt.axis(\"off\")\n",
    "plt.show()"
   ]
  },
  {
   "cell_type": "code",
   "execution_count": 18,
   "id": "aa3c35f3",
   "metadata": {},
   "outputs": [
    {
     "data": {
      "image/png": "[encoded data removed]",
      "text/plain": [
       "<Figure size 800x500 with 1 Axes>"
      ]
     },
     "metadata": {},
     "output_type": "display_data"
    }
   ],
   "source": [
    "plt.figure(figsize=(8,5))\n",
    "ax = sns.countplot(x='ANIO_EJE', data=dim_ejecutora.query('ANIO_EJE != 1900'), color='skyblue')\n",
    "\n",
    "plt.title('Cantidad de Universidades por Año')\n",
    "\n",
    "for p in ax.patches:\n",
    "    height = p.get_height()\n",
    "    ax.annotate(f'{height}',\n",
    "                xy=(p.get_x() + p.get_width() / 2, height), \n",
    "                xytext=(0, 5),\n",
    "                textcoords='offset points',\n",
    "                ha='center', va='center',\n",
    "                fontsize=10)\n",
    "\n",
    "plt.show()\n"
   ]
  },
  {
   "cell_type": "markdown",
   "id": "196606ac",
   "metadata": {},
   "source": [
    "Como se observa, el numero de universidades se va incrementando debido a la regulacion que obliga a la creacion de nuevas universidades."
   ]
  },
  {
   "cell_type": "code",
   "execution_count": 19,
   "id": "5c24a0d1",
   "metadata": {},
   "outputs": [
    {
     "data": {
      "application/vnd.plotly.v1+json": {
       "config": {
        "plotlyServerURL": "https://plot.ly"
       },
       "data": [
        {
         "customdata": {
          "bdata": "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",
          "dtype": "f8",
          "shape": "1000, 3"
         },
         "hovertemplate": "POBLACION_DISTRITO=%{marker.color}<br>LATITUD=%{customdata[0]}<br>LONGITUD=%{customdata[1]}<extra></extra>",
         "lat": {
          "bdata": "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",
          "dtype": "f8"
         },
         "legendgroup": "",
         "lon": {
          "bdata": "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",
          "dtype": "f8"
         },
         "marker": {
          "color": {
           "bdata": "/hwAAMccAADmBQAA9yYAACVuAABHFQAAcwQAAJdGAADqHQAANUUAAEoUAADQHwAAWAUAABoJAADwCwAAfAQAAIYcAABODgAARi8AAOgeAQBxDQAAhxUAAERSAAAR2wAAj2UCAPIRAADKUAEAi0wAAE6GAACigwAA+g8BAKkSAADZCgEAn2YBACiQAABjcAEAZBADAMqmAQAWFQEAswQAAFADAADCewAAzhsAAGETAADCBgAAVgcAAEgnAAAKBgAAGREAAOEFAAAQCgAAxR4AAAoDAACLDgAAwQQAAO4JAACIAgAAigIAANoPAADUDwAAdQMAAN0AAADDAQAASQkAAIwBAABSBwAAygQAACoHAABIBQAAngIAAHMDAAB4CgAAzwMAAOsaAACUBAAApgcAAG8JAAAFBQAANQMAALQDAAASBAAAIwUAALQCAADCAwAA9gcAAHUDAAAbAwAAVAgAAHgEAACiAwAAYQYAAGAKAABBEgAAZgEAABMHAAC4AQAANQQAAIQEAACuCgAAqgEAAIgCAAC5AQAAwRQAAEUJAAA0AgAAyQIAANgAAADUAQAALQsAAKASAAAQEQAAlwcAAOAGAACuBAAAmwkAAAcDAADuAQAAHgIAAJkIAACaCQAAHAwAAMEMAAA8AgAA9wUAAKUwAADVCwAA8QMAAO0IAABnAwAAGAMAAIUBAAAxBgAAeBoAAP8DAACMOwAAKoMAABgMAACNDQAApggAALYDAAC4OQAA1BIAAEQMAAC3AgAA6AsAAJQXAADJIwAAjxkAAGEGAABAGgAAr14AAOMLAAAeCAAAKhAAANwEAADECQAA1wQAAJ8NAAD5BAAASgsAAOQMAADdLQAAIRUAAFoHAACfGwAACQYAAKY0AACVEwAArR8AAB4QAAB1BAAAEwYAAJMoAABXCQAApwkAALkDAABXBAAASAMBAGsDAADXAgAAFgIAAD0EAAAhBQAA/wQAAIIoAAA7KgAATQIAAOAEAACtFQAA4goAAPoMAABDBAAAoQEAAGIBAACRAwAAHAMAAO0MAACoHgAASAMAAJEHAAC9FwAAGwoAAN4CAABqAgAAigUAAAAYAADCBAAAMTMAALkCAAASBAAApgMAAHcFAAChFAAArRUAAB5KAAC6GAAAzwMAAH4EAABMDwAAmxsAABjlAgCqCQAA3AUAAMMKAAD2AgAAzAEAANPVAAASBgAAnwgAAKMDAAC6AgAAegUAAK4CAAApIgAAB6AAAHoVAABVAwAAgwoAAKEEAAC8FAAAYgMAAN8hAACwAwAAMwkAADYPAAArBQAA5ggAAMsLAAAiAwAA1QQAAAcKAAApCAAAswIAAMUOAAD2MwAAqAYAADYGAAAsBwAASwMAAMgLAAAlDQAAQRUAAP4UAACCAgAAsgwAAKcOAADYEAAAggUAALkRAACXEAAAzwUAABYFAADxCAAAWAIAABgLAABqCQAArR8AAA0LAADfMAAAIgEAAEcFAABcBQAA/AQAAAUSAAAkCwAA6AwAAD4OAACNEQAA6gkAAC8IAADpBwAAdBIAAMMDAACFBAAAqBIAAMwEAABLBwAARgUAAHADAAAPBQAAdh8AAOESAAAABAAA7zkAAEoZAACEGgAAXwwAACsMAADsDAAAGigAAIoHAACdsQAAeFQAAEEeAAA1XAAAiRcAAGITAADoFgAAcxkAAHMWAQDoSwAAwyYAACAUAACCDAAAbwgAAKknAAAwOgAAwwgAAIQJAADUDQAA/A4AAPwlAADfFQAAkhEAAGcgAABODAAATxgAAE8PAAA9JQAAPhcAACLNAABURAAA1wEAAFYKAADrEQAAeAkAANWKAQBsMAAArQMAAHYdAACStwEA1UwBAJQUAgA3GAAA3QwAAOENAAArHwAArQcAALMfAACiEQAA9BgAAH0eAABTIwAAiRAAANYKAACWWAAALyAAAKYQAAAoDAAAdAUAABMTAABOLQAAVRkAANoMAABRBwAAvDIAAEMaAADkHgAAng8AAEcHAAAFBAAAfBoAAEcpAAAuFwAATx4AAO0UAAALDQAA2mIAAN47AAAeBQAAKWUAAJwFAAAfEwAAzQ4AAAgEAADlGgAABC8AAPZNAAAaCwAAvwUAALQVAABDBwAAUygAAJsjAABqKwAAegMAALYaAADIbwAASwgAALrSAAA1SgAAnbUBAOpRAACKIgAApgoAAEAgAADpBQAA6QUAACwXAADoHwAAjgIAAJgGAAAvBAAAaAMAAFIFAADcMgAAHSkAALkNAABuDAAA5xkAALgEAABPCAAAHAoAANgEAAANOAAAwRMAAMIWAADJCAAAbA8AAO5vAADvBAAApRwAAFQRAABUOAAAhwUAAMG4AAAZEAAAJwwAALMGAACQCQAA3iIAADsWAACdHgAAnggAAFwNAABUFwAAeQMAAMgRAACMogAAuSkAABQbAACNAwAADAMAALGrAADLMwAAXAkAAENsAACfJgAAerEAACUWAACcDwAAZhEAAKQXAABgNAAAsgsAAFYYAACKEAAAWTMAAPgaAACjJwAARAoAAKYLAABjYAAA4zcAAI4oAAAxBAAAKlAAAJwIAABBCQAAoAwAAAAPAADjHQAA2gMAADYXAAA7BAAAwAMAAOR4AAABCwAAigoAALssAAC7BAAAaQkAAOMUAAASCAAA+QQAAD8MAABdKQAA8gIAAMo7AAA4FAAAdBMAAOkCAABFKQAAdSsAANERAAAjBwAAiQoAADEGAADbCwAAAxMAALkbAACJAwAAKwoAAJwFAAD3EwAAwgwAANIVAABIDgAAywsAAB0fAAAUJgEAMEIIAKxzAQDDDQAAaewAAJNhBQB1owAAaDgAAFcFAADQAQAAtgEAAJIBAADTBAAA2wAAAOoBAABWAwAA7AEAALEAAAAOCgAAYQEAAMMuAABpBAAAUgEAANYHAAAJAQAALAEAAGAPAACkCwAAgwIAAN0EAABsBAAAVQMAANIjAAD6BAAAMAcAANoPAABOFwAAAVMAAAMHAABRBAAAjgQAAHoUAAB5EQAAswwAAA8JAABiBAAA9WsAAFsSAABMAwAAzQUAAGUZAADxBwAAaQIAAC0dAAAWDAAAnQIAAPsDAABcDAAAZhYAAAoXAADDCQAAUI0AAOoKAAD5XwEAgoABAJEDAAAbOQAAIg8AAEIYAAC0CgAAahsAADddAAAICgAApwMAAMkzAACwYQAAyR0AAHIJAAAaMAAAdRcAAJ4aAADtVwAAagMAANwHAABLEwAAZEsAACICAAB9GAAAPyIAAIwIAADMCwAAjw0AADsdAADuCAAAFAkAAHwIAADYFwAAEAwAAA4cAAAsCAAAWhEAANkhAADRDAAAXwUAAIwGAAA8HQAAOhwAABIFAABdAQAAgCQAAK0SAAAJFgAAjDkAAG8cAAA0GQEA9lkAANAnAQBfIwAAChYAAMYIAAC7DwAA8ZAAAKcKAABBCQAAlQwAANg3AAAxFAAAKxIAAMcUAADFEAAAOBYAAAUcAABvCQAAWg4AAO46AAD1DQAAnwsAAKoHAAChBgAAvwMAALkLAADoJAAACTkAAOIQAADpEAAAYCsAAKQKAABa/AAAlwoAABlCAACOPAAAYiAAAEoNAABpFAAA/gcAAJ4rAABjBwAAxAcAAJgLAACnDwAA3wgAAKoKAADqEgAAOggAAJYIAAA4HQAAGgcAAGgiAAAhBwAACQYAAKsNAABoPAAAQwgAAOISAACiCQAAUAgAAE1YAABbJQAA72ACAM0HAACZDQAArSEAAFIMAADrBgAA0SwAANAUAAA1DgAAJCUAAOMGAABragAA0cIDAG4ZAAA9CgAA+0YAAPMaAABjBgAAzRYAALETAACaiAAAVg8AAKgIAABYGgAADhYAAFcaAACqbgAAQBwAAMIMAADVBAAA5AMAALIFAABODQAANgcAAFQMAADHBAAAWQ4AAF0RAAD1OwAAnAQAABEKAAC0DAAAMBwAAHELAACiDwAACw4AAKsJAADRCQAA/BoAABEEAADzHAAAQwoAAOofAAAFBwAANQMAAHwBAAA9QAAACwIAACoGAABZCgAAyhUAAE4QAAAdDQAAywMAALUBAAB2AgAAnwsAAN0KAABgAgAAwAoAAOwKAACbBAAAiwQAAAIEAACvBwAAbwIAANkhAACVAgAAxAoAANsRAADrmgAApTgAAEsmAAD2CwAAVWoAAFwgAAAUDQAAeQ4AAJQLAADxCAAAcx8AAAMRAAAyBgAA+QQAAOZRAADLJwAAIAoAAGIXAADaGQAAeRIAAMMZAAD2QwAA0CsAAG1GAABSDAAAUzEAAI8YAACcEwAARbQAABIGAADgygMAlBIAAAk7AAC4fgAAWQkAAFgNAABfHQAAvwwAANIRAAB2MwAAHhQAAMoSAACXEQAAcQUAAEIFAABHFwAAKQMAAJwIAABhDgAA8gwAALYrAACbBgAAbgsAAMdxAAD0NQAAjQUAAL0NAAAuQgAAawwAAGMSAACcHwAAoQ4AAIkIAAC9NgEAmQ0AAOElAAA7DwAAKgcAAHEUAACHCwAAEwMAALUlAADrAgAAMgkAAFcGAABqDQAALQQAADcLAADxEAAAUg4AAAUCAABqOQAAi9sAAEgLAABOGQAAbSIAABMtAADJAgAAEgcAAEUWAACXAgAA+wEAAP0XAAAMGQAA+REAACIrAACUAgAA2xYAACYkAAAaGQAAJgsAAAkEAAB7EgAAFQUAADkEAABzBAAAGwMAADEQAAB6FQAA4kUAAKoHAADnBgAA2gUAAGHgAADOAwAA6AwAAF8kAACODwAAwgIAAEgpAABzBAAA8ggAAIMGAADTDQAAgA8AAO87AABsBgAAAQMAAKARAAB6CwAAwhcAAEsCAAApFAAAgg0AAPgDAACWegAAXQEAAIgBAAC4GgAAUgoAADEoAABOBgAADwIAAGsQAADbCQAALwgAAIwFAABEIAAAOQwAAMYIAADwAQAANwgAAEwLAABLAgAAxAIAADwqAACWDQAAGgQAABQEAABcGAAAjAMAAKUOAABbBAAAsiMAAFkBAADVAQAAqAEAAJcFAAAzMwAACwIAAFQhAAAsJgAALCoAADsDAABPAQAAWAcAALMEAABmDgAAFQIAAK4fAADtAwAAghkAANMVAACx5wAAfnUAALcaAADUywEANRYAAKlEAADYIAAA5i0AAPFtAAB5GAAASxkAALkGAAC0KAAANCYAANciAADVLwAAAjIAAN9bAACAVAAAUkIAAN9ZAABroQAAEqIAAIpRAAAALAAAWJQAANpGAADeTgAAAAAAAA==",
           "dtype": "i4"
          },
          "coloraxis": "coloraxis",
          "size": {
           "bdata": "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",
           "dtype": "i4"
          },
          "sizemode": "area",
          "sizeref": 601.3688888888889
         },
         "mode": "markers",
         "name": "",
         "showlegend": false,
         "subplot": "map",
         "type": "scattermap"
        }
       ],
       "layout": {
        "coloraxis": {
         "colorbar": {
          "title": {
           "text": "POBLACION_DISTRITO"
          }
         },
         "colorscale": [
          [
           0,
           "#440154"
          ],
          [
           0.1111111111111111,
           "#482878"
          ],
          [
           0.2222222222222222,
           "#3e4989"
          ],
          [
           0.3333333333333333,
           "#31688e"
          ],
          [
           0.4444444444444444,
           "#26828e"
          ],
          [
           0.5555555555555556,
           "#1f9e89"
          ],
          [
           0.6666666666666666,
           "#35b779"
          ],
          [
           0.7777777777777778,
           "#6ece58"
          ],
          [
           0.8888888888888888,
           "#b5de2b"
          ],
          [
           1,
           "#fde725"
          ]
         ]
        },
        "legend": {
         "itemsizing": "constant",
         "tracegroupgap": 0
        },
        "map": {
         "center": {
          "lat": -11.274091700000001,
          "lon": -75.28203049999999
         },
         "domain": {
          "x": [
           0,
           1
          ],
          "y": [
           0,
           1
          ]
         },
         "zoom": 4
        },
        "mapbox": {
         "center": {
          "lat": -11.274091700000001,
          "lon": -75.28203049999999
         },
         "style": "open-street-map",
         "zoom": 4
        },
        "margin": {
         "b": 0,
         "l": 0,
         "r": 0,
         "t": 0
        },
        "template": {
         "data": {
          "bar": [
           {
            "error_x": {
             "color": "#2a3f5f"
            },
            "error_y": {
             "color": "#2a3f5f"
            },
            "marker": {
             "line": {
              "color": "#E5ECF6",
              "width": 0.5
             },
             "pattern": {
              "fillmode": "overlay",
              "size": 10,
              "solidity": 0.2
             }
            },
            "type": "bar"
           }
          ],
          "barpolar": [
           {
            "marker": {
             "line": {
              "color": "#E5ECF6",
              "width": 0.5
             },
             "pattern": {
              "fillmode": "overlay",
              "size": 10,
              "solidity": 0.2
             }
            },
            "type": "barpolar"
           }
          ],
          "carpet": [
           {
            "aaxis": {
             "endlinecolor": "#2a3f5f",
             "gridcolor": "white",
             "linecolor": "white",
             "minorgridcolor": "white",
             "startlinecolor": "#2a3f5f"
            },
            "baxis": {
             "endlinecolor": "#2a3f5f",
             "gridcolor": "white",
             "linecolor": "white",
             "minorgridcolor": "white",
             "startlinecolor": "#2a3f5f"
            },
            "type": "carpet"
           }
          ],
          "choropleth": [
           {
            "colorbar": {
             "outlinewidth": 0,
             "ticks": ""
            },
            "type": "choropleth"
           }
          ],
          "contour": [
           {
            "colorbar": {
             "outlinewidth": 0,
             "ticks": ""
            },
            "colorscale": [
             [
              0,
              "#0d0887"
             ],
             [
              0.1111111111111111,
              "#46039f"
             ],
             [
              0.2222222222222222,
              "#7201a8"
             ],
             [
              0.3333333333333333,
              "#9c179e"
             ],
             [
              0.4444444444444444,
              "#bd3786"
             ],
             [
              0.5555555555555556,
              "#d8576b"
             ],
             [
              0.6666666666666666,
              "#ed7953"
             ],
             [
              0.7777777777777778,
              "#fb9f3a"
             ],
             [
              0.8888888888888888,
              "#fdca26"
             ],
             [
              1,
              "#f0f921"
             ]
            ],
            "type": "contour"
           }
          ],
          "contourcarpet": [
           {
            "colorbar": {
             "outlinewidth": 0,
             "ticks": ""
            },
            "type": "contourcarpet"
           }
          ],
          "heatmap": [
           {
            "colorbar": {
             "outlinewidth": 0,
             "ticks": ""
            },
            "colorscale": [
             [
              0,
              "#0d0887"
             ],
             [
              0.1111111111111111,
              "#46039f"
             ],
             [
              0.2222222222222222,
              "#7201a8"
             ],
             [
              0.3333333333333333,
              "#9c179e"
             ],
             [
              0.4444444444444444,
              "#bd3786"
             ],
             [
              0.5555555555555556,
              "#d8576b"
             ],
             [
              0.6666666666666666,
              "#ed7953"
             ],
             [
              0.7777777777777778,
              "#fb9f3a"
             ],
             [
              0.8888888888888888,
              "#fdca26"
             ],
             [
              1,
              "#f0f921"
             ]
            ],
            "type": "heatmap"
           }
          ],
          "histogram": [
           {
            "marker": {
             "pattern": {
              "fillmode": "overlay",
              "size": 10,
              "solidity": 0.2
             }
            },
            "type": "histogram"
           }
          ],
          "histogram2d": [
           {
            "colorbar": {
             "outlinewidth": 0,
             "ticks": ""
            },
            "colorscale": [
             [
              0,
              "#0d0887"
             ],
             [
              0.1111111111111111,
              "#46039f"
             ],
             [
              0.2222222222222222,
              "#7201a8"
             ],
             [
              0.3333333333333333,
              "#9c179e"
             ],
             [
              0.4444444444444444,
              "#bd3786"
             ],
             [
              0.5555555555555556,
              "#d8576b"
             ],
             [
              0.6666666666666666,
              "#ed7953"
             ],
             [
              0.7777777777777778,
              "#fb9f3a"
             ],
             [
              0.8888888888888888,
              "#fdca26"
             ],
             [
              1,
              "#f0f921"
             ]
            ],
            "type": "histogram2d"
           }
          ],
          "histogram2dcontour": [
           {
            "colorbar": {
             "outlinewidth": 0,
             "ticks": ""
            },
            "colorscale": [
             [
              0,
              "#0d0887"
             ],
             [
              0.1111111111111111,
              "#46039f"
             ],
             [
              0.2222222222222222,
              "#7201a8"
             ],
             [
              0.3333333333333333,
              "#9c179e"
             ],
             [
              0.4444444444444444,
              "#bd3786"
             ],
             [
              0.5555555555555556,
              "#d8576b"
             ],
             [
              0.6666666666666666,
              "#ed7953"
             ],
             [
              0.7777777777777778,
              "#fb9f3a"
             ],
             [
              0.8888888888888888,
              "#fdca26"
             ],
             [
              1,
              "#f0f921"
             ]
            ],
            "type": "histogram2dcontour"
           }
          ],
          "mesh3d": [
           {
            "colorbar": {
             "outlinewidth": 0,
             "ticks": ""
            },
            "type": "mesh3d"
           }
          ],
          "parcoords": [
           {
            "line": {
             "colorbar": {
              "outlinewidth": 0,
              "ticks": ""
             }
            },
            "type": "parcoords"
           }
          ],
          "pie": [
           {
            "automargin": true,
            "type": "pie"
           }
          ],
          "scatter": [
           {
            "fillpattern": {
             "fillmode": "overlay",
             "size": 10,
             "solidity": 0.2
            },
            "type": "scatter"
           }
          ],
          "scatter3d": [
           {
            "line": {
             "colorbar": {
              "outlinewidth": 0,
              "ticks": ""
             }
            },
            "marker": {
             "colorbar": {
              "outlinewidth": 0,
              "ticks": ""
             }
            },
            "type": "scatter3d"
           }
          ],
          "scattercarpet": [
           {
            "marker": {
             "colorbar": {
              "outlinewidth": 0,
              "ticks": ""
             }
            },
            "type": "scattercarpet"
           }
          ],
          "scattergeo": [
           {
            "marker": {
             "colorbar": {
              "outlinewidth": 0,
              "ticks": ""
             }
            },
            "type": "scattergeo"
           }
          ],
          "scattergl": [
           {
            "marker": {
             "colorbar": {
              "outlinewidth": 0,
              "ticks": ""
             }
            },
            "type": "scattergl"
           }
          ],
          "scattermap": [
           {
            "marker": {
             "colorbar": {
              "outlinewidth": 0,
              "ticks": ""
             }
            },
            "type": "scattermap"
           }
          ],
          "scattermapbox": [
           {
            "marker": {
             "colorbar": {
              "outlinewidth": 0,
              "ticks": ""
             }
            },
            "type": "scattermapbox"
           }
          ],
          "scatterpolar": [
           {
            "marker": {
             "colorbar": {
              "outlinewidth": 0,
              "ticks": ""
             }
            },
            "type": "scatterpolar"
           }
          ],
          "scatterpolargl": [
           {
            "marker": {
             "colorbar": {
              "outlinewidth": 0,
              "ticks": ""
             }
            },
            "type": "scatterpolargl"
           }
          ],
          "scatterternary": [
           {
            "marker": {
             "colorbar": {
              "outlinewidth": 0,
              "ticks": ""
             }
            },
            "type": "scatterternary"
           }
          ],
          "surface": [
           {
            "colorbar": {
             "outlinewidth": 0,
             "ticks": ""
            },
            "colorscale": [
             [
              0,
              "#0d0887"
             ],
             [
              0.1111111111111111,
              "#46039f"
             ],
             [
              0.2222222222222222,
              "#7201a8"
             ],
             [
              0.3333333333333333,
              "#9c179e"
             ],
             [
              0.4444444444444444,
              "#bd3786"
             ],
             [
              0.5555555555555556,
              "#d8576b"
             ],
             [
              0.6666666666666666,
              "#ed7953"
             ],
             [
              0.7777777777777778,
              "#fb9f3a"
             ],
             [
              0.8888888888888888,
              "#fdca26"
             ],
             [
              1,
              "#f0f921"
             ]
            ],
            "type": "surface"
           }
          ],
          "table": [
           {
            "cells": {
             "fill": {
              "color": "#EBF0F8"
             },
             "line": {
              "color": "white"
             }
            },
            "header": {
             "fill": {
              "color": "#C8D4E3"
             },
             "line": {
              "color": "white"
             }
            },
            "type": "table"
           }
          ]
         },
         "layout": {
          "annotationdefaults": {
           "arrowcolor": "#2a3f5f",
           "arrowhead": 0,
           "arrowwidth": 1
          },
          "autotypenumbers": "strict",
          "coloraxis": {
           "colorbar": {
            "outlinewidth": 0,
            "ticks": ""
           }
          },
          "colorscale": {
           "diverging": [
            [
             0,
             "#8e0152"
            ],
            [
             0.1,
             "#c51b7d"
            ],
            [
             0.2,
             "#de77ae"
            ],
            [
             0.3,
             "#f1b6da"
            ],
            [
             0.4,
             "#fde0ef"
            ],
            [
             0.5,
             "#f7f7f7"
            ],
            [
             0.6,
             "#e6f5d0"
            ],
            [
             0.7,
             "#b8e186"
            ],
            [
             0.8,
             "#7fbc41"
            ],
            [
             0.9,
             "#4d9221"
            ],
            [
             1,
             "#276419"
            ]
           ],
           "sequential": [
            [
             0,
             "#0d0887"
            ],
            [
             0.1111111111111111,
             "#46039f"
            ],
            [
             0.2222222222222222,
             "#7201a8"
            ],
            [
             0.3333333333333333,
             "#9c179e"
            ],
            [
             0.4444444444444444,
             "#bd3786"
            ],
            [
             0.5555555555555556,
             "#d8576b"
            ],
            [
             0.6666666666666666,
             "#ed7953"
            ],
            [
             0.7777777777777778,
             "#fb9f3a"
            ],
            [
             0.8888888888888888,
             "#fdca26"
            ],
            [
             1,
             "#f0f921"
            ]
           ],
           "sequentialminus": [
            [
             0,
             "#0d0887"
            ],
            [
             0.1111111111111111,
             "#46039f"
            ],
            [
             0.2222222222222222,
             "#7201a8"
            ],
            [
             0.3333333333333333,
             "#9c179e"
            ],
            [
             0.4444444444444444,
             "#bd3786"
            ],
            [
             0.5555555555555556,
             "#d8576b"
            ],
            [
             0.6666666666666666,
             "#ed7953"
            ],
            [
             0.7777777777777778,
             "#fb9f3a"
            ],
            [
             0.8888888888888888,
             "#fdca26"
            ],
            [
             1,
             "#f0f921"
            ]
           ]
          },
          "colorway": [
           "#636efa",
           "#EF553B",
           "#00cc96",
           "#ab63fa",
           "#FFA15A",
           "#19d3f3",
           "#FF6692",
           "#B6E880",
           "#FF97FF",
           "#FECB52"
          ],
          "font": {
           "color": "#2a3f5f"
          },
          "geo": {
           "bgcolor": "white",
           "lakecolor": "white",
           "landcolor": "#E5ECF6",
           "showlakes": true,
           "showland": true,
           "subunitcolor": "white"
          },
          "hoverlabel": {
           "align": "left"
          },
          "hovermode": "closest",
          "mapbox": {
           "style": "light"
          },
          "paper_bgcolor": "white",
          "plot_bgcolor": "#E5ECF6",
          "polar": {
           "angularaxis": {
            "gridcolor": "white",
            "linecolor": "white",
            "ticks": ""
           },
           "bgcolor": "#E5ECF6",
           "radialaxis": {
            "gridcolor": "white",
            "linecolor": "white",
            "ticks": ""
           }
          },
          "scene": {
           "xaxis": {
            "backgroundcolor": "#E5ECF6",
            "gridcolor": "white",
            "gridwidth": 2,
            "linecolor": "white",
            "showbackground": true,
            "ticks": "",
            "zerolinecolor": "white"
           },
           "yaxis": {
            "backgroundcolor": "#E5ECF6",
            "gridcolor": "white",
            "gridwidth": 2,
            "linecolor": "white",
            "showbackground": true,
            "ticks": "",
            "zerolinecolor": "white"
           },
           "zaxis": {
            "backgroundcolor": "#E5ECF6",
            "gridcolor": "white",
            "gridwidth": 2,
            "linecolor": "white",
            "showbackground": true,
            "ticks": "",
            "zerolinecolor": "white"
           }
          },
          "shapedefaults": {
           "line": {
            "color": "#2a3f5f"
           }
          },
          "ternary": {
           "aaxis": {
            "gridcolor": "white",
            "linecolor": "white",
            "ticks": ""
           },
           "baxis": {
            "gridcolor": "white",
            "linecolor": "white",
            "ticks": ""
           },
           "bgcolor": "#E5ECF6",
           "caxis": {
            "gridcolor": "white",
            "linecolor": "white",
            "ticks": ""
           }
          },
          "title": {
           "x": 0.05
          },
          "xaxis": {
           "automargin": true,
           "gridcolor": "white",
           "linecolor": "white",
           "ticks": "",
           "title": {
            "standoff": 15
           },
           "zerolinecolor": "white",
           "zerolinewidth": 2
          },
          "yaxis": {
           "automargin": true,
           "gridcolor": "white",
           "linecolor": "white",
           "ticks": "",
           "title": {
            "standoff": 15
           },
           "zerolinecolor": "white",
           "zerolinewidth": 2
          }
         }
        },
        "title": {
         "text": "Mapa de Poblacion por Distrito"
        }
       }
      }
     },
     "metadata": {},
     "output_type": "display_data"
    }
   ],
   "source": [
    "df_grouped = dim_ubigeo.groupby(['LATITUD', 'LONGITUD'], as_index=False)['POBLACION_DISTRITO'].sum()\n",
    "\n",
    "# fig = px.scatter_mapbox(\n",
    "fig = px.scatter_map(\n",
    "    df_grouped,\n",
    "    lat='LATITUD',\n",
    "    lon='LONGITUD',\n",
    "    size='POBLACION_DISTRITO',\n",
    "    color='POBLACION_DISTRITO',\n",
    "    hover_data={'LATITUD': True, 'LONGITUD': True, 'POBLACION_DISTRITO': True},\n",
    "    color_continuous_scale='Viridis',\n",
    "    size_max=30,\n",
    "    zoom=4,\n",
    "    title=\"Mapa de Poblacion por Distrito\"\n",
    ")\n",
    "\n",
    "fig.update_layout(\n",
    "    mapbox_style='open-street-map',\n",
    "    margin={\"r\":0,\"t\":0,\"l\":0,\"b\":0}\n",
    ")\n",
    "\n",
    "fig.show()"
   ]
  },
  {
   "cell_type": "markdown",
   "id": "60840674",
   "metadata": {},
   "source": [
    "#### Merge"
   ]
  },
  {
   "cell_type": "markdown",
   "id": "3747291a",
   "metadata": {},
   "source": [
    "Se realiza el merge para asignar el departamento correspondiente a cada universidad"
   ]
  },
  {
   "cell_type": "code",
   "execution_count": 20,
   "id": "029ac826",
   "metadata": {},
   "outputs": [
    {
     "data": {
      "text/html": [
       "<div>\n",
       "<style scoped>\n",
       "    .dataframe tbody tr th:only-of-type {\n",
       "        vertical-align: middle;\n",
       "    }\n",
       "\n",
       "    .dataframe tbody tr th {\n",
       "        vertical-align: top;\n",
       "    }\n",
       "\n",
       "    .dataframe thead th {\n",
       "        text-align: right;\n",
       "    }\n",
       "</style>\n",
       "<table border=\"1\" class=\"dataframe\">\n",
       "  <thead>\n",
       "    <tr style=\"text-align: right;\">\n",
       "      <th></th>\n",
       "      <th>DEPARTAMENTO_INEI</th>\n",
       "      <th>DEPARTAMENTO</th>\n",
       "    </tr>\n",
       "  </thead>\n",
       "  <tbody>\n",
       "    <tr>\n",
       "      <th>0</th>\n",
       "      <td>99</td>\n",
       "      <td>99</td>\n",
       "    </tr>\n",
       "    <tr>\n",
       "      <th>1</th>\n",
       "      <td>01</td>\n",
       "      <td>AMAZONAS</td>\n",
       "    </tr>\n",
       "    <tr>\n",
       "      <th>85</th>\n",
       "      <td>02</td>\n",
       "      <td>ANCASH</td>\n",
       "    </tr>\n",
       "    <tr>\n",
       "      <th>251</th>\n",
       "      <td>03</td>\n",
       "      <td>APURIMAC</td>\n",
       "    </tr>\n",
       "    <tr>\n",
       "      <th>335</th>\n",
       "      <td>04</td>\n",
       "      <td>AREQUIPA</td>\n",
       "    </tr>\n",
       "    <tr>\n",
       "      <th>444</th>\n",
       "      <td>05</td>\n",
       "      <td>AYACUCHO</td>\n",
       "    </tr>\n",
       "    <tr>\n",
       "      <th>563</th>\n",
       "      <td>06</td>\n",
       "      <td>CAJAMARCA</td>\n",
       "    </tr>\n",
       "    <tr>\n",
       "      <th>690</th>\n",
       "      <td>07</td>\n",
       "      <td>CALLAO</td>\n",
       "    </tr>\n",
       "    <tr>\n",
       "      <th>697</th>\n",
       "      <td>08</td>\n",
       "      <td>CUSCO</td>\n",
       "    </tr>\n",
       "    <tr>\n",
       "      <th>809</th>\n",
       "      <td>09</td>\n",
       "      <td>HUANCAVELICA</td>\n",
       "    </tr>\n",
       "    <tr>\n",
       "      <th>909</th>\n",
       "      <td>10</td>\n",
       "      <td>HUANUCO</td>\n",
       "    </tr>\n",
       "    <tr>\n",
       "      <th>993</th>\n",
       "      <td>11</td>\n",
       "      <td>ICA</td>\n",
       "    </tr>\n",
       "  </tbody>\n",
       "</table>\n",
       "</div>"
      ],
      "text/plain": [
       "    DEPARTAMENTO_INEI  DEPARTAMENTO\n",
       "0                  99            99\n",
       "1                  01      AMAZONAS\n",
       "85                 02        ANCASH\n",
       "251                03      APURIMAC\n",
       "335                04      AREQUIPA\n",
       "444                05      AYACUCHO\n",
       "563                06     CAJAMARCA\n",
       "690                07        CALLAO\n",
       "697                08         CUSCO\n",
       "809                09  HUANCAVELICA\n",
       "909                10       HUANUCO\n",
       "993                11           ICA"
      ]
     },
     "execution_count": 20,
     "metadata": {},
     "output_type": "execute_result"
    }
   ],
   "source": [
    "dim_ubigeo_unico = dim_ubigeo.drop_duplicates(subset='DEPARTAMENTO_INEI')\n",
    "dim_ubigeo_unico[[\"DEPARTAMENTO_INEI\", \"DEPARTAMENTO\"]]"
   ]
  },
  {
   "cell_type": "code",
   "execution_count": 21,
   "id": "a0beea7d",
   "metadata": {},
   "outputs": [
    {
     "data": {
      "text/html": [
       "<div>\n",
       "<style scoped>\n",
       "    .dataframe tbody tr th:only-of-type {\n",
       "        vertical-align: middle;\n",
       "    }\n",
       "\n",
       "    .dataframe tbody tr th {\n",
       "        vertical-align: top;\n",
       "    }\n",
       "\n",
       "    .dataframe thead th {\n",
       "        text-align: right;\n",
       "    }\n",
       "</style>\n",
       "<table border=\"1\" class=\"dataframe\">\n",
       "  <thead>\n",
       "    <tr style=\"text-align: right;\">\n",
       "      <th></th>\n",
       "      <th>COD_DEPARTAMENTO_EJEC</th>\n",
       "      <th>NOMBRE</th>\n",
       "      <th>DEPARTAMENTO</th>\n",
       "      <th>EJECUTORA_ID</th>\n",
       "    </tr>\n",
       "  </thead>\n",
       "  <tbody>\n",
       "    <tr>\n",
       "      <th>31</th>\n",
       "      <td>03</td>\n",
       "      <td>UNIVERSIDAD NACIONAL MICAELA BASTIDAS DE APURIMAC</td>\n",
       "      <td>APURIMAC</td>\n",
       "      <td>49</td>\n",
       "    </tr>\n",
       "    <tr>\n",
       "      <th>5</th>\n",
       "      <td>15</td>\n",
       "      <td>UNIVERSIDAD NACIONAL DE EDUCACION ENRIQUE GUZM...</td>\n",
       "      <td>NaN</td>\n",
       "      <td>6</td>\n",
       "    </tr>\n",
       "    <tr>\n",
       "      <th>32</th>\n",
       "      <td>17</td>\n",
       "      <td>UNIVERSIDAD NACIONAL AMAZONICA DE MADRE DE DIOS</td>\n",
       "      <td>NaN</td>\n",
       "      <td>51</td>\n",
       "    </tr>\n",
       "    <tr>\n",
       "      <th>13</th>\n",
       "      <td>12</td>\n",
       "      <td>U. N. AUTÓNOMA ALTOANADINA DE TARMA - UNAAT</td>\n",
       "      <td>NaN</td>\n",
       "      <td>16</td>\n",
       "    </tr>\n",
       "    <tr>\n",
       "      <th>19</th>\n",
       "      <td>06</td>\n",
       "      <td>UNIVERSIDAD NACIONAL AUTONOMA DE CHOTA</td>\n",
       "      <td>CAJAMARCA</td>\n",
       "      <td>24</td>\n",
       "    </tr>\n",
       "  </tbody>\n",
       "</table>\n",
       "</div>"
      ],
      "text/plain": [
       "   COD_DEPARTAMENTO_EJEC                                             NOMBRE  \\\n",
       "31                    03  UNIVERSIDAD NACIONAL MICAELA BASTIDAS DE APURIMAC   \n",
       "5                     15  UNIVERSIDAD NACIONAL DE EDUCACION ENRIQUE GUZM...   \n",
       "32                    17    UNIVERSIDAD NACIONAL AMAZONICA DE MADRE DE DIOS   \n",
       "13                    12        U. N. AUTÓNOMA ALTOANADINA DE TARMA - UNAAT   \n",
       "19                    06             UNIVERSIDAD NACIONAL AUTONOMA DE CHOTA   \n",
       "\n",
       "   DEPARTAMENTO  EJECUTORA_ID  \n",
       "31     APURIMAC            49  \n",
       "5           NaN             6  \n",
       "32          NaN            51  \n",
       "13          NaN            16  \n",
       "19    CAJAMARCA            24  "
      ]
     },
     "execution_count": 21,
     "metadata": {},
     "output_type": "execute_result"
    }
   ],
   "source": [
    "df_combinado = df_universidades.merge(\n",
    "    dim_ubigeo_unico,\n",
    "    left_on='COD_DEPARTAMENTO_EJEC',\n",
    "    right_on='DEPARTAMENTO_INEI',\n",
    "    how='left'\n",
    ")\n",
    "df_uni_depa = df_combinado[['COD_DEPARTAMENTO_EJEC', 'NOMBRE', 'DEPARTAMENTO', \"EJECUTORA_ID\"]]\n",
    "df_uni_depa.sample(5, random_state=42)"
   ]
  },
  {
   "cell_type": "markdown",
   "id": "94ed31fd",
   "metadata": {},
   "source": [
    "Sin embargo, se observa que no se cuenta con la informacion de todos los departamentos debido a los NaN luego de hacer el merge"
   ]
  },
  {
   "cell_type": "code",
   "execution_count": 22,
   "id": "e5b911cc",
   "metadata": {},
   "outputs": [
    {
     "data": {
      "text/plain": [
       "(12, 20)"
      ]
     },
     "execution_count": 22,
     "metadata": {},
     "output_type": "execute_result"
    }
   ],
   "source": [
    "dim_ubigeo_unico = dim_ubigeo.drop_duplicates(subset='DEPARTAMENTO_INEI')\n",
    "dim_ubigeo_unico.shape"
   ]
  },
  {
   "cell_type": "markdown",
   "id": "f7d050e6",
   "metadata": {},
   "source": [
    "Efectivamente, solo estan los identificadores de 12 departamentos de los 24 del Peru.  Para completar estos datos faltantes, se utilizara la data de https://datosabiertos.gob.pe/dataset/codigos-equivalentes-de-ubigeo-del-peru"
   ]
  },
  {
   "cell_type": "code",
   "execution_count": 23,
   "id": "6a4476bc",
   "metadata": {},
   "outputs": [
    {
     "data": {
      "text/html": [
       "<div>\n",
       "<style scoped>\n",
       "    .dataframe tbody tr th:only-of-type {\n",
       "        vertical-align: middle;\n",
       "    }\n",
       "\n",
       "    .dataframe tbody tr th {\n",
       "        vertical-align: top;\n",
       "    }\n",
       "\n",
       "    .dataframe thead th {\n",
       "        text-align: right;\n",
       "    }\n",
       "</style>\n",
       "<table border=\"1\" class=\"dataframe\">\n",
       "  <thead>\n",
       "    <tr style=\"text-align: right;\">\n",
       "      <th></th>\n",
       "      <th>id_ubigeo</th>\n",
       "      <th>ubigeo_reniec</th>\n",
       "      <th>ubigeo_inei</th>\n",
       "      <th>departamento_inei</th>\n",
       "      <th>departamento</th>\n",
       "      <th>provincia_inei</th>\n",
       "      <th>provincia</th>\n",
       "      <th>distrito</th>\n",
       "      <th>region</th>\n",
       "      <th>macroregion_inei</th>\n",
       "      <th>macroregion_minsa</th>\n",
       "      <th>iso_3166_2</th>\n",
       "      <th>fips</th>\n",
       "      <th>superficie</th>\n",
       "      <th>altitud</th>\n",
       "      <th>latitud</th>\n",
       "      <th>longitud</th>\n",
       "      <th>Frontera</th>\n",
       "    </tr>\n",
       "  </thead>\n",
       "  <tbody>\n",
       "    <tr>\n",
       "      <th>0</th>\n",
       "      <td>1</td>\n",
       "      <td>10101.0</td>\n",
       "      <td>10101</td>\n",
       "      <td>1</td>\n",
       "      <td>AMAZONAS</td>\n",
       "      <td>101</td>\n",
       "      <td>CHACHAPOYAS</td>\n",
       "      <td>CHACHAPOYAS</td>\n",
       "      <td>AMAZONAS</td>\n",
       "      <td>ORIENTE</td>\n",
       "      <td>MACROREGION ORIENTE</td>\n",
       "      <td>PE-AMA</td>\n",
       "      <td>1</td>\n",
       "      <td>154.0</td>\n",
       "      <td>2338.0</td>\n",
       "      <td>-6,2294</td>\n",
       "      <td>-77,8728</td>\n",
       "      <td>NO</td>\n",
       "    </tr>\n",
       "    <tr>\n",
       "      <th>1</th>\n",
       "      <td>2</td>\n",
       "      <td>10102.0</td>\n",
       "      <td>10102</td>\n",
       "      <td>1</td>\n",
       "      <td>AMAZONAS</td>\n",
       "      <td>101</td>\n",
       "      <td>CHACHAPOYAS</td>\n",
       "      <td>ASUNCION</td>\n",
       "      <td>AMAZONAS</td>\n",
       "      <td>ORIENTE</td>\n",
       "      <td>MACROREGION ORIENTE</td>\n",
       "      <td>PE-AMA</td>\n",
       "      <td>1</td>\n",
       "      <td>26.0</td>\n",
       "      <td>2823.0</td>\n",
       "      <td>-6,0325</td>\n",
       "      <td>-77,7108</td>\n",
       "      <td>NO</td>\n",
       "    </tr>\n",
       "    <tr>\n",
       "      <th>2</th>\n",
       "      <td>3</td>\n",
       "      <td>10103.0</td>\n",
       "      <td>10103</td>\n",
       "      <td>1</td>\n",
       "      <td>AMAZONAS</td>\n",
       "      <td>101</td>\n",
       "      <td>CHACHAPOYAS</td>\n",
       "      <td>BALSAS</td>\n",
       "      <td>AMAZONAS</td>\n",
       "      <td>ORIENTE</td>\n",
       "      <td>MACROREGION ORIENTE</td>\n",
       "      <td>PE-AMA</td>\n",
       "      <td>1</td>\n",
       "      <td>357.0</td>\n",
       "      <td>859.0</td>\n",
       "      <td>-6,8358</td>\n",
       "      <td>-78,0197</td>\n",
       "      <td>NO</td>\n",
       "    </tr>\n",
       "  </tbody>\n",
       "</table>\n",
       "</div>"
      ],
      "text/plain": [
       "   id_ubigeo  ubigeo_reniec  ubigeo_inei  departamento_inei departamento  \\\n",
       "0          1        10101.0        10101                  1     AMAZONAS   \n",
       "1          2        10102.0        10102                  1     AMAZONAS   \n",
       "2          3        10103.0        10103                  1     AMAZONAS   \n",
       "\n",
       "   provincia_inei    provincia     distrito    region macroregion_inei  \\\n",
       "0             101  CHACHAPOYAS  CHACHAPOYAS  AMAZONAS          ORIENTE   \n",
       "1             101  CHACHAPOYAS     ASUNCION  AMAZONAS          ORIENTE   \n",
       "2             101  CHACHAPOYAS       BALSAS  AMAZONAS          ORIENTE   \n",
       "\n",
       "     macroregion_minsa iso_3166_2  fips  superficie  altitud  latitud  \\\n",
       "0  MACROREGION ORIENTE     PE-AMA     1       154.0   2338.0  -6,2294   \n",
       "1  MACROREGION ORIENTE     PE-AMA     1        26.0   2823.0  -6,0325   \n",
       "2  MACROREGION ORIENTE     PE-AMA     1       357.0    859.0  -6,8358   \n",
       "\n",
       "   longitud Frontera  \n",
       "0  -77,8728       NO  \n",
       "1  -77,7108       NO  \n",
       "2  -78,0197       NO  "
      ]
     },
     "execution_count": 23,
     "metadata": {},
     "output_type": "execute_result"
    }
   ],
   "source": [
    "df_codigos = pd.read_csv(\"data\\\\TB_UBIGEOS.csv\", sep=';')  # corregir ruta si se ejecuta desde el navegador\n",
    "df_codigos.head(3)"
   ]
  },
  {
   "cell_type": "code",
   "execution_count": 24,
   "id": "af0f0401",
   "metadata": {},
   "outputs": [
    {
     "data": {
      "text/html": [
       "<div>\n",
       "<style scoped>\n",
       "    .dataframe tbody tr th:only-of-type {\n",
       "        vertical-align: middle;\n",
       "    }\n",
       "\n",
       "    .dataframe tbody tr th {\n",
       "        vertical-align: top;\n",
       "    }\n",
       "\n",
       "    .dataframe thead th {\n",
       "        text-align: right;\n",
       "    }\n",
       "</style>\n",
       "<table border=\"1\" class=\"dataframe\">\n",
       "  <thead>\n",
       "    <tr style=\"text-align: right;\">\n",
       "      <th></th>\n",
       "      <th>departamento_inei</th>\n",
       "      <th>departamento</th>\n",
       "    </tr>\n",
       "  </thead>\n",
       "  <tbody>\n",
       "    <tr>\n",
       "      <th>0</th>\n",
       "      <td>1</td>\n",
       "      <td>AMAZONAS</td>\n",
       "    </tr>\n",
       "    <tr>\n",
       "      <th>1</th>\n",
       "      <td>2</td>\n",
       "      <td>ANCASH</td>\n",
       "    </tr>\n",
       "    <tr>\n",
       "      <th>2</th>\n",
       "      <td>3</td>\n",
       "      <td>APURIMAC</td>\n",
       "    </tr>\n",
       "    <tr>\n",
       "      <th>3</th>\n",
       "      <td>4</td>\n",
       "      <td>AREQUIPA</td>\n",
       "    </tr>\n",
       "    <tr>\n",
       "      <th>4</th>\n",
       "      <td>5</td>\n",
       "      <td>AYACUCHO</td>\n",
       "    </tr>\n",
       "    <tr>\n",
       "      <th>5</th>\n",
       "      <td>6</td>\n",
       "      <td>CAJAMARCA</td>\n",
       "    </tr>\n",
       "    <tr>\n",
       "      <th>6</th>\n",
       "      <td>7</td>\n",
       "      <td>CALLAO</td>\n",
       "    </tr>\n",
       "    <tr>\n",
       "      <th>7</th>\n",
       "      <td>8</td>\n",
       "      <td>CUSCO</td>\n",
       "    </tr>\n",
       "    <tr>\n",
       "      <th>8</th>\n",
       "      <td>9</td>\n",
       "      <td>HUANCAVELICA</td>\n",
       "    </tr>\n",
       "    <tr>\n",
       "      <th>9</th>\n",
       "      <td>10</td>\n",
       "      <td>HUANUCO</td>\n",
       "    </tr>\n",
       "    <tr>\n",
       "      <th>10</th>\n",
       "      <td>11</td>\n",
       "      <td>ICA</td>\n",
       "    </tr>\n",
       "    <tr>\n",
       "      <th>11</th>\n",
       "      <td>12</td>\n",
       "      <td>JUNIN</td>\n",
       "    </tr>\n",
       "    <tr>\n",
       "      <th>12</th>\n",
       "      <td>13</td>\n",
       "      <td>LA LIBERTAD</td>\n",
       "    </tr>\n",
       "    <tr>\n",
       "      <th>13</th>\n",
       "      <td>14</td>\n",
       "      <td>LAMBAYEQUE</td>\n",
       "    </tr>\n",
       "    <tr>\n",
       "      <th>14</th>\n",
       "      <td>15</td>\n",
       "      <td>LIMA</td>\n",
       "    </tr>\n",
       "    <tr>\n",
       "      <th>15</th>\n",
       "      <td>16</td>\n",
       "      <td>LORETO</td>\n",
       "    </tr>\n",
       "    <tr>\n",
       "      <th>16</th>\n",
       "      <td>24</td>\n",
       "      <td>TUMBES</td>\n",
       "    </tr>\n",
       "    <tr>\n",
       "      <th>17</th>\n",
       "      <td>25</td>\n",
       "      <td>UCAYALI</td>\n",
       "    </tr>\n",
       "    <tr>\n",
       "      <th>18</th>\n",
       "      <td>18</td>\n",
       "      <td>MOQUEGUA</td>\n",
       "    </tr>\n",
       "    <tr>\n",
       "      <th>19</th>\n",
       "      <td>22</td>\n",
       "      <td>SAN MARTIN</td>\n",
       "    </tr>\n",
       "    <tr>\n",
       "      <th>20</th>\n",
       "      <td>17</td>\n",
       "      <td>MADRE DE DIOS</td>\n",
       "    </tr>\n",
       "    <tr>\n",
       "      <th>21</th>\n",
       "      <td>19</td>\n",
       "      <td>PASCO</td>\n",
       "    </tr>\n",
       "    <tr>\n",
       "      <th>22</th>\n",
       "      <td>20</td>\n",
       "      <td>PIURA</td>\n",
       "    </tr>\n",
       "    <tr>\n",
       "      <th>23</th>\n",
       "      <td>21</td>\n",
       "      <td>PUNO</td>\n",
       "    </tr>\n",
       "    <tr>\n",
       "      <th>24</th>\n",
       "      <td>23</td>\n",
       "      <td>TACNA</td>\n",
       "    </tr>\n",
       "  </tbody>\n",
       "</table>\n",
       "</div>"
      ],
      "text/plain": [
       "    departamento_inei   departamento\n",
       "0                   1       AMAZONAS\n",
       "1                   2         ANCASH\n",
       "2                   3       APURIMAC\n",
       "3                   4       AREQUIPA\n",
       "4                   5       AYACUCHO\n",
       "5                   6      CAJAMARCA\n",
       "6                   7         CALLAO\n",
       "7                   8          CUSCO\n",
       "8                   9   HUANCAVELICA\n",
       "9                  10        HUANUCO\n",
       "10                 11            ICA\n",
       "11                 12          JUNIN\n",
       "12                 13    LA LIBERTAD\n",
       "13                 14     LAMBAYEQUE\n",
       "14                 15           LIMA\n",
       "15                 16         LORETO\n",
       "16                 24         TUMBES\n",
       "17                 25        UCAYALI\n",
       "18                 18       MOQUEGUA\n",
       "19                 22     SAN MARTIN\n",
       "20                 17  MADRE DE DIOS\n",
       "21                 19          PASCO\n",
       "22                 20          PIURA\n",
       "23                 21           PUNO\n",
       "24                 23          TACNA"
      ]
     },
     "execution_count": 24,
     "metadata": {},
     "output_type": "execute_result"
    }
   ],
   "source": [
    "df_cod_depa = df_codigos[['departamento_inei', 'departamento']].drop_duplicates().reset_index(drop=True)\n",
    "df_cod_depa"
   ]
  },
  {
   "cell_type": "code",
   "execution_count": 25,
   "id": "ca7b00e7",
   "metadata": {},
   "outputs": [
    {
     "name": "stdout",
     "output_type": "stream",
     "text": [
      "<class 'pandas.core.frame.DataFrame'>\n",
      "RangeIndex: 25 entries, 0 to 24\n",
      "Data columns (total 2 columns):\n",
      " #   Column             Non-Null Count  Dtype \n",
      "---  ------             --------------  ----- \n",
      " 0   departamento_inei  25 non-null     int64 \n",
      " 1   departamento       25 non-null     object\n",
      "dtypes: int64(1), object(1)\n",
      "memory usage: 532.0+ bytes\n"
     ]
    }
   ],
   "source": [
    "df_cod_depa.info()"
   ]
  },
  {
   "cell_type": "markdown",
   "id": "68f4b17e",
   "metadata": {},
   "source": [
    "Como los codigos estan almacenados como numeros enteros, hay que convertirlos a strings"
   ]
  },
  {
   "cell_type": "code",
   "execution_count": 26,
   "id": "5679b3a9",
   "metadata": {},
   "outputs": [],
   "source": [
    "df_cod_depa['departamento_inei'] = df_cod_depa['departamento_inei'].astype(str)"
   ]
  },
  {
   "cell_type": "markdown",
   "id": "246d4bda",
   "metadata": {},
   "source": [
    "y remover los ceros adelante del df de universidades"
   ]
  },
  {
   "cell_type": "code",
   "execution_count": 27,
   "id": "ef3c2a80",
   "metadata": {},
   "outputs": [],
   "source": [
    "df_universidades.loc[:, 'COD_DEPARTAMENTO_EJEC'] = df_universidades['COD_DEPARTAMENTO_EJEC'].astype(str).str.lstrip('0')\n"
   ]
  },
  {
   "cell_type": "markdown",
   "id": "8e80e116",
   "metadata": {},
   "source": [
    "Ahora si, se completaran los datos NaN"
   ]
  },
  {
   "cell_type": "code",
   "execution_count": 28,
   "id": "66954bd2",
   "metadata": {},
   "outputs": [
    {
     "data": {
      "text/html": [
       "<div>\n",
       "<style scoped>\n",
       "    .dataframe tbody tr th:only-of-type {\n",
       "        vertical-align: middle;\n",
       "    }\n",
       "\n",
       "    .dataframe tbody tr th {\n",
       "        vertical-align: top;\n",
       "    }\n",
       "\n",
       "    .dataframe thead th {\n",
       "        text-align: right;\n",
       "    }\n",
       "</style>\n",
       "<table border=\"1\" class=\"dataframe\">\n",
       "  <thead>\n",
       "    <tr style=\"text-align: right;\">\n",
       "      <th></th>\n",
       "      <th>NOMBRE</th>\n",
       "      <th>departamento</th>\n",
       "      <th>EJECUTORA_ID</th>\n",
       "    </tr>\n",
       "  </thead>\n",
       "  <tbody>\n",
       "    <tr>\n",
       "      <th>31</th>\n",
       "      <td>UNIVERSIDAD NACIONAL MICAELA BASTIDAS DE APURIMAC</td>\n",
       "      <td>APURIMAC</td>\n",
       "      <td>49</td>\n",
       "    </tr>\n",
       "    <tr>\n",
       "      <th>5</th>\n",
       "      <td>UNIVERSIDAD NACIONAL DE EDUCACION ENRIQUE GUZM...</td>\n",
       "      <td>LIMA</td>\n",
       "      <td>6</td>\n",
       "    </tr>\n",
       "    <tr>\n",
       "      <th>32</th>\n",
       "      <td>UNIVERSIDAD NACIONAL AMAZONICA DE MADRE DE DIOS</td>\n",
       "      <td>MADRE DE DIOS</td>\n",
       "      <td>51</td>\n",
       "    </tr>\n",
       "    <tr>\n",
       "      <th>13</th>\n",
       "      <td>U. N. AUTÓNOMA ALTOANADINA DE TARMA - UNAAT</td>\n",
       "      <td>JUNIN</td>\n",
       "      <td>16</td>\n",
       "    </tr>\n",
       "    <tr>\n",
       "      <th>19</th>\n",
       "      <td>UNIVERSIDAD NACIONAL AUTONOMA DE CHOTA</td>\n",
       "      <td>CAJAMARCA</td>\n",
       "      <td>24</td>\n",
       "    </tr>\n",
       "  </tbody>\n",
       "</table>\n",
       "</div>"
      ],
      "text/plain": [
       "                                               NOMBRE   departamento  \\\n",
       "31  UNIVERSIDAD NACIONAL MICAELA BASTIDAS DE APURIMAC       APURIMAC   \n",
       "5   UNIVERSIDAD NACIONAL DE EDUCACION ENRIQUE GUZM...           LIMA   \n",
       "32    UNIVERSIDAD NACIONAL AMAZONICA DE MADRE DE DIOS  MADRE DE DIOS   \n",
       "13        U. N. AUTÓNOMA ALTOANADINA DE TARMA - UNAAT          JUNIN   \n",
       "19             UNIVERSIDAD NACIONAL AUTONOMA DE CHOTA      CAJAMARCA   \n",
       "\n",
       "    EJECUTORA_ID  \n",
       "31            49  \n",
       "5              6  \n",
       "32            51  \n",
       "13            16  \n",
       "19            24  "
      ]
     },
     "execution_count": 28,
     "metadata": {},
     "output_type": "execute_result"
    }
   ],
   "source": [
    "df_combinado_correcto = df_universidades.merge(\n",
    "    df_cod_depa,\n",
    "    left_on='COD_DEPARTAMENTO_EJEC',\n",
    "    right_on='departamento_inei',\n",
    "    how='left'\n",
    ")\n",
    "df_uni_depa_corr = df_combinado_correcto[['NOMBRE', 'departamento', \"EJECUTORA_ID\"]]\n",
    "df_uni_depa_corr.sample(5, random_state=42)"
   ]
  },
  {
   "cell_type": "code",
   "execution_count": 29,
   "id": "7e6e5a9e",
   "metadata": {},
   "outputs": [],
   "source": [
    "conteo = df_uni_depa_corr['departamento'].value_counts().reset_index()\n",
    "conteo.columns = ['departamento', 'cantidad_universidades']"
   ]
  },
  {
   "cell_type": "code",
   "execution_count": 30,
   "id": "a71af4e5",
   "metadata": {},
   "outputs": [
    {
     "data": {
      "image/png": "[encoded data removed]",
      "text/plain": [
       "<Figure size 1000x1200 with 2 Axes>"
      ]
     },
     "metadata": {},
     "output_type": "display_data"
    }
   ],
   "source": [
    "gdf = gpd.read_file(\"peru_departamental_simple.geojson\")\n",
    "\n",
    "mapa_peru = gdf.merge(\n",
    "    conteo,\n",
    "    left_on='NOMBDEP',\n",
    "    right_on='departamento',\n",
    "    how='left'\n",
    ")\n",
    "mapa_peru['cantidad_universidades'] = mapa_peru['cantidad_universidades'].fillna(0)\n",
    "\n",
    "fig, ax = plt.subplots(figsize=(10, 12))\n",
    "gdf.plot(ax=ax, color='lightgrey', edgecolor='white')  # mapa base\n",
    "\n",
    "mapa_peru.plot(\n",
    "    ax=ax,\n",
    "    markersize=mapa_peru['cantidad_universidades'] * 100,  # escalas\n",
    "    column='cantidad_universidades',\n",
    "    cmap='Blues',\n",
    "    legend=True,\n",
    "    alpha=0.7\n",
    ")\n",
    "\n",
    "plt.title('Cantidad de universidades nacionales por departamento')\n",
    "plt.axis('off')\n",
    "plt.tight_layout()\n",
    "plt.show()"
   ]
  },
  {
   "cell_type": "markdown",
   "id": "82cd8567",
   "metadata": {},
   "source": [
    "#### Gastos por universidad"
   ]
  },
  {
   "cell_type": "code",
   "execution_count": 31,
   "id": "66dc050f",
   "metadata": {},
   "outputs": [],
   "source": [
    "df_gastos = pd.read_sql(\"\"\"\n",
    "SELECT [UBIGEO_ID]\n",
    "    ,[EJECUTORA_ID]\n",
    "    ,[FUENTE_ID]\n",
    "    ,[NIVEL_GOBIERNO_ID]\n",
    "    ,[PLIEGO_ID]\n",
    "    ,[SECTOR_ID]\n",
    "    ,[PROGRAMA_ID]\n",
    "    ,[PROGRAMA_PPTO_ID]\n",
    "    ,[ESPECIFICA_DET_ID]\n",
    "    ,[RUBRO_ID]\n",
    "    ,[CATEGORIA_GASTO_ID]\n",
    "    ,[UNIDAD_MEDIDA_ID]\n",
    "    ,[FINALIDAD_ID]\n",
    "    ,[ANIO_ID]\n",
    "    ,[PIA]\n",
    "    ,[PIM]\n",
    "    ,[Certificado]\n",
    "    ,[CompAnual]\n",
    "    ,[AtencionCompMensual]\n",
    "    ,[Devengado]\n",
    "    ,[Girado]\n",
    "    FROM [DMT_GASTO_MEF].[dbo].[FACT_GASTO_MEF]\n",
    "\"\"\", motor)"
   ]
  },
  {
   "cell_type": "code",
   "execution_count": 32,
   "id": "61d19e86",
   "metadata": {},
   "outputs": [
    {
     "name": "stdout",
     "output_type": "stream",
     "text": [
      "<class 'pandas.core.frame.DataFrame'>\n",
      "RangeIndex: 532521 entries, 0 to 532520\n",
      "Data columns (total 21 columns):\n",
      " #   Column               Non-Null Count   Dtype  \n",
      "---  ------               --------------   -----  \n",
      " 0   UBIGEO_ID            532521 non-null  int64  \n",
      " 1   EJECUTORA_ID         532521 non-null  int64  \n",
      " 2   FUENTE_ID            532521 non-null  int64  \n",
      " 3   NIVEL_GOBIERNO_ID    532521 non-null  int64  \n",
      " 4   PLIEGO_ID            532521 non-null  int64  \n",
      " 5   SECTOR_ID            532521 non-null  int64  \n",
      " 6   PROGRAMA_ID          532521 non-null  int64  \n",
      " 7   PROGRAMA_PPTO_ID     532521 non-null  int64  \n",
      " 8   ESPECIFICA_DET_ID    532521 non-null  int64  \n",
      " 9   RUBRO_ID             532521 non-null  int64  \n",
      " 10  CATEGORIA_GASTO_ID   532521 non-null  int64  \n",
      " 11  UNIDAD_MEDIDA_ID     532521 non-null  int64  \n",
      " 12  FINALIDAD_ID         532521 non-null  int64  \n",
      " 13  ANIO_ID              532521 non-null  int64  \n",
      " 14  PIA                  532521 non-null  float64\n",
      " 15  PIM                  532521 non-null  float64\n",
      " 16  Certificado          532521 non-null  float64\n",
      " 17  CompAnual            532521 non-null  float64\n",
      " 18  AtencionCompMensual  532521 non-null  float64\n",
      " 19  Devengado            532521 non-null  float64\n",
      " 20  Girado               532521 non-null  float64\n",
      "dtypes: float64(7), int64(14)\n",
      "memory usage: 85.3 MB\n"
     ]
    }
   ],
   "source": [
    "df_gastos.info()"
   ]
  },
  {
   "cell_type": "code",
   "execution_count": 33,
   "id": "fcd90267",
   "metadata": {},
   "outputs": [
    {
     "data": {
      "text/html": [
       "<div>\n",
       "<style scoped>\n",
       "    .dataframe tbody tr th:only-of-type {\n",
       "        vertical-align: middle;\n",
       "    }\n",
       "\n",
       "    .dataframe tbody tr th {\n",
       "        vertical-align: top;\n",
       "    }\n",
       "\n",
       "    .dataframe thead th {\n",
       "        text-align: right;\n",
       "    }\n",
       "</style>\n",
       "<table border=\"1\" class=\"dataframe\">\n",
       "  <thead>\n",
       "    <tr style=\"text-align: right;\">\n",
       "      <th></th>\n",
       "      <th>UBIGEO_ID</th>\n",
       "      <th>EJECUTORA_ID</th>\n",
       "      <th>FUENTE_ID</th>\n",
       "      <th>NIVEL_GOBIERNO_ID</th>\n",
       "      <th>PLIEGO_ID</th>\n",
       "      <th>SECTOR_ID</th>\n",
       "      <th>PROGRAMA_ID</th>\n",
       "      <th>PROGRAMA_PPTO_ID</th>\n",
       "      <th>ESPECIFICA_DET_ID</th>\n",
       "      <th>RUBRO_ID</th>\n",
       "      <th>...</th>\n",
       "      <th>UNIDAD_MEDIDA_ID</th>\n",
       "      <th>FINALIDAD_ID</th>\n",
       "      <th>ANIO_ID</th>\n",
       "      <th>PIA</th>\n",
       "      <th>PIM</th>\n",
       "      <th>Certificado</th>\n",
       "      <th>CompAnual</th>\n",
       "      <th>AtencionCompMensual</th>\n",
       "      <th>Devengado</th>\n",
       "      <th>Girado</th>\n",
       "    </tr>\n",
       "  </thead>\n",
       "  <tbody>\n",
       "    <tr>\n",
       "      <th>0</th>\n",
       "      <td>6533</td>\n",
       "      <td>349</td>\n",
       "      <td>5</td>\n",
       "      <td>1</td>\n",
       "      <td>396</td>\n",
       "      <td>5</td>\n",
       "      <td>120</td>\n",
       "      <td>25</td>\n",
       "      <td>551</td>\n",
       "      <td>12</td>\n",
       "      <td>...</td>\n",
       "      <td>236</td>\n",
       "      <td>1344</td>\n",
       "      <td>2016</td>\n",
       "      <td>3000.0</td>\n",
       "      <td>280.0</td>\n",
       "      <td>280.0</td>\n",
       "      <td>0.0</td>\n",
       "      <td>280.0</td>\n",
       "      <td>280.0</td>\n",
       "      <td>280.0</td>\n",
       "    </tr>\n",
       "    <tr>\n",
       "      <th>1</th>\n",
       "      <td>6909</td>\n",
       "      <td>32</td>\n",
       "      <td>5</td>\n",
       "      <td>1</td>\n",
       "      <td>265</td>\n",
       "      <td>5</td>\n",
       "      <td>120</td>\n",
       "      <td>25</td>\n",
       "      <td>550</td>\n",
       "      <td>12</td>\n",
       "      <td>...</td>\n",
       "      <td>236</td>\n",
       "      <td>1344</td>\n",
       "      <td>2016</td>\n",
       "      <td>3300.0</td>\n",
       "      <td>3138.0</td>\n",
       "      <td>3138.0</td>\n",
       "      <td>0.0</td>\n",
       "      <td>3138.0</td>\n",
       "      <td>3138.0</td>\n",
       "      <td>3138.0</td>\n",
       "    </tr>\n",
       "    <tr>\n",
       "      <th>2</th>\n",
       "      <td>6909</td>\n",
       "      <td>32</td>\n",
       "      <td>5</td>\n",
       "      <td>1</td>\n",
       "      <td>265</td>\n",
       "      <td>5</td>\n",
       "      <td>120</td>\n",
       "      <td>25</td>\n",
       "      <td>551</td>\n",
       "      <td>12</td>\n",
       "      <td>...</td>\n",
       "      <td>236</td>\n",
       "      <td>1344</td>\n",
       "      <td>2016</td>\n",
       "      <td>0.0</td>\n",
       "      <td>715.0</td>\n",
       "      <td>715.0</td>\n",
       "      <td>0.0</td>\n",
       "      <td>715.0</td>\n",
       "      <td>715.0</td>\n",
       "      <td>715.0</td>\n",
       "    </tr>\n",
       "    <tr>\n",
       "      <th>3</th>\n",
       "      <td>7595</td>\n",
       "      <td>263</td>\n",
       "      <td>5</td>\n",
       "      <td>1</td>\n",
       "      <td>205</td>\n",
       "      <td>5</td>\n",
       "      <td>120</td>\n",
       "      <td>25</td>\n",
       "      <td>1300</td>\n",
       "      <td>12</td>\n",
       "      <td>...</td>\n",
       "      <td>236</td>\n",
       "      <td>1344</td>\n",
       "      <td>2016</td>\n",
       "      <td>0.0</td>\n",
       "      <td>15729.0</td>\n",
       "      <td>15729.0</td>\n",
       "      <td>0.0</td>\n",
       "      <td>15729.0</td>\n",
       "      <td>15729.0</td>\n",
       "      <td>15729.0</td>\n",
       "    </tr>\n",
       "    <tr>\n",
       "      <th>4</th>\n",
       "      <td>8135</td>\n",
       "      <td>317</td>\n",
       "      <td>5</td>\n",
       "      <td>1</td>\n",
       "      <td>18</td>\n",
       "      <td>5</td>\n",
       "      <td>120</td>\n",
       "      <td>25</td>\n",
       "      <td>2662</td>\n",
       "      <td>12</td>\n",
       "      <td>...</td>\n",
       "      <td>236</td>\n",
       "      <td>1344</td>\n",
       "      <td>2016</td>\n",
       "      <td>3260.0</td>\n",
       "      <td>3260.0</td>\n",
       "      <td>3260.0</td>\n",
       "      <td>0.0</td>\n",
       "      <td>3260.0</td>\n",
       "      <td>3260.0</td>\n",
       "      <td>3260.0</td>\n",
       "    </tr>\n",
       "    <tr>\n",
       "      <th>...</th>\n",
       "      <td>...</td>\n",
       "      <td>...</td>\n",
       "      <td>...</td>\n",
       "      <td>...</td>\n",
       "      <td>...</td>\n",
       "      <td>...</td>\n",
       "      <td>...</td>\n",
       "      <td>...</td>\n",
       "      <td>...</td>\n",
       "      <td>...</td>\n",
       "      <td>...</td>\n",
       "      <td>...</td>\n",
       "      <td>...</td>\n",
       "      <td>...</td>\n",
       "      <td>...</td>\n",
       "      <td>...</td>\n",
       "      <td>...</td>\n",
       "      <td>...</td>\n",
       "      <td>...</td>\n",
       "      <td>...</td>\n",
       "      <td>...</td>\n",
       "    </tr>\n",
       "    <tr>\n",
       "      <th>532516</th>\n",
       "      <td>7542</td>\n",
       "      <td>91</td>\n",
       "      <td>13</td>\n",
       "      <td>1</td>\n",
       "      <td>448</td>\n",
       "      <td>3</td>\n",
       "      <td>95</td>\n",
       "      <td>18</td>\n",
       "      <td>2193</td>\n",
       "      <td>5</td>\n",
       "      <td>...</td>\n",
       "      <td>236</td>\n",
       "      <td>1344</td>\n",
       "      <td>2014</td>\n",
       "      <td>0.0</td>\n",
       "      <td>0.0</td>\n",
       "      <td>0.0</td>\n",
       "      <td>0.0</td>\n",
       "      <td>35.7</td>\n",
       "      <td>35.7</td>\n",
       "      <td>35.7</td>\n",
       "    </tr>\n",
       "    <tr>\n",
       "      <th>532517</th>\n",
       "      <td>7542</td>\n",
       "      <td>91</td>\n",
       "      <td>13</td>\n",
       "      <td>1</td>\n",
       "      <td>448</td>\n",
       "      <td>3</td>\n",
       "      <td>95</td>\n",
       "      <td>18</td>\n",
       "      <td>2982</td>\n",
       "      <td>5</td>\n",
       "      <td>...</td>\n",
       "      <td>236</td>\n",
       "      <td>1344</td>\n",
       "      <td>2014</td>\n",
       "      <td>0.0</td>\n",
       "      <td>0.0</td>\n",
       "      <td>0.0</td>\n",
       "      <td>0.0</td>\n",
       "      <td>1000.0</td>\n",
       "      <td>1000.0</td>\n",
       "      <td>1000.0</td>\n",
       "    </tr>\n",
       "    <tr>\n",
       "      <th>532518</th>\n",
       "      <td>7542</td>\n",
       "      <td>91</td>\n",
       "      <td>13</td>\n",
       "      <td>1</td>\n",
       "      <td>448</td>\n",
       "      <td>3</td>\n",
       "      <td>95</td>\n",
       "      <td>18</td>\n",
       "      <td>1832</td>\n",
       "      <td>5</td>\n",
       "      <td>...</td>\n",
       "      <td>236</td>\n",
       "      <td>1344</td>\n",
       "      <td>2014</td>\n",
       "      <td>0.0</td>\n",
       "      <td>0.0</td>\n",
       "      <td>0.0</td>\n",
       "      <td>0.0</td>\n",
       "      <td>1509.0</td>\n",
       "      <td>1509.0</td>\n",
       "      <td>1509.0</td>\n",
       "    </tr>\n",
       "    <tr>\n",
       "      <th>532519</th>\n",
       "      <td>7542</td>\n",
       "      <td>91</td>\n",
       "      <td>13</td>\n",
       "      <td>1</td>\n",
       "      <td>448</td>\n",
       "      <td>3</td>\n",
       "      <td>95</td>\n",
       "      <td>18</td>\n",
       "      <td>2778</td>\n",
       "      <td>5</td>\n",
       "      <td>...</td>\n",
       "      <td>236</td>\n",
       "      <td>1344</td>\n",
       "      <td>2014</td>\n",
       "      <td>0.0</td>\n",
       "      <td>0.0</td>\n",
       "      <td>0.0</td>\n",
       "      <td>0.0</td>\n",
       "      <td>9475.0</td>\n",
       "      <td>9475.0</td>\n",
       "      <td>9475.0</td>\n",
       "    </tr>\n",
       "    <tr>\n",
       "      <th>532520</th>\n",
       "      <td>7839</td>\n",
       "      <td>165</td>\n",
       "      <td>13</td>\n",
       "      <td>1</td>\n",
       "      <td>66</td>\n",
       "      <td>3</td>\n",
       "      <td>95</td>\n",
       "      <td>18</td>\n",
       "      <td>1324</td>\n",
       "      <td>5</td>\n",
       "      <td>...</td>\n",
       "      <td>236</td>\n",
       "      <td>1344</td>\n",
       "      <td>2014</td>\n",
       "      <td>4500.0</td>\n",
       "      <td>0.0</td>\n",
       "      <td>0.0</td>\n",
       "      <td>0.0</td>\n",
       "      <td>0.0</td>\n",
       "      <td>0.0</td>\n",
       "      <td>0.0</td>\n",
       "    </tr>\n",
       "  </tbody>\n",
       "</table>\n",
       "<p>532521 rows × 21 columns</p>\n",
       "</div>"
      ],
      "text/plain": [
       "        UBIGEO_ID  EJECUTORA_ID  FUENTE_ID  NIVEL_GOBIERNO_ID  PLIEGO_ID  \\\n",
       "0            6533           349          5                  1        396   \n",
       "1            6909            32          5                  1        265   \n",
       "2            6909            32          5                  1        265   \n",
       "3            7595           263          5                  1        205   \n",
       "4            8135           317          5                  1         18   \n",
       "...           ...           ...        ...                ...        ...   \n",
       "532516       7542            91         13                  1        448   \n",
       "532517       7542            91         13                  1        448   \n",
       "532518       7542            91         13                  1        448   \n",
       "532519       7542            91         13                  1        448   \n",
       "532520       7839           165         13                  1         66   \n",
       "\n",
       "        SECTOR_ID  PROGRAMA_ID  PROGRAMA_PPTO_ID  ESPECIFICA_DET_ID  RUBRO_ID  \\\n",
       "0               5          120                25                551        12   \n",
       "1               5          120                25                550        12   \n",
       "2               5          120                25                551        12   \n",
       "3               5          120                25               1300        12   \n",
       "4               5          120                25               2662        12   \n",
       "...           ...          ...               ...                ...       ...   \n",
       "532516          3           95                18               2193         5   \n",
       "532517          3           95                18               2982         5   \n",
       "532518          3           95                18               1832         5   \n",
       "532519          3           95                18               2778         5   \n",
       "532520          3           95                18               1324         5   \n",
       "\n",
       "        ...  UNIDAD_MEDIDA_ID  FINALIDAD_ID  ANIO_ID     PIA      PIM  \\\n",
       "0       ...               236          1344     2016  3000.0    280.0   \n",
       "1       ...               236          1344     2016  3300.0   3138.0   \n",
       "2       ...               236          1344     2016     0.0    715.0   \n",
       "3       ...               236          1344     2016     0.0  15729.0   \n",
       "4       ...               236          1344     2016  3260.0   3260.0   \n",
       "...     ...               ...           ...      ...     ...      ...   \n",
       "532516  ...               236          1344     2014     0.0      0.0   \n",
       "532517  ...               236          1344     2014     0.0      0.0   \n",
       "532518  ...               236          1344     2014     0.0      0.0   \n",
       "532519  ...               236          1344     2014     0.0      0.0   \n",
       "532520  ...               236          1344     2014  4500.0      0.0   \n",
       "\n",
       "        Certificado  CompAnual  AtencionCompMensual  Devengado   Girado  \n",
       "0             280.0        0.0                280.0      280.0    280.0  \n",
       "1            3138.0        0.0               3138.0     3138.0   3138.0  \n",
       "2             715.0        0.0                715.0      715.0    715.0  \n",
       "3           15729.0        0.0              15729.0    15729.0  15729.0  \n",
       "4            3260.0        0.0               3260.0     3260.0   3260.0  \n",
       "...             ...        ...                  ...        ...      ...  \n",
       "532516          0.0        0.0                 35.7       35.7     35.7  \n",
       "532517          0.0        0.0               1000.0     1000.0   1000.0  \n",
       "532518          0.0        0.0               1509.0     1509.0   1509.0  \n",
       "532519          0.0        0.0               9475.0     9475.0   9475.0  \n",
       "532520          0.0        0.0                  0.0        0.0      0.0  \n",
       "\n",
       "[532521 rows x 21 columns]"
      ]
     },
     "execution_count": 33,
     "metadata": {},
     "output_type": "execute_result"
    }
   ],
   "source": [
    "df_gastos"
   ]
  },
  {
   "cell_type": "code",
   "execution_count": 34,
   "id": "4b8f76a9",
   "metadata": {},
   "outputs": [],
   "source": [
    "df_gastos_agrupado = df_gastos.groupby(['EJECUTORA_ID', 'ANIO_ID'], as_index=False)[\n",
    "    ['PIA', 'PIM', 'Certificado', 'CompAnual', 'Devengado', 'Girado']\n",
    "].sum()"
   ]
  },
  {
   "cell_type": "code",
   "execution_count": 35,
   "id": "834aa632",
   "metadata": {},
   "outputs": [
    {
     "data": {
      "text/plain": [
       "0    2019\n",
       "1    2016\n",
       "2    2017\n",
       "3    2012\n",
       "4    2020\n",
       "5    2021\n",
       "6    2014\n",
       "7    2015\n",
       "8    2018\n",
       "9    2013\n",
       "Name: ANIO_ID, dtype: int64"
      ]
     },
     "execution_count": 35,
     "metadata": {},
     "output_type": "execute_result"
    }
   ],
   "source": [
    "anhos = df_gastos_agrupado['ANIO_ID'].drop_duplicates()\n",
    "anhos = anhos.drop(index=255).reset_index(drop=True)\n",
    "anhos"
   ]
  },
  {
   "cell_type": "code",
   "execution_count": 36,
   "id": "9f44408a",
   "metadata": {},
   "outputs": [
    {
     "data": {
      "text/html": [
       "<div>\n",
       "<style scoped>\n",
       "    .dataframe tbody tr th:only-of-type {\n",
       "        vertical-align: middle;\n",
       "    }\n",
       "\n",
       "    .dataframe tbody tr th {\n",
       "        vertical-align: top;\n",
       "    }\n",
       "\n",
       "    .dataframe thead th {\n",
       "        text-align: right;\n",
       "    }\n",
       "</style>\n",
       "<table border=\"1\" class=\"dataframe\">\n",
       "  <thead>\n",
       "    <tr style=\"text-align: right;\">\n",
       "      <th></th>\n",
       "      <th>UBIGEO_ID</th>\n",
       "      <th>EJECUTORA_ID</th>\n",
       "      <th>FUENTE_ID</th>\n",
       "      <th>NIVEL_GOBIERNO_ID</th>\n",
       "      <th>PLIEGO_ID</th>\n",
       "      <th>SECTOR_ID</th>\n",
       "      <th>PROGRAMA_ID</th>\n",
       "      <th>PROGRAMA_PPTO_ID</th>\n",
       "      <th>ESPECIFICA_DET_ID</th>\n",
       "      <th>RUBRO_ID</th>\n",
       "      <th>...</th>\n",
       "      <th>MACROREGION_MINSA</th>\n",
       "      <th>CODIGO_FIPS</th>\n",
       "      <th>SUPERFICIE</th>\n",
       "      <th>ALTITUD</th>\n",
       "      <th>LATITUD</th>\n",
       "      <th>LONGITUD</th>\n",
       "      <th>POBLACION_DISTRITO</th>\n",
       "      <th>POBLACION_PROVINCIA</th>\n",
       "      <th>POBLACION_DEPARTAMENTO</th>\n",
       "      <th>DIRESA</th>\n",
       "    </tr>\n",
       "  </thead>\n",
       "  <tbody>\n",
       "    <tr>\n",
       "      <th>0</th>\n",
       "      <td>6533</td>\n",
       "      <td>349</td>\n",
       "      <td>5</td>\n",
       "      <td>1</td>\n",
       "      <td>396</td>\n",
       "      <td>5</td>\n",
       "      <td>120</td>\n",
       "      <td>25</td>\n",
       "      <td>551</td>\n",
       "      <td>12</td>\n",
       "      <td>...</td>\n",
       "      <td>MACROREGION CENTRO</td>\n",
       "      <td>3</td>\n",
       "      <td>174.0</td>\n",
       "      <td>2836.0</td>\n",
       "      <td>-13.6561</td>\n",
       "      <td>-73.3897</td>\n",
       "      <td>45469.0</td>\n",
       "      <td>168087.0</td>\n",
       "      <td>466799.0</td>\n",
       "      <td>APURIMAC</td>\n",
       "    </tr>\n",
       "    <tr>\n",
       "      <th>1</th>\n",
       "      <td>6909</td>\n",
       "      <td>32</td>\n",
       "      <td>5</td>\n",
       "      <td>1</td>\n",
       "      <td>265</td>\n",
       "      <td>5</td>\n",
       "      <td>120</td>\n",
       "      <td>25</td>\n",
       "      <td>550</td>\n",
       "      <td>12</td>\n",
       "      <td>...</td>\n",
       "      <td>MACROREGION NORTE</td>\n",
       "      <td>6</td>\n",
       "      <td>537.0</td>\n",
       "      <td>728.0</td>\n",
       "      <td>-5.7089</td>\n",
       "      <td>-78.8092</td>\n",
       "      <td>117716.0</td>\n",
       "      <td>232138.0</td>\n",
       "      <td>1614623.0</td>\n",
       "      <td>CAJAMARCA</td>\n",
       "    </tr>\n",
       "    <tr>\n",
       "      <th>2</th>\n",
       "      <td>6909</td>\n",
       "      <td>32</td>\n",
       "      <td>5</td>\n",
       "      <td>1</td>\n",
       "      <td>265</td>\n",
       "      <td>5</td>\n",
       "      <td>120</td>\n",
       "      <td>25</td>\n",
       "      <td>551</td>\n",
       "      <td>12</td>\n",
       "      <td>...</td>\n",
       "      <td>MACROREGION NORTE</td>\n",
       "      <td>6</td>\n",
       "      <td>537.0</td>\n",
       "      <td>728.0</td>\n",
       "      <td>-5.7089</td>\n",
       "      <td>-78.8092</td>\n",
       "      <td>117716.0</td>\n",
       "      <td>232138.0</td>\n",
       "      <td>1614623.0</td>\n",
       "      <td>CAJAMARCA</td>\n",
       "    </tr>\n",
       "    <tr>\n",
       "      <th>3</th>\n",
       "      <td>7595</td>\n",
       "      <td>263</td>\n",
       "      <td>5</td>\n",
       "      <td>1</td>\n",
       "      <td>205</td>\n",
       "      <td>5</td>\n",
       "      <td>120</td>\n",
       "      <td>25</td>\n",
       "      <td>1300</td>\n",
       "      <td>12</td>\n",
       "      <td>...</td>\n",
       "      <td>NaN</td>\n",
       "      <td>NaN</td>\n",
       "      <td>NaN</td>\n",
       "      <td>NaN</td>\n",
       "      <td>NaN</td>\n",
       "      <td>NaN</td>\n",
       "      <td>NaN</td>\n",
       "      <td>NaN</td>\n",
       "      <td>NaN</td>\n",
       "      <td>NaN</td>\n",
       "    </tr>\n",
       "    <tr>\n",
       "      <th>4</th>\n",
       "      <td>8135</td>\n",
       "      <td>317</td>\n",
       "      <td>5</td>\n",
       "      <td>1</td>\n",
       "      <td>18</td>\n",
       "      <td>5</td>\n",
       "      <td>120</td>\n",
       "      <td>25</td>\n",
       "      <td>2662</td>\n",
       "      <td>12</td>\n",
       "      <td>...</td>\n",
       "      <td>NaN</td>\n",
       "      <td>NaN</td>\n",
       "      <td>NaN</td>\n",
       "      <td>NaN</td>\n",
       "      <td>NaN</td>\n",
       "      <td>NaN</td>\n",
       "      <td>NaN</td>\n",
       "      <td>NaN</td>\n",
       "      <td>NaN</td>\n",
       "      <td>NaN</td>\n",
       "    </tr>\n",
       "  </tbody>\n",
       "</table>\n",
       "<p>5 rows × 49 columns</p>\n",
       "</div>"
      ],
      "text/plain": [
       "   UBIGEO_ID  EJECUTORA_ID  FUENTE_ID  NIVEL_GOBIERNO_ID  PLIEGO_ID  \\\n",
       "0       6533           349          5                  1        396   \n",
       "1       6909            32          5                  1        265   \n",
       "2       6909            32          5                  1        265   \n",
       "3       7595           263          5                  1        205   \n",
       "4       8135           317          5                  1         18   \n",
       "\n",
       "   SECTOR_ID  PROGRAMA_ID  PROGRAMA_PPTO_ID  ESPECIFICA_DET_ID  RUBRO_ID  ...  \\\n",
       "0          5          120                25                551        12  ...   \n",
       "1          5          120                25                550        12  ...   \n",
       "2          5          120                25                551        12  ...   \n",
       "3          5          120                25               1300        12  ...   \n",
       "4          5          120                25               2662        12  ...   \n",
       "\n",
       "    MACROREGION_MINSA  CODIGO_FIPS  SUPERFICIE  ALTITUD  LATITUD  LONGITUD  \\\n",
       "0  MACROREGION CENTRO            3       174.0   2836.0 -13.6561  -73.3897   \n",
       "1   MACROREGION NORTE            6       537.0    728.0  -5.7089  -78.8092   \n",
       "2   MACROREGION NORTE            6       537.0    728.0  -5.7089  -78.8092   \n",
       "3                 NaN          NaN         NaN      NaN      NaN       NaN   \n",
       "4                 NaN          NaN         NaN      NaN      NaN       NaN   \n",
       "\n",
       "   POBLACION_DISTRITO  POBLACION_PROVINCIA  POBLACION_DEPARTAMENTO     DIRESA  \n",
       "0             45469.0             168087.0                466799.0   APURIMAC  \n",
       "1            117716.0             232138.0               1614623.0  CAJAMARCA  \n",
       "2            117716.0             232138.0               1614623.0  CAJAMARCA  \n",
       "3                 NaN                  NaN                     NaN        NaN  \n",
       "4                 NaN                  NaN                     NaN        NaN  \n",
       "\n",
       "[5 rows x 49 columns]"
      ]
     },
     "metadata": {},
     "output_type": "display_data"
    }
   ],
   "source": [
    "df_merged = df_gastos.merge(\n",
    "    dim_ejecutora,\n",
    "    on='EJECUTORA_ID',\n",
    "    how='left',\n",
    "    suffixes=('', '_EJECUTORA')\n",
    ")\n",
    "\n",
    "df_merged = df_merged.merge(\n",
    "    dim_ubigeo,\n",
    "    on='UBIGEO_ID',\n",
    "    how='left',\n",
    "    suffixes=('', '_UBIGEO')\n",
    ")\n",
    "\n",
    "display(df_merged.head())"
   ]
  },
  {
   "cell_type": "code",
   "execution_count": 37,
   "id": "067054e0",
   "metadata": {},
   "outputs": [
    {
     "data": {
      "application/vnd.plotly.v1+json": {
       "config": {
        "plotlyServerURL": "https://plot.ly"
       },
       "data": [
        {
         "customdata": {
          "bdata": "AADAf1SI60H2KNTFV4DjQQAAoG3WE/BB4XrkmpfE5UEAADCFNHTwQa5H4QPi7udBAACAr9lR7EHhemTBkuTjQQAAQLmfZPBB4Xq8vBf76EEAAHDThmfxQUjhEpsgNuxBAADAamAG8kFxPYJ3fPrtQQAAMBgT4PNBexT2r8NF8EEAAPBZ2D/yQUjhUuVuIOxBAAAQOgdE80GF69mzjlzvQQ==",
          "dtype": "f8",
          "shape": "10, 2"
         },
         "hovertemplate": "Año=%{x}<br>% Avance Devengado / PIM=%{y:.2f}<br>text=%{text}<br>PIM=%{customdata[0]:.0f}<br>Devengado=%{customdata[1]:.0f}<extra></extra>",
         "legendgroup": "",
         "line": {
          "color": "#636efa",
          "dash": "solid",
          "width": 3
         },
         "marker": {
          "symbol": "circle"
         },
         "mode": "lines+markers+text",
         "name": "",
         "orientation": "v",
         "showlegend": false,
         "text": [
          "70.8%",
          "67.7%",
          "72.7%",
          "70.2%",
          "76.2%",
          "81.0%",
          "83.2%",
          "81.9%",
          "77.1%",
          "81.4%"
         ],
         "textposition": "top center",
         "type": "scatter",
         "x": {
          "bdata": "3AfdB94H3wfgB+EH4gfjB+QH5Qc=",
          "dtype": "i2"
         },
         "xaxis": "x",
         "y": {
          "bdata": "UedPMyG1UUAIW9ComuxQQAzy8jiTLlJA0VzEEpuPUUDKH8gRXwxTQFQHMXj/QlRARcQqsiPKVEDjm4Lf4HdUQObEd5D3Q1NAePCxShdZVEA=",
          "dtype": "f8"
         },
         "yaxis": "y"
        }
       ],
       "layout": {
        "hovermode": "x unified",
        "legend": {
         "tracegroupgap": 0
        },
        "margin": {
         "b": 0,
         "l": 0,
         "r": 0,
         "t": 40
        },
        "template": {
         "data": {
          "bar": [
           {
            "error_x": {
             "color": "#2a3f5f"
            },
            "error_y": {
             "color": "#2a3f5f"
            },
            "marker": {
             "line": {
              "color": "#E5ECF6",
              "width": 0.5
             },
             "pattern": {
              "fillmode": "overlay",
              "size": 10,
              "solidity": 0.2
             }
            },
            "type": "bar"
           }
          ],
          "barpolar": [
           {
            "marker": {
             "line": {
              "color": "#E5ECF6",
              "width": 0.5
             },
             "pattern": {
              "fillmode": "overlay",
              "size": 10,
              "solidity": 0.2
             }
            },
            "type": "barpolar"
           }
          ],
          "carpet": [
           {
            "aaxis": {
             "endlinecolor": "#2a3f5f",
             "gridcolor": "white",
             "linecolor": "white",
             "minorgridcolor": "white",
             "startlinecolor": "#2a3f5f"
            },
            "baxis": {
             "endlinecolor": "#2a3f5f",
             "gridcolor": "white",
             "linecolor": "white",
             "minorgridcolor": "white",
             "startlinecolor": "#2a3f5f"
            },
            "type": "carpet"
           }
          ],
          "choropleth": [
           {
            "colorbar": {
             "outlinewidth": 0,
             "ticks": ""
            },
            "type": "choropleth"
           }
          ],
          "contour": [
           {
            "colorbar": {
             "outlinewidth": 0,
             "ticks": ""
            },
            "colorscale": [
             [
              0,
              "#0d0887"
             ],
             [
              0.1111111111111111,
              "#46039f"
             ],
             [
              0.2222222222222222,
              "#7201a8"
             ],
             [
              0.3333333333333333,
              "#9c179e"
             ],
             [
              0.4444444444444444,
              "#bd3786"
             ],
             [
              0.5555555555555556,
              "#d8576b"
             ],
             [
              0.6666666666666666,
              "#ed7953"
             ],
             [
              0.7777777777777778,
              "#fb9f3a"
             ],
             [
              0.8888888888888888,
              "#fdca26"
             ],
             [
              1,
              "#f0f921"
             ]
            ],
            "type": "contour"
           }
          ],
          "contourcarpet": [
           {
            "colorbar": {
             "outlinewidth": 0,
             "ticks": ""
            },
            "type": "contourcarpet"
           }
          ],
          "heatmap": [
           {
            "colorbar": {
             "outlinewidth": 0,
             "ticks": ""
            },
            "colorscale": [
             [
              0,
              "#0d0887"
             ],
             [
              0.1111111111111111,
              "#46039f"
             ],
             [
              0.2222222222222222,
              "#7201a8"
             ],
             [
              0.3333333333333333,
              "#9c179e"
             ],
             [
              0.4444444444444444,
              "#bd3786"
             ],
             [
              0.5555555555555556,
              "#d8576b"
             ],
             [
              0.6666666666666666,
              "#ed7953"
             ],
             [
              0.7777777777777778,
              "#fb9f3a"
             ],
             [
              0.8888888888888888,
              "#fdca26"
             ],
             [
              1,
              "#f0f921"
             ]
            ],
            "type": "heatmap"
           }
          ],
          "histogram": [
           {
            "marker": {
             "pattern": {
              "fillmode": "overlay",
              "size": 10,
              "solidity": 0.2
             }
            },
            "type": "histogram"
           }
          ],
          "histogram2d": [
           {
            "colorbar": {
             "outlinewidth": 0,
             "ticks": ""
            },
            "colorscale": [
             [
              0,
              "#0d0887"
             ],
             [
              0.1111111111111111,
              "#46039f"
             ],
             [
              0.2222222222222222,
              "#7201a8"
             ],
             [
              0.3333333333333333,
              "#9c179e"
             ],
             [
              0.4444444444444444,
              "#bd3786"
             ],
             [
              0.5555555555555556,
              "#d8576b"
             ],
             [
              0.6666666666666666,
              "#ed7953"
             ],
             [
              0.7777777777777778,
              "#fb9f3a"
             ],
             [
              0.8888888888888888,
              "#fdca26"
             ],
             [
              1,
              "#f0f921"
             ]
            ],
            "type": "histogram2d"
           }
          ],
          "histogram2dcontour": [
           {
            "colorbar": {
             "outlinewidth": 0,
             "ticks": ""
            },
            "colorscale": [
             [
              0,
              "#0d0887"
             ],
             [
              0.1111111111111111,
              "#46039f"
             ],
             [
              0.2222222222222222,
              "#7201a8"
             ],
             [
              0.3333333333333333,
              "#9c179e"
             ],
             [
              0.4444444444444444,
              "#bd3786"
             ],
             [
              0.5555555555555556,
              "#d8576b"
             ],
             [
              0.6666666666666666,
              "#ed7953"
             ],
             [
              0.7777777777777778,
              "#fb9f3a"
             ],
             [
              0.8888888888888888,
              "#fdca26"
             ],
             [
              1,
              "#f0f921"
             ]
            ],
            "type": "histogram2dcontour"
           }
          ],
          "mesh3d": [
           {
            "colorbar": {
             "outlinewidth": 0,
             "ticks": ""
            },
            "type": "mesh3d"
           }
          ],
          "parcoords": [
           {
            "line": {
             "colorbar": {
              "outlinewidth": 0,
              "ticks": ""
             }
            },
            "type": "parcoords"
           }
          ],
          "pie": [
           {
            "automargin": true,
            "type": "pie"
           }
          ],
          "scatter": [
           {
            "fillpattern": {
             "fillmode": "overlay",
             "size": 10,
             "solidity": 0.2
            },
            "type": "scatter"
           }
          ],
          "scatter3d": [
           {
            "line": {
             "colorbar": {
              "outlinewidth": 0,
              "ticks": ""
             }
            },
            "marker": {
             "colorbar": {
              "outlinewidth": 0,
              "ticks": ""
             }
            },
            "type": "scatter3d"
           }
          ],
          "scattercarpet": [
           {
            "marker": {
             "colorbar": {
              "outlinewidth": 0,
              "ticks": ""
             }
            },
            "type": "scattercarpet"
           }
          ],
          "scattergeo": [
           {
            "marker": {
             "colorbar": {
              "outlinewidth": 0,
              "ticks": ""
             }
            },
            "type": "scattergeo"
           }
          ],
          "scattergl": [
           {
            "marker": {
             "colorbar": {
              "outlinewidth": 0,
              "ticks": ""
             }
            },
            "type": "scattergl"
           }
          ],
          "scattermap": [
           {
            "marker": {
             "colorbar": {
              "outlinewidth": 0,
              "ticks": ""
             }
            },
            "type": "scattermap"
           }
          ],
          "scattermapbox": [
           {
            "marker": {
             "colorbar": {
              "outlinewidth": 0,
              "ticks": ""
             }
            },
            "type": "scattermapbox"
           }
          ],
          "scatterpolar": [
           {
            "marker": {
             "colorbar": {
              "outlinewidth": 0,
              "ticks": ""
             }
            },
            "type": "scatterpolar"
           }
          ],
          "scatterpolargl": [
           {
            "marker": {
             "colorbar": {
              "outlinewidth": 0,
              "ticks": ""
             }
            },
            "type": "scatterpolargl"
           }
          ],
          "scatterternary": [
           {
            "marker": {
             "colorbar": {
              "outlinewidth": 0,
              "ticks": ""
             }
            },
            "type": "scatterternary"
           }
          ],
          "surface": [
           {
            "colorbar": {
             "outlinewidth": 0,
             "ticks": ""
            },
            "colorscale": [
             [
              0,
              "#0d0887"
             ],
             [
              0.1111111111111111,
              "#46039f"
             ],
             [
              0.2222222222222222,
              "#7201a8"
             ],
             [
              0.3333333333333333,
              "#9c179e"
             ],
             [
              0.4444444444444444,
              "#bd3786"
             ],
             [
              0.5555555555555556,
              "#d8576b"
             ],
             [
              0.6666666666666666,
              "#ed7953"
             ],
             [
              0.7777777777777778,
              "#fb9f3a"
             ],
             [
              0.8888888888888888,
              "#fdca26"
             ],
             [
              1,
              "#f0f921"
             ]
            ],
            "type": "surface"
           }
          ],
          "table": [
           {
            "cells": {
             "fill": {
              "color": "#EBF0F8"
             },
             "line": {
              "color": "white"
             }
            },
            "header": {
             "fill": {
              "color": "#C8D4E3"
             },
             "line": {
              "color": "white"
             }
            },
            "type": "table"
           }
          ]
         },
         "layout": {
          "annotationdefaults": {
           "arrowcolor": "#2a3f5f",
           "arrowhead": 0,
           "arrowwidth": 1
          },
          "autotypenumbers": "strict",
          "coloraxis": {
           "colorbar": {
            "outlinewidth": 0,
            "ticks": ""
           }
          },
          "colorscale": {
           "diverging": [
            [
             0,
             "#8e0152"
            ],
            [
             0.1,
             "#c51b7d"
            ],
            [
             0.2,
             "#de77ae"
            ],
            [
             0.3,
             "#f1b6da"
            ],
            [
             0.4,
             "#fde0ef"
            ],
            [
             0.5,
             "#f7f7f7"
            ],
            [
             0.6,
             "#e6f5d0"
            ],
            [
             0.7,
             "#b8e186"
            ],
            [
             0.8,
             "#7fbc41"
            ],
            [
             0.9,
             "#4d9221"
            ],
            [
             1,
             "#276419"
            ]
           ],
           "sequential": [
            [
             0,
             "#0d0887"
            ],
            [
             0.1111111111111111,
             "#46039f"
            ],
            [
             0.2222222222222222,
             "#7201a8"
            ],
            [
             0.3333333333333333,
             "#9c179e"
            ],
            [
             0.4444444444444444,
             "#bd3786"
            ],
            [
             0.5555555555555556,
             "#d8576b"
            ],
            [
             0.6666666666666666,
             "#ed7953"
            ],
            [
             0.7777777777777778,
             "#fb9f3a"
            ],
            [
             0.8888888888888888,
             "#fdca26"
            ],
            [
             1,
             "#f0f921"
            ]
           ],
           "sequentialminus": [
            [
             0,
             "#0d0887"
            ],
            [
             0.1111111111111111,
             "#46039f"
            ],
            [
             0.2222222222222222,
             "#7201a8"
            ],
            [
             0.3333333333333333,
             "#9c179e"
            ],
            [
             0.4444444444444444,
             "#bd3786"
            ],
            [
             0.5555555555555556,
             "#d8576b"
            ],
            [
             0.6666666666666666,
             "#ed7953"
            ],
            [
             0.7777777777777778,
             "#fb9f3a"
            ],
            [
             0.8888888888888888,
             "#fdca26"
            ],
            [
             1,
             "#f0f921"
            ]
           ]
          },
          "colorway": [
           "#636efa",
           "#EF553B",
           "#00cc96",
           "#ab63fa",
           "#FFA15A",
           "#19d3f3",
           "#FF6692",
           "#B6E880",
           "#FF97FF",
           "#FECB52"
          ],
          "font": {
           "color": "#2a3f5f"
          },
          "geo": {
           "bgcolor": "white",
           "lakecolor": "white",
           "landcolor": "#E5ECF6",
           "showlakes": true,
           "showland": true,
           "subunitcolor": "white"
          },
          "hoverlabel": {
           "align": "left"
          },
          "hovermode": "closest",
          "mapbox": {
           "style": "light"
          },
          "paper_bgcolor": "white",
          "plot_bgcolor": "#E5ECF6",
          "polar": {
           "angularaxis": {
            "gridcolor": "white",
            "linecolor": "white",
            "ticks": ""
           },
           "bgcolor": "#E5ECF6",
           "radialaxis": {
            "gridcolor": "white",
            "linecolor": "white",
            "ticks": ""
           }
          },
          "scene": {
           "xaxis": {
            "backgroundcolor": "#E5ECF6",
            "gridcolor": "white",
            "gridwidth": 2,
            "linecolor": "white",
            "showbackground": true,
            "ticks": "",
            "zerolinecolor": "white"
           },
           "yaxis": {
            "backgroundcolor": "#E5ECF6",
            "gridcolor": "white",
            "gridwidth": 2,
            "linecolor": "white",
            "showbackground": true,
            "ticks": "",
            "zerolinecolor": "white"
           },
           "zaxis": {
            "backgroundcolor": "#E5ECF6",
            "gridcolor": "white",
            "gridwidth": 2,
            "linecolor": "white",
            "showbackground": true,
            "ticks": "",
            "zerolinecolor": "white"
           }
          },
          "shapedefaults": {
           "line": {
            "color": "#2a3f5f"
           }
          },
          "ternary": {
           "aaxis": {
            "gridcolor": "white",
            "linecolor": "white",
            "ticks": ""
           },
           "baxis": {
            "gridcolor": "white",
            "linecolor": "white",
            "ticks": ""
           },
           "bgcolor": "#E5ECF6",
           "caxis": {
            "gridcolor": "white",
            "linecolor": "white",
            "ticks": ""
           }
          },
          "title": {
           "x": 0.05
          },
          "xaxis": {
           "automargin": true,
           "gridcolor": "white",
           "linecolor": "white",
           "ticks": "",
           "title": {
            "standoff": 15
           },
           "zerolinecolor": "white",
           "zerolinewidth": 2
          },
          "yaxis": {
           "automargin": true,
           "gridcolor": "white",
           "linecolor": "white",
           "ticks": "",
           "title": {
            "standoff": 15
           },
           "zerolinecolor": "white",
           "zerolinewidth": 2
          }
         }
        },
        "title": {
         "text": "Avance en porcentaje del devengado respecto al PIM por Anho"
        },
        "xaxis": {
         "anchor": "y",
         "domain": [
          0,
          1
         ],
         "title": {
          "text": "Año"
         }
        },
        "yaxis": {
         "anchor": "x",
         "domain": [
          0,
          1
         ],
         "tickformat": ".1f",
         "title": {
          "text": "% Avance Devengado / PIM"
         }
        }
       }
      }
     },
     "metadata": {},
     "output_type": "display_data"
    }
   ],
   "source": [
    "df_merged = df_merged[df_merged['ANIO_ID'] != -1]\n",
    "\n",
    "df_avance = df_merged.groupby('ANIO_ID').agg({\n",
    "    'PIM': 'sum',\n",
    "    'Devengado': 'sum'\n",
    "}).reset_index()\n",
    "\n",
    "df_avance['%_Avance'] = df_avance['Devengado'] / df_avance['PIM'] * 100\n",
    "fig = px.line(\n",
    "    df_avance,\n",
    "    x='ANIO_ID',\n",
    "    y='%_Avance',\n",
    "    markers=True,\n",
    "    text=df_avance['%_Avance'].round(1).astype(str) + '%',\n",
    "    hover_data={\n",
    "        'ANIO_ID': True,\n",
    "        '%_Avance': ':.2f',\n",
    "        'PIM': ':.0f',\n",
    "        'Devengado': ':.0f'\n",
    "    },\n",
    "    labels={\n",
    "        'ANIO_ID': 'Año',\n",
    "        '%_Avance': '% Avance Devengado / PIM'\n",
    "    },\n",
    "    title='Avance en porcentaje del devengado respecto al PIM por Anho'\n",
    ")\n",
    "\n",
    "fig.update_traces(textposition='top center', line=dict(width=3))\n",
    "fig.update_layout(\n",
    "    yaxis_tickformat='.1f',\n",
    "    margin={\"r\": 0, \"t\": 40, \"l\": 0, \"b\": 0},\n",
    "    hovermode='x unified'\n",
    ")\n",
    "\n",
    "fig.show()\n"
   ]
  },
  {
   "cell_type": "markdown",
   "id": "266c8f14",
   "metadata": {},
   "source": [
    "#### Pruebas"
   ]
  },
  {
   "cell_type": "code",
   "execution_count": 38,
   "id": "4ffc85a0",
   "metadata": {},
   "outputs": [
    {
     "data": {
      "text/html": [
       "<div>\n",
       "<style scoped>\n",
       "    .dataframe tbody tr th:only-of-type {\n",
       "        vertical-align: middle;\n",
       "    }\n",
       "\n",
       "    .dataframe tbody tr th {\n",
       "        vertical-align: top;\n",
       "    }\n",
       "\n",
       "    .dataframe thead th {\n",
       "        text-align: right;\n",
       "    }\n",
       "</style>\n",
       "<table border=\"1\" class=\"dataframe\">\n",
       "  <thead>\n",
       "    <tr style=\"text-align: right;\">\n",
       "      <th></th>\n",
       "      <th>NOMBRE</th>\n",
       "      <th>departamento</th>\n",
       "      <th>EJECUTORA_ID</th>\n",
       "      <th>ANIO_ID</th>\n",
       "      <th>PIA</th>\n",
       "      <th>PIM</th>\n",
       "      <th>Certificado</th>\n",
       "      <th>CompAnual</th>\n",
       "      <th>Devengado</th>\n",
       "      <th>Girado</th>\n",
       "    </tr>\n",
       "  </thead>\n",
       "  <tbody>\n",
       "    <tr>\n",
       "      <th>0</th>\n",
       "      <td>UNIVERSIDAD NACIONAL SAN CRISTOBAL DE HUAMANGA</td>\n",
       "      <td>AYACUCHO</td>\n",
       "      <td>1</td>\n",
       "      <td>2019</td>\n",
       "      <td>105064665.0</td>\n",
       "      <td>125190328.0</td>\n",
       "      <td>93191137.42</td>\n",
       "      <td>0.0</td>\n",
       "      <td>88352235.90</td>\n",
       "      <td>88343482.10</td>\n",
       "    </tr>\n",
       "    <tr>\n",
       "      <th>1</th>\n",
       "      <td>UNIVERSIDAD NACIONAL SAN CRISTOBAL DE HUAMANGA</td>\n",
       "      <td>AYACUCHO</td>\n",
       "      <td>1</td>\n",
       "      <td>2016</td>\n",
       "      <td>NaN</td>\n",
       "      <td>NaN</td>\n",
       "      <td>NaN</td>\n",
       "      <td>NaN</td>\n",
       "      <td>NaN</td>\n",
       "      <td>NaN</td>\n",
       "    </tr>\n",
       "    <tr>\n",
       "      <th>2</th>\n",
       "      <td>UNIVERSIDAD NACIONAL SAN CRISTOBAL DE HUAMANGA</td>\n",
       "      <td>AYACUCHO</td>\n",
       "      <td>1</td>\n",
       "      <td>2017</td>\n",
       "      <td>NaN</td>\n",
       "      <td>NaN</td>\n",
       "      <td>NaN</td>\n",
       "      <td>NaN</td>\n",
       "      <td>NaN</td>\n",
       "      <td>NaN</td>\n",
       "    </tr>\n",
       "    <tr>\n",
       "      <th>3</th>\n",
       "      <td>UNIVERSIDAD NACIONAL SAN CRISTOBAL DE HUAMANGA</td>\n",
       "      <td>AYACUCHO</td>\n",
       "      <td>1</td>\n",
       "      <td>2012</td>\n",
       "      <td>NaN</td>\n",
       "      <td>NaN</td>\n",
       "      <td>NaN</td>\n",
       "      <td>NaN</td>\n",
       "      <td>NaN</td>\n",
       "      <td>NaN</td>\n",
       "    </tr>\n",
       "    <tr>\n",
       "      <th>4</th>\n",
       "      <td>UNIVERSIDAD NACIONAL SAN CRISTOBAL DE HUAMANGA</td>\n",
       "      <td>AYACUCHO</td>\n",
       "      <td>1</td>\n",
       "      <td>2020</td>\n",
       "      <td>NaN</td>\n",
       "      <td>NaN</td>\n",
       "      <td>NaN</td>\n",
       "      <td>NaN</td>\n",
       "      <td>NaN</td>\n",
       "      <td>NaN</td>\n",
       "    </tr>\n",
       "    <tr>\n",
       "      <th>...</th>\n",
       "      <td>...</td>\n",
       "      <td>...</td>\n",
       "      <td>...</td>\n",
       "      <td>...</td>\n",
       "      <td>...</td>\n",
       "      <td>...</td>\n",
       "      <td>...</td>\n",
       "      <td>...</td>\n",
       "      <td>...</td>\n",
       "      <td>...</td>\n",
       "    </tr>\n",
       "    <tr>\n",
       "      <th>545</th>\n",
       "      <td>U. N. AUTÓNOMA ALTOANDINA DE TARMA - UNAAT</td>\n",
       "      <td>JUNIN</td>\n",
       "      <td>362</td>\n",
       "      <td>2021</td>\n",
       "      <td>NaN</td>\n",
       "      <td>NaN</td>\n",
       "      <td>NaN</td>\n",
       "      <td>NaN</td>\n",
       "      <td>NaN</td>\n",
       "      <td>NaN</td>\n",
       "    </tr>\n",
       "    <tr>\n",
       "      <th>546</th>\n",
       "      <td>U. N. AUTÓNOMA ALTOANDINA DE TARMA - UNAAT</td>\n",
       "      <td>JUNIN</td>\n",
       "      <td>362</td>\n",
       "      <td>2014</td>\n",
       "      <td>0.0</td>\n",
       "      <td>6234549.0</td>\n",
       "      <td>1499956.82</td>\n",
       "      <td>0.0</td>\n",
       "      <td>1499956.82</td>\n",
       "      <td>1499956.82</td>\n",
       "    </tr>\n",
       "    <tr>\n",
       "      <th>547</th>\n",
       "      <td>U. N. AUTÓNOMA ALTOANDINA DE TARMA - UNAAT</td>\n",
       "      <td>JUNIN</td>\n",
       "      <td>362</td>\n",
       "      <td>2015</td>\n",
       "      <td>NaN</td>\n",
       "      <td>NaN</td>\n",
       "      <td>NaN</td>\n",
       "      <td>NaN</td>\n",
       "      <td>NaN</td>\n",
       "      <td>NaN</td>\n",
       "    </tr>\n",
       "    <tr>\n",
       "      <th>548</th>\n",
       "      <td>U. N. AUTÓNOMA ALTOANDINA DE TARMA - UNAAT</td>\n",
       "      <td>JUNIN</td>\n",
       "      <td>362</td>\n",
       "      <td>2018</td>\n",
       "      <td>NaN</td>\n",
       "      <td>NaN</td>\n",
       "      <td>NaN</td>\n",
       "      <td>NaN</td>\n",
       "      <td>NaN</td>\n",
       "      <td>NaN</td>\n",
       "    </tr>\n",
       "    <tr>\n",
       "      <th>549</th>\n",
       "      <td>U. N. AUTÓNOMA ALTOANDINA DE TARMA - UNAAT</td>\n",
       "      <td>JUNIN</td>\n",
       "      <td>362</td>\n",
       "      <td>2013</td>\n",
       "      <td>NaN</td>\n",
       "      <td>NaN</td>\n",
       "      <td>NaN</td>\n",
       "      <td>NaN</td>\n",
       "      <td>NaN</td>\n",
       "      <td>NaN</td>\n",
       "    </tr>\n",
       "  </tbody>\n",
       "</table>\n",
       "<p>550 rows × 10 columns</p>\n",
       "</div>"
      ],
      "text/plain": [
       "                                             NOMBRE departamento  \\\n",
       "0    UNIVERSIDAD NACIONAL SAN CRISTOBAL DE HUAMANGA     AYACUCHO   \n",
       "1    UNIVERSIDAD NACIONAL SAN CRISTOBAL DE HUAMANGA     AYACUCHO   \n",
       "2    UNIVERSIDAD NACIONAL SAN CRISTOBAL DE HUAMANGA     AYACUCHO   \n",
       "3    UNIVERSIDAD NACIONAL SAN CRISTOBAL DE HUAMANGA     AYACUCHO   \n",
       "4    UNIVERSIDAD NACIONAL SAN CRISTOBAL DE HUAMANGA     AYACUCHO   \n",
       "..                                              ...          ...   \n",
       "545      U. N. AUTÓNOMA ALTOANDINA DE TARMA - UNAAT        JUNIN   \n",
       "546      U. N. AUTÓNOMA ALTOANDINA DE TARMA - UNAAT        JUNIN   \n",
       "547      U. N. AUTÓNOMA ALTOANDINA DE TARMA - UNAAT        JUNIN   \n",
       "548      U. N. AUTÓNOMA ALTOANDINA DE TARMA - UNAAT        JUNIN   \n",
       "549      U. N. AUTÓNOMA ALTOANDINA DE TARMA - UNAAT        JUNIN   \n",
       "\n",
       "     EJECUTORA_ID  ANIO_ID          PIA          PIM  Certificado  CompAnual  \\\n",
       "0               1     2019  105064665.0  125190328.0  93191137.42        0.0   \n",
       "1               1     2016          NaN          NaN          NaN        NaN   \n",
       "2               1     2017          NaN          NaN          NaN        NaN   \n",
       "3               1     2012          NaN          NaN          NaN        NaN   \n",
       "4               1     2020          NaN          NaN          NaN        NaN   \n",
       "..            ...      ...          ...          ...          ...        ...   \n",
       "545           362     2021          NaN          NaN          NaN        NaN   \n",
       "546           362     2014          0.0    6234549.0   1499956.82        0.0   \n",
       "547           362     2015          NaN          NaN          NaN        NaN   \n",
       "548           362     2018          NaN          NaN          NaN        NaN   \n",
       "549           362     2013          NaN          NaN          NaN        NaN   \n",
       "\n",
       "       Devengado       Girado  \n",
       "0    88352235.90  88343482.10  \n",
       "1            NaN          NaN  \n",
       "2            NaN          NaN  \n",
       "3            NaN          NaN  \n",
       "4            NaN          NaN  \n",
       "..           ...          ...  \n",
       "545          NaN          NaN  \n",
       "546   1499956.82   1499956.82  \n",
       "547          NaN          NaN  \n",
       "548          NaN          NaN  \n",
       "549          NaN          NaN  \n",
       "\n",
       "[550 rows x 10 columns]"
      ]
     },
     "execution_count": 38,
     "metadata": {},
     "output_type": "execute_result"
    }
   ],
   "source": [
    "df_cruzado = df_uni_depa_corr.assign(key=1).merge(\n",
    "    anhos.to_frame(name='ANIO_ID').assign(key=1),\n",
    "    on='key'\n",
    ").drop(columns='key')\n",
    "\n",
    "\n",
    "df_final = df_cruzado.merge(\n",
    "    df_gastos_agrupado,\n",
    "    on=['EJECUTORA_ID', 'ANIO_ID'],\n",
    "    how='left'\n",
    ")\n",
    "df_final"
   ]
  },
  {
   "cell_type": "code",
   "execution_count": 39,
   "id": "7b9be81c",
   "metadata": {},
   "outputs": [
    {
     "data": {
      "text/html": [
       "<div>\n",
       "<style scoped>\n",
       "    .dataframe tbody tr th:only-of-type {\n",
       "        vertical-align: middle;\n",
       "    }\n",
       "\n",
       "    .dataframe tbody tr th {\n",
       "        vertical-align: top;\n",
       "    }\n",
       "\n",
       "    .dataframe thead th {\n",
       "        text-align: right;\n",
       "    }\n",
       "</style>\n",
       "<table border=\"1\" class=\"dataframe\">\n",
       "  <thead>\n",
       "    <tr style=\"text-align: right;\">\n",
       "      <th></th>\n",
       "      <th>NOMBRE</th>\n",
       "      <th>departamento</th>\n",
       "      <th>EJECUTORA_ID</th>\n",
       "      <th>ANIO_ID</th>\n",
       "      <th>PIA</th>\n",
       "      <th>PIM</th>\n",
       "      <th>Certificado</th>\n",
       "      <th>CompAnual</th>\n",
       "      <th>Devengado</th>\n",
       "      <th>Girado</th>\n",
       "      <th>porc_ejecucion</th>\n",
       "    </tr>\n",
       "  </thead>\n",
       "  <tbody>\n",
       "    <tr>\n",
       "      <th>0</th>\n",
       "      <td>UNIVERSIDAD NACIONAL SAN CRISTOBAL DE HUAMANGA</td>\n",
       "      <td>AYACUCHO</td>\n",
       "      <td>1</td>\n",
       "      <td>2019</td>\n",
       "      <td>105064665.0</td>\n",
       "      <td>125190328.0</td>\n",
       "      <td>93191137.42</td>\n",
       "      <td>0.0</td>\n",
       "      <td>88352235.90</td>\n",
       "      <td>88343482.10</td>\n",
       "      <td>0.705743</td>\n",
       "    </tr>\n",
       "    <tr>\n",
       "      <th>1</th>\n",
       "      <td>UNIVERSIDAD NACIONAL SAN CRISTOBAL DE HUAMANGA</td>\n",
       "      <td>AYACUCHO</td>\n",
       "      <td>1</td>\n",
       "      <td>2016</td>\n",
       "      <td>NaN</td>\n",
       "      <td>NaN</td>\n",
       "      <td>NaN</td>\n",
       "      <td>NaN</td>\n",
       "      <td>NaN</td>\n",
       "      <td>NaN</td>\n",
       "      <td>NaN</td>\n",
       "    </tr>\n",
       "    <tr>\n",
       "      <th>2</th>\n",
       "      <td>UNIVERSIDAD NACIONAL SAN CRISTOBAL DE HUAMANGA</td>\n",
       "      <td>AYACUCHO</td>\n",
       "      <td>1</td>\n",
       "      <td>2017</td>\n",
       "      <td>NaN</td>\n",
       "      <td>NaN</td>\n",
       "      <td>NaN</td>\n",
       "      <td>NaN</td>\n",
       "      <td>NaN</td>\n",
       "      <td>NaN</td>\n",
       "      <td>NaN</td>\n",
       "    </tr>\n",
       "    <tr>\n",
       "      <th>3</th>\n",
       "      <td>UNIVERSIDAD NACIONAL SAN CRISTOBAL DE HUAMANGA</td>\n",
       "      <td>AYACUCHO</td>\n",
       "      <td>1</td>\n",
       "      <td>2012</td>\n",
       "      <td>NaN</td>\n",
       "      <td>NaN</td>\n",
       "      <td>NaN</td>\n",
       "      <td>NaN</td>\n",
       "      <td>NaN</td>\n",
       "      <td>NaN</td>\n",
       "      <td>NaN</td>\n",
       "    </tr>\n",
       "    <tr>\n",
       "      <th>4</th>\n",
       "      <td>UNIVERSIDAD NACIONAL SAN CRISTOBAL DE HUAMANGA</td>\n",
       "      <td>AYACUCHO</td>\n",
       "      <td>1</td>\n",
       "      <td>2020</td>\n",
       "      <td>NaN</td>\n",
       "      <td>NaN</td>\n",
       "      <td>NaN</td>\n",
       "      <td>NaN</td>\n",
       "      <td>NaN</td>\n",
       "      <td>NaN</td>\n",
       "      <td>NaN</td>\n",
       "    </tr>\n",
       "    <tr>\n",
       "      <th>...</th>\n",
       "      <td>...</td>\n",
       "      <td>...</td>\n",
       "      <td>...</td>\n",
       "      <td>...</td>\n",
       "      <td>...</td>\n",
       "      <td>...</td>\n",
       "      <td>...</td>\n",
       "      <td>...</td>\n",
       "      <td>...</td>\n",
       "      <td>...</td>\n",
       "      <td>...</td>\n",
       "    </tr>\n",
       "    <tr>\n",
       "      <th>545</th>\n",
       "      <td>U. N. AUTÓNOMA ALTOANDINA DE TARMA - UNAAT</td>\n",
       "      <td>JUNIN</td>\n",
       "      <td>362</td>\n",
       "      <td>2021</td>\n",
       "      <td>NaN</td>\n",
       "      <td>NaN</td>\n",
       "      <td>NaN</td>\n",
       "      <td>NaN</td>\n",
       "      <td>NaN</td>\n",
       "      <td>NaN</td>\n",
       "      <td>NaN</td>\n",
       "    </tr>\n",
       "    <tr>\n",
       "      <th>546</th>\n",
       "      <td>U. N. AUTÓNOMA ALTOANDINA DE TARMA - UNAAT</td>\n",
       "      <td>JUNIN</td>\n",
       "      <td>362</td>\n",
       "      <td>2014</td>\n",
       "      <td>0.0</td>\n",
       "      <td>6234549.0</td>\n",
       "      <td>1499956.82</td>\n",
       "      <td>0.0</td>\n",
       "      <td>1499956.82</td>\n",
       "      <td>1499956.82</td>\n",
       "      <td>0.240588</td>\n",
       "    </tr>\n",
       "    <tr>\n",
       "      <th>547</th>\n",
       "      <td>U. N. AUTÓNOMA ALTOANDINA DE TARMA - UNAAT</td>\n",
       "      <td>JUNIN</td>\n",
       "      <td>362</td>\n",
       "      <td>2015</td>\n",
       "      <td>NaN</td>\n",
       "      <td>NaN</td>\n",
       "      <td>NaN</td>\n",
       "      <td>NaN</td>\n",
       "      <td>NaN</td>\n",
       "      <td>NaN</td>\n",
       "      <td>NaN</td>\n",
       "    </tr>\n",
       "    <tr>\n",
       "      <th>548</th>\n",
       "      <td>U. N. AUTÓNOMA ALTOANDINA DE TARMA - UNAAT</td>\n",
       "      <td>JUNIN</td>\n",
       "      <td>362</td>\n",
       "      <td>2018</td>\n",
       "      <td>NaN</td>\n",
       "      <td>NaN</td>\n",
       "      <td>NaN</td>\n",
       "      <td>NaN</td>\n",
       "      <td>NaN</td>\n",
       "      <td>NaN</td>\n",
       "      <td>NaN</td>\n",
       "    </tr>\n",
       "    <tr>\n",
       "      <th>549</th>\n",
       "      <td>U. N. AUTÓNOMA ALTOANDINA DE TARMA - UNAAT</td>\n",
       "      <td>JUNIN</td>\n",
       "      <td>362</td>\n",
       "      <td>2013</td>\n",
       "      <td>NaN</td>\n",
       "      <td>NaN</td>\n",
       "      <td>NaN</td>\n",
       "      <td>NaN</td>\n",
       "      <td>NaN</td>\n",
       "      <td>NaN</td>\n",
       "      <td>NaN</td>\n",
       "    </tr>\n",
       "  </tbody>\n",
       "</table>\n",
       "<p>550 rows × 11 columns</p>\n",
       "</div>"
      ],
      "text/plain": [
       "                                             NOMBRE departamento  \\\n",
       "0    UNIVERSIDAD NACIONAL SAN CRISTOBAL DE HUAMANGA     AYACUCHO   \n",
       "1    UNIVERSIDAD NACIONAL SAN CRISTOBAL DE HUAMANGA     AYACUCHO   \n",
       "2    UNIVERSIDAD NACIONAL SAN CRISTOBAL DE HUAMANGA     AYACUCHO   \n",
       "3    UNIVERSIDAD NACIONAL SAN CRISTOBAL DE HUAMANGA     AYACUCHO   \n",
       "4    UNIVERSIDAD NACIONAL SAN CRISTOBAL DE HUAMANGA     AYACUCHO   \n",
       "..                                              ...          ...   \n",
       "545      U. N. AUTÓNOMA ALTOANDINA DE TARMA - UNAAT        JUNIN   \n",
       "546      U. N. AUTÓNOMA ALTOANDINA DE TARMA - UNAAT        JUNIN   \n",
       "547      U. N. AUTÓNOMA ALTOANDINA DE TARMA - UNAAT        JUNIN   \n",
       "548      U. N. AUTÓNOMA ALTOANDINA DE TARMA - UNAAT        JUNIN   \n",
       "549      U. N. AUTÓNOMA ALTOANDINA DE TARMA - UNAAT        JUNIN   \n",
       "\n",
       "     EJECUTORA_ID  ANIO_ID          PIA          PIM  Certificado  CompAnual  \\\n",
       "0               1     2019  105064665.0  125190328.0  93191137.42        0.0   \n",
       "1               1     2016          NaN          NaN          NaN        NaN   \n",
       "2               1     2017          NaN          NaN          NaN        NaN   \n",
       "3               1     2012          NaN          NaN          NaN        NaN   \n",
       "4               1     2020          NaN          NaN          NaN        NaN   \n",
       "..            ...      ...          ...          ...          ...        ...   \n",
       "545           362     2021          NaN          NaN          NaN        NaN   \n",
       "546           362     2014          0.0    6234549.0   1499956.82        0.0   \n",
       "547           362     2015          NaN          NaN          NaN        NaN   \n",
       "548           362     2018          NaN          NaN          NaN        NaN   \n",
       "549           362     2013          NaN          NaN          NaN        NaN   \n",
       "\n",
       "       Devengado       Girado  porc_ejecucion  \n",
       "0    88352235.90  88343482.10        0.705743  \n",
       "1            NaN          NaN             NaN  \n",
       "2            NaN          NaN             NaN  \n",
       "3            NaN          NaN             NaN  \n",
       "4            NaN          NaN             NaN  \n",
       "..           ...          ...             ...  \n",
       "545          NaN          NaN             NaN  \n",
       "546   1499956.82   1499956.82        0.240588  \n",
       "547          NaN          NaN             NaN  \n",
       "548          NaN          NaN             NaN  \n",
       "549          NaN          NaN             NaN  \n",
       "\n",
       "[550 rows x 11 columns]"
      ]
     },
     "execution_count": 39,
     "metadata": {},
     "output_type": "execute_result"
    }
   ],
   "source": [
    "df_final['porc_ejecucion'] = df_final['Devengado'] / df_final['PIM']\n",
    "df_final"
   ]
  },
  {
   "cell_type": "code",
   "execution_count": 40,
   "id": "7e515444",
   "metadata": {},
   "outputs": [
    {
     "data": {
      "text/plain": [
       "ANIO_ID\n",
       "2012     3\n",
       "2013     2\n",
       "2014     4\n",
       "2015     2\n",
       "2016     4\n",
       "2017     7\n",
       "2018     4\n",
       "2019    11\n",
       "2020    13\n",
       "2021     5\n",
       "Name: porc_ejecucion, dtype: int64"
      ]
     },
     "execution_count": 40,
     "metadata": {},
     "output_type": "execute_result"
    }
   ],
   "source": [
    "df_final.groupby('ANIO_ID')['porc_ejecucion'].count()\n"
   ]
  },
  {
   "cell_type": "code",
   "execution_count": 41,
   "id": "8a59ae1d",
   "metadata": {},
   "outputs": [
    {
     "data": {
      "text/html": [
       "<div>\n",
       "<style scoped>\n",
       "    .dataframe tbody tr th:only-of-type {\n",
       "        vertical-align: middle;\n",
       "    }\n",
       "\n",
       "    .dataframe tbody tr th {\n",
       "        vertical-align: top;\n",
       "    }\n",
       "\n",
       "    .dataframe thead th {\n",
       "        text-align: right;\n",
       "    }\n",
       "</style>\n",
       "<table border=\"1\" class=\"dataframe\">\n",
       "  <thead>\n",
       "    <tr style=\"text-align: right;\">\n",
       "      <th></th>\n",
       "      <th>NOMBRE</th>\n",
       "      <th>departamento</th>\n",
       "      <th>EJECUTORA_ID</th>\n",
       "      <th>ANIO_ID</th>\n",
       "      <th>PIA</th>\n",
       "      <th>PIM</th>\n",
       "      <th>Certificado</th>\n",
       "      <th>CompAnual</th>\n",
       "      <th>Devengado</th>\n",
       "      <th>Girado</th>\n",
       "      <th>porc_ejecucion</th>\n",
       "    </tr>\n",
       "  </thead>\n",
       "  <tbody>\n",
       "    <tr>\n",
       "      <th>4</th>\n",
       "      <td>UNIVERSIDAD NACIONAL SAN CRISTOBAL DE HUAMANGA</td>\n",
       "      <td>AYACUCHO</td>\n",
       "      <td>1</td>\n",
       "      <td>2020</td>\n",
       "      <td>NaN</td>\n",
       "      <td>NaN</td>\n",
       "      <td>NaN</td>\n",
       "      <td>NaN</td>\n",
       "      <td>NaN</td>\n",
       "      <td>NaN</td>\n",
       "      <td>NaN</td>\n",
       "    </tr>\n",
       "    <tr>\n",
       "      <th>14</th>\n",
       "      <td>UNIVERSIDAD NACIONAL DANIEL ALCIDES CARRION</td>\n",
       "      <td>PASCO</td>\n",
       "      <td>2</td>\n",
       "      <td>2020</td>\n",
       "      <td>NaN</td>\n",
       "      <td>NaN</td>\n",
       "      <td>NaN</td>\n",
       "      <td>NaN</td>\n",
       "      <td>NaN</td>\n",
       "      <td>NaN</td>\n",
       "      <td>NaN</td>\n",
       "    </tr>\n",
       "    <tr>\n",
       "      <th>24</th>\n",
       "      <td>UNIVERSIDAD NACIONAL TORIBIO RODRIGUEZ DE MEND...</td>\n",
       "      <td>AMAZONAS</td>\n",
       "      <td>3</td>\n",
       "      <td>2020</td>\n",
       "      <td>NaN</td>\n",
       "      <td>NaN</td>\n",
       "      <td>NaN</td>\n",
       "      <td>NaN</td>\n",
       "      <td>NaN</td>\n",
       "      <td>NaN</td>\n",
       "      <td>NaN</td>\n",
       "    </tr>\n",
       "    <tr>\n",
       "      <th>34</th>\n",
       "      <td>UNIVERSIDAD NACIONAL DEL CENTRO DEL PERU</td>\n",
       "      <td>JUNIN</td>\n",
       "      <td>4</td>\n",
       "      <td>2020</td>\n",
       "      <td>NaN</td>\n",
       "      <td>NaN</td>\n",
       "      <td>NaN</td>\n",
       "      <td>NaN</td>\n",
       "      <td>NaN</td>\n",
       "      <td>NaN</td>\n",
       "      <td>NaN</td>\n",
       "    </tr>\n",
       "    <tr>\n",
       "      <th>44</th>\n",
       "      <td>UNIVERSIDAD NACIONAL DEL SANTA</td>\n",
       "      <td>ANCASH</td>\n",
       "      <td>5</td>\n",
       "      <td>2020</td>\n",
       "      <td>82291158.0</td>\n",
       "      <td>97043680.0</td>\n",
       "      <td>5.035749e+07</td>\n",
       "      <td>0.0</td>\n",
       "      <td>4.142092e+07</td>\n",
       "      <td>4.141270e+07</td>\n",
       "      <td>0.426828</td>\n",
       "    </tr>\n",
       "    <tr>\n",
       "      <th>54</th>\n",
       "      <td>UNIVERSIDAD NACIONAL DE EDUCACION ENRIQUE GUZM...</td>\n",
       "      <td>LIMA</td>\n",
       "      <td>6</td>\n",
       "      <td>2020</td>\n",
       "      <td>111916742.0</td>\n",
       "      <td>114940553.0</td>\n",
       "      <td>9.645985e+07</td>\n",
       "      <td>0.0</td>\n",
       "      <td>9.214496e+07</td>\n",
       "      <td>9.212738e+07</td>\n",
       "      <td>0.801675</td>\n",
       "    </tr>\n",
       "    <tr>\n",
       "      <th>64</th>\n",
       "      <td>UNIVERSIDAD NACIONAL DE MOQUEGUA</td>\n",
       "      <td>MOQUEGUA</td>\n",
       "      <td>7</td>\n",
       "      <td>2020</td>\n",
       "      <td>NaN</td>\n",
       "      <td>NaN</td>\n",
       "      <td>NaN</td>\n",
       "      <td>NaN</td>\n",
       "      <td>NaN</td>\n",
       "      <td>NaN</td>\n",
       "      <td>NaN</td>\n",
       "    </tr>\n",
       "    <tr>\n",
       "      <th>74</th>\n",
       "      <td>UNIVERSIDAD NACIONAL DE PIURA</td>\n",
       "      <td>PIURA</td>\n",
       "      <td>8</td>\n",
       "      <td>2020</td>\n",
       "      <td>NaN</td>\n",
       "      <td>NaN</td>\n",
       "      <td>NaN</td>\n",
       "      <td>NaN</td>\n",
       "      <td>NaN</td>\n",
       "      <td>NaN</td>\n",
       "      <td>NaN</td>\n",
       "    </tr>\n",
       "    <tr>\n",
       "      <th>84</th>\n",
       "      <td>UNIVERSIDAD NACIONAL DANIEL ALOMIA ROBLES</td>\n",
       "      <td>HUANUCO</td>\n",
       "      <td>10</td>\n",
       "      <td>2020</td>\n",
       "      <td>6458997.0</td>\n",
       "      <td>6918012.0</td>\n",
       "      <td>6.454558e+06</td>\n",
       "      <td>0.0</td>\n",
       "      <td>6.415513e+06</td>\n",
       "      <td>6.414065e+06</td>\n",
       "      <td>0.927364</td>\n",
       "    </tr>\n",
       "    <tr>\n",
       "      <th>94</th>\n",
       "      <td>UNIVERSIDAD NACIONAL DE TUMBES</td>\n",
       "      <td>TUMBES</td>\n",
       "      <td>11</td>\n",
       "      <td>2020</td>\n",
       "      <td>NaN</td>\n",
       "      <td>NaN</td>\n",
       "      <td>NaN</td>\n",
       "      <td>NaN</td>\n",
       "      <td>NaN</td>\n",
       "      <td>NaN</td>\n",
       "      <td>NaN</td>\n",
       "    </tr>\n",
       "    <tr>\n",
       "      <th>104</th>\n",
       "      <td>UNIVERSIDAD NACIONAL DE TRUJILLO</td>\n",
       "      <td>LA LIBERTAD</td>\n",
       "      <td>12</td>\n",
       "      <td>2020</td>\n",
       "      <td>NaN</td>\n",
       "      <td>NaN</td>\n",
       "      <td>NaN</td>\n",
       "      <td>NaN</td>\n",
       "      <td>NaN</td>\n",
       "      <td>NaN</td>\n",
       "      <td>NaN</td>\n",
       "    </tr>\n",
       "    <tr>\n",
       "      <th>114</th>\n",
       "      <td>UNIVERSIDAD NACIONAL DE BARRANCA</td>\n",
       "      <td>LIMA</td>\n",
       "      <td>13</td>\n",
       "      <td>2020</td>\n",
       "      <td>23521187.0</td>\n",
       "      <td>29749848.0</td>\n",
       "      <td>2.729222e+07</td>\n",
       "      <td>0.0</td>\n",
       "      <td>1.733622e+07</td>\n",
       "      <td>1.733531e+07</td>\n",
       "      <td>0.582733</td>\n",
       "    </tr>\n",
       "    <tr>\n",
       "      <th>124</th>\n",
       "      <td>UNIVERSIDAD NACIONAL JOSE MARIA ARGUEDAS</td>\n",
       "      <td>APURIMAC</td>\n",
       "      <td>14</td>\n",
       "      <td>2020</td>\n",
       "      <td>NaN</td>\n",
       "      <td>NaN</td>\n",
       "      <td>NaN</td>\n",
       "      <td>NaN</td>\n",
       "      <td>NaN</td>\n",
       "      <td>NaN</td>\n",
       "      <td>NaN</td>\n",
       "    </tr>\n",
       "    <tr>\n",
       "      <th>134</th>\n",
       "      <td>U. N. AUTÓNOMA ALTOANADINA DE TARMA - UNAAT</td>\n",
       "      <td>JUNIN</td>\n",
       "      <td>16</td>\n",
       "      <td>2020</td>\n",
       "      <td>NaN</td>\n",
       "      <td>NaN</td>\n",
       "      <td>NaN</td>\n",
       "      <td>NaN</td>\n",
       "      <td>NaN</td>\n",
       "      <td>NaN</td>\n",
       "      <td>NaN</td>\n",
       "    </tr>\n",
       "    <tr>\n",
       "      <th>144</th>\n",
       "      <td>INICTEL- UNI</td>\n",
       "      <td>LIMA</td>\n",
       "      <td>17</td>\n",
       "      <td>2020</td>\n",
       "      <td>NaN</td>\n",
       "      <td>NaN</td>\n",
       "      <td>NaN</td>\n",
       "      <td>NaN</td>\n",
       "      <td>NaN</td>\n",
       "      <td>NaN</td>\n",
       "      <td>NaN</td>\n",
       "    </tr>\n",
       "    <tr>\n",
       "      <th>154</th>\n",
       "      <td>UNIVERSIDAD NACIONAL JORGE BASADRE GROHMANN</td>\n",
       "      <td>TACNA</td>\n",
       "      <td>18</td>\n",
       "      <td>2020</td>\n",
       "      <td>90615157.0</td>\n",
       "      <td>103334258.0</td>\n",
       "      <td>8.311292e+07</td>\n",
       "      <td>0.0</td>\n",
       "      <td>7.716635e+07</td>\n",
       "      <td>7.712489e+07</td>\n",
       "      <td>0.746764</td>\n",
       "    </tr>\n",
       "    <tr>\n",
       "      <th>164</th>\n",
       "      <td>UNIVERSIDAD NACIONAL DIEGO QUISPE TITO</td>\n",
       "      <td>CUSCO</td>\n",
       "      <td>19</td>\n",
       "      <td>2020</td>\n",
       "      <td>NaN</td>\n",
       "      <td>NaN</td>\n",
       "      <td>NaN</td>\n",
       "      <td>NaN</td>\n",
       "      <td>NaN</td>\n",
       "      <td>NaN</td>\n",
       "      <td>NaN</td>\n",
       "    </tr>\n",
       "    <tr>\n",
       "      <th>174</th>\n",
       "      <td>UNIVERSIDAD NACIONAL DE LA AMAZONIA PERUANA</td>\n",
       "      <td>LORETO</td>\n",
       "      <td>22</td>\n",
       "      <td>2020</td>\n",
       "      <td>NaN</td>\n",
       "      <td>NaN</td>\n",
       "      <td>NaN</td>\n",
       "      <td>NaN</td>\n",
       "      <td>NaN</td>\n",
       "      <td>NaN</td>\n",
       "      <td>NaN</td>\n",
       "    </tr>\n",
       "    <tr>\n",
       "      <th>184</th>\n",
       "      <td>UNIVERSIDAD NACIONAL HERMILIO VALDIZAN</td>\n",
       "      <td>HUANUCO</td>\n",
       "      <td>23</td>\n",
       "      <td>2020</td>\n",
       "      <td>NaN</td>\n",
       "      <td>NaN</td>\n",
       "      <td>NaN</td>\n",
       "      <td>NaN</td>\n",
       "      <td>NaN</td>\n",
       "      <td>NaN</td>\n",
       "      <td>NaN</td>\n",
       "    </tr>\n",
       "    <tr>\n",
       "      <th>194</th>\n",
       "      <td>UNIVERSIDAD NACIONAL AUTONOMA DE CHOTA</td>\n",
       "      <td>CAJAMARCA</td>\n",
       "      <td>24</td>\n",
       "      <td>2020</td>\n",
       "      <td>NaN</td>\n",
       "      <td>NaN</td>\n",
       "      <td>NaN</td>\n",
       "      <td>NaN</td>\n",
       "      <td>NaN</td>\n",
       "      <td>NaN</td>\n",
       "      <td>NaN</td>\n",
       "    </tr>\n",
       "    <tr>\n",
       "      <th>204</th>\n",
       "      <td>UNIVERSIDAD NACIONAL DE FRONTERA</td>\n",
       "      <td>PIURA</td>\n",
       "      <td>25</td>\n",
       "      <td>2020</td>\n",
       "      <td>NaN</td>\n",
       "      <td>NaN</td>\n",
       "      <td>NaN</td>\n",
       "      <td>NaN</td>\n",
       "      <td>NaN</td>\n",
       "      <td>NaN</td>\n",
       "      <td>NaN</td>\n",
       "    </tr>\n",
       "    <tr>\n",
       "      <th>214</th>\n",
       "      <td>UNIVERSIDAD NACIONAL SAN ANTONIO ABAD DEL CUSCO</td>\n",
       "      <td>CUSCO</td>\n",
       "      <td>26</td>\n",
       "      <td>2020</td>\n",
       "      <td>NaN</td>\n",
       "      <td>NaN</td>\n",
       "      <td>NaN</td>\n",
       "      <td>NaN</td>\n",
       "      <td>NaN</td>\n",
       "      <td>NaN</td>\n",
       "      <td>NaN</td>\n",
       "    </tr>\n",
       "    <tr>\n",
       "      <th>224</th>\n",
       "      <td>UNIVERSIDAD NACIONAL AGRARIA DE LA SELVA</td>\n",
       "      <td>HUANUCO</td>\n",
       "      <td>28</td>\n",
       "      <td>2020</td>\n",
       "      <td>NaN</td>\n",
       "      <td>NaN</td>\n",
       "      <td>NaN</td>\n",
       "      <td>NaN</td>\n",
       "      <td>NaN</td>\n",
       "      <td>NaN</td>\n",
       "      <td>NaN</td>\n",
       "    </tr>\n",
       "    <tr>\n",
       "      <th>234</th>\n",
       "      <td>UNIVERSIDAD NACIONAL DE JAEN</td>\n",
       "      <td>CAJAMARCA</td>\n",
       "      <td>32</td>\n",
       "      <td>2020</td>\n",
       "      <td>NaN</td>\n",
       "      <td>NaN</td>\n",
       "      <td>NaN</td>\n",
       "      <td>NaN</td>\n",
       "      <td>NaN</td>\n",
       "      <td>NaN</td>\n",
       "      <td>NaN</td>\n",
       "    </tr>\n",
       "    <tr>\n",
       "      <th>244</th>\n",
       "      <td>UNIVERSIDAD NACIONAL MAYOR DE SAN MARCOS</td>\n",
       "      <td>LIMA</td>\n",
       "      <td>33</td>\n",
       "      <td>2020</td>\n",
       "      <td>NaN</td>\n",
       "      <td>NaN</td>\n",
       "      <td>NaN</td>\n",
       "      <td>NaN</td>\n",
       "      <td>NaN</td>\n",
       "      <td>NaN</td>\n",
       "      <td>NaN</td>\n",
       "    </tr>\n",
       "    <tr>\n",
       "      <th>254</th>\n",
       "      <td>UNIVERSIDAD NACIONAL TECNOLOGICA DE LIMA SUR</td>\n",
       "      <td>LIMA</td>\n",
       "      <td>35</td>\n",
       "      <td>2020</td>\n",
       "      <td>23165711.0</td>\n",
       "      <td>24984401.0</td>\n",
       "      <td>2.072761e+07</td>\n",
       "      <td>0.0</td>\n",
       "      <td>1.995162e+07</td>\n",
       "      <td>1.994999e+07</td>\n",
       "      <td>0.798563</td>\n",
       "    </tr>\n",
       "    <tr>\n",
       "      <th>264</th>\n",
       "      <td>UNIVERSIDAD NACIONAL DEL CALLAO</td>\n",
       "      <td>CALLAO</td>\n",
       "      <td>36</td>\n",
       "      <td>2020</td>\n",
       "      <td>NaN</td>\n",
       "      <td>NaN</td>\n",
       "      <td>NaN</td>\n",
       "      <td>NaN</td>\n",
       "      <td>NaN</td>\n",
       "      <td>NaN</td>\n",
       "      <td>NaN</td>\n",
       "    </tr>\n",
       "    <tr>\n",
       "      <th>274</th>\n",
       "      <td>UNIVERSIDAD NACIONAL AUTONOMA DE HUANTA- UNAH</td>\n",
       "      <td>AYACUCHO</td>\n",
       "      <td>37</td>\n",
       "      <td>2020</td>\n",
       "      <td>NaN</td>\n",
       "      <td>NaN</td>\n",
       "      <td>NaN</td>\n",
       "      <td>NaN</td>\n",
       "      <td>NaN</td>\n",
       "      <td>NaN</td>\n",
       "      <td>NaN</td>\n",
       "    </tr>\n",
       "    <tr>\n",
       "      <th>284</th>\n",
       "      <td>UNIVERSIDAD NACIONAL DE CAÑETE</td>\n",
       "      <td>LIMA</td>\n",
       "      <td>45</td>\n",
       "      <td>2020</td>\n",
       "      <td>20097425.0</td>\n",
       "      <td>20008145.0</td>\n",
       "      <td>1.560069e+07</td>\n",
       "      <td>0.0</td>\n",
       "      <td>1.556184e+07</td>\n",
       "      <td>1.548219e+07</td>\n",
       "      <td>0.777775</td>\n",
       "    </tr>\n",
       "    <tr>\n",
       "      <th>294</th>\n",
       "      <td>UNIVERSIDAD NACIONAL DE CAJAMARCA</td>\n",
       "      <td>CAJAMARCA</td>\n",
       "      <td>46</td>\n",
       "      <td>2020</td>\n",
       "      <td>NaN</td>\n",
       "      <td>NaN</td>\n",
       "      <td>NaN</td>\n",
       "      <td>NaN</td>\n",
       "      <td>NaN</td>\n",
       "      <td>NaN</td>\n",
       "      <td>NaN</td>\n",
       "    </tr>\n",
       "    <tr>\n",
       "      <th>304</th>\n",
       "      <td>UNIVERSIDAD NACIONAL DE INGENIERIA</td>\n",
       "      <td>LIMA</td>\n",
       "      <td>48</td>\n",
       "      <td>2020</td>\n",
       "      <td>248463206.0</td>\n",
       "      <td>268494756.0</td>\n",
       "      <td>2.372975e+08</td>\n",
       "      <td>0.0</td>\n",
       "      <td>2.032909e+08</td>\n",
       "      <td>2.030517e+08</td>\n",
       "      <td>0.757150</td>\n",
       "    </tr>\n",
       "    <tr>\n",
       "      <th>314</th>\n",
       "      <td>UNIVERSIDAD NACIONAL MICAELA BASTIDAS DE APURIMAC</td>\n",
       "      <td>APURIMAC</td>\n",
       "      <td>49</td>\n",
       "      <td>2020</td>\n",
       "      <td>NaN</td>\n",
       "      <td>NaN</td>\n",
       "      <td>NaN</td>\n",
       "      <td>NaN</td>\n",
       "      <td>NaN</td>\n",
       "      <td>NaN</td>\n",
       "      <td>NaN</td>\n",
       "    </tr>\n",
       "    <tr>\n",
       "      <th>324</th>\n",
       "      <td>UNIVERSIDAD NACIONAL AMAZONICA DE MADRE DE DIOS</td>\n",
       "      <td>MADRE DE DIOS</td>\n",
       "      <td>51</td>\n",
       "      <td>2020</td>\n",
       "      <td>NaN</td>\n",
       "      <td>NaN</td>\n",
       "      <td>NaN</td>\n",
       "      <td>NaN</td>\n",
       "      <td>NaN</td>\n",
       "      <td>NaN</td>\n",
       "      <td>NaN</td>\n",
       "    </tr>\n",
       "    <tr>\n",
       "      <th>334</th>\n",
       "      <td>UNIVERSIDAD NACIONAL DE MÚSICA</td>\n",
       "      <td>LIMA</td>\n",
       "      <td>53</td>\n",
       "      <td>2020</td>\n",
       "      <td>NaN</td>\n",
       "      <td>NaN</td>\n",
       "      <td>NaN</td>\n",
       "      <td>NaN</td>\n",
       "      <td>NaN</td>\n",
       "      <td>NaN</td>\n",
       "      <td>NaN</td>\n",
       "    </tr>\n",
       "    <tr>\n",
       "      <th>344</th>\n",
       "      <td>UNIVERSIDAD NACIONAL DE SAN AGUSTIN</td>\n",
       "      <td>AREQUIPA</td>\n",
       "      <td>54</td>\n",
       "      <td>2020</td>\n",
       "      <td>324118759.0</td>\n",
       "      <td>373876031.0</td>\n",
       "      <td>3.607277e+08</td>\n",
       "      <td>0.0</td>\n",
       "      <td>3.483212e+08</td>\n",
       "      <td>3.478520e+08</td>\n",
       "      <td>0.931649</td>\n",
       "    </tr>\n",
       "    <tr>\n",
       "      <th>354</th>\n",
       "      <td>UNIV.NAC. INTERCULTURAL DE LA SELVA CENTRAL JU...</td>\n",
       "      <td>JUNIN</td>\n",
       "      <td>58</td>\n",
       "      <td>2020</td>\n",
       "      <td>NaN</td>\n",
       "      <td>NaN</td>\n",
       "      <td>NaN</td>\n",
       "      <td>NaN</td>\n",
       "      <td>NaN</td>\n",
       "      <td>NaN</td>\n",
       "      <td>NaN</td>\n",
       "    </tr>\n",
       "    <tr>\n",
       "      <th>364</th>\n",
       "      <td>UNIVERSIDAD NACIONAL INTERCULTURAL DE LA AMAZONIA</td>\n",
       "      <td>UCAYALI</td>\n",
       "      <td>60</td>\n",
       "      <td>2020</td>\n",
       "      <td>NaN</td>\n",
       "      <td>NaN</td>\n",
       "      <td>NaN</td>\n",
       "      <td>NaN</td>\n",
       "      <td>NaN</td>\n",
       "      <td>NaN</td>\n",
       "      <td>NaN</td>\n",
       "    </tr>\n",
       "    <tr>\n",
       "      <th>374</th>\n",
       "      <td>UNIVERSIDAD NACIONAL DE JULIACA</td>\n",
       "      <td>PUNO</td>\n",
       "      <td>61</td>\n",
       "      <td>2020</td>\n",
       "      <td>NaN</td>\n",
       "      <td>NaN</td>\n",
       "      <td>NaN</td>\n",
       "      <td>NaN</td>\n",
       "      <td>NaN</td>\n",
       "      <td>NaN</td>\n",
       "      <td>NaN</td>\n",
       "    </tr>\n",
       "    <tr>\n",
       "      <th>384</th>\n",
       "      <td>UNIVERSIDAD NACIONAL FAUSTINO SANCHEZ CARRION</td>\n",
       "      <td>LIMA</td>\n",
       "      <td>67</td>\n",
       "      <td>2020</td>\n",
       "      <td>NaN</td>\n",
       "      <td>NaN</td>\n",
       "      <td>NaN</td>\n",
       "      <td>NaN</td>\n",
       "      <td>NaN</td>\n",
       "      <td>NaN</td>\n",
       "      <td>NaN</td>\n",
       "    </tr>\n",
       "    <tr>\n",
       "      <th>394</th>\n",
       "      <td>UNIVERSIDAD NACIONAL DEL ALTIPLANO</td>\n",
       "      <td>PUNO</td>\n",
       "      <td>71</td>\n",
       "      <td>2020</td>\n",
       "      <td>NaN</td>\n",
       "      <td>NaN</td>\n",
       "      <td>NaN</td>\n",
       "      <td>NaN</td>\n",
       "      <td>NaN</td>\n",
       "      <td>NaN</td>\n",
       "      <td>NaN</td>\n",
       "    </tr>\n",
       "    <tr>\n",
       "      <th>404</th>\n",
       "      <td>UNIVERSIDAD NACIONAL PEDRO RUIZ GALLO</td>\n",
       "      <td>LAMBAYEQUE</td>\n",
       "      <td>75</td>\n",
       "      <td>2020</td>\n",
       "      <td>NaN</td>\n",
       "      <td>NaN</td>\n",
       "      <td>NaN</td>\n",
       "      <td>NaN</td>\n",
       "      <td>NaN</td>\n",
       "      <td>NaN</td>\n",
       "      <td>NaN</td>\n",
       "    </tr>\n",
       "    <tr>\n",
       "      <th>414</th>\n",
       "      <td>UNIVERSIDAD NACIONAL DE UCAYALI</td>\n",
       "      <td>UCAYALI</td>\n",
       "      <td>82</td>\n",
       "      <td>2020</td>\n",
       "      <td>NaN</td>\n",
       "      <td>NaN</td>\n",
       "      <td>NaN</td>\n",
       "      <td>NaN</td>\n",
       "      <td>NaN</td>\n",
       "      <td>NaN</td>\n",
       "      <td>NaN</td>\n",
       "    </tr>\n",
       "    <tr>\n",
       "      <th>424</th>\n",
       "      <td>UNIVERSIDAD NACIONAL INTERCULTURAL DE QUILLABAMBA</td>\n",
       "      <td>CUSCO</td>\n",
       "      <td>85</td>\n",
       "      <td>2020</td>\n",
       "      <td>NaN</td>\n",
       "      <td>NaN</td>\n",
       "      <td>NaN</td>\n",
       "      <td>NaN</td>\n",
       "      <td>NaN</td>\n",
       "      <td>NaN</td>\n",
       "      <td>NaN</td>\n",
       "    </tr>\n",
       "    <tr>\n",
       "      <th>434</th>\n",
       "      <td>UNIVERSIDAD NACIONAL SAN LUIS GONZAGA DE ICA</td>\n",
       "      <td>ICA</td>\n",
       "      <td>95</td>\n",
       "      <td>2020</td>\n",
       "      <td>NaN</td>\n",
       "      <td>NaN</td>\n",
       "      <td>NaN</td>\n",
       "      <td>NaN</td>\n",
       "      <td>NaN</td>\n",
       "      <td>NaN</td>\n",
       "      <td>NaN</td>\n",
       "    </tr>\n",
       "    <tr>\n",
       "      <th>444</th>\n",
       "      <td>UNIVERSIDAD NACIONAL DE HUANCAVELICA</td>\n",
       "      <td>HUANCAVELICA</td>\n",
       "      <td>96</td>\n",
       "      <td>2020</td>\n",
       "      <td>47262092.0</td>\n",
       "      <td>54270522.0</td>\n",
       "      <td>4.391500e+07</td>\n",
       "      <td>0.0</td>\n",
       "      <td>3.485367e+07</td>\n",
       "      <td>3.479754e+07</td>\n",
       "      <td>0.642221</td>\n",
       "    </tr>\n",
       "    <tr>\n",
       "      <th>454</th>\n",
       "      <td>U.N. INTERCULTURAL FABIOLA SALAZAR LEGUIA DE B...</td>\n",
       "      <td>AMAZONAS</td>\n",
       "      <td>102</td>\n",
       "      <td>2020</td>\n",
       "      <td>NaN</td>\n",
       "      <td>NaN</td>\n",
       "      <td>NaN</td>\n",
       "      <td>NaN</td>\n",
       "      <td>NaN</td>\n",
       "      <td>NaN</td>\n",
       "      <td>NaN</td>\n",
       "    </tr>\n",
       "    <tr>\n",
       "      <th>464</th>\n",
       "      <td>UNIV. NACIONAL AUTONOMA DE ALTO AMAZONAS</td>\n",
       "      <td>LORETO</td>\n",
       "      <td>106</td>\n",
       "      <td>2020</td>\n",
       "      <td>9526034.0</td>\n",
       "      <td>10988824.0</td>\n",
       "      <td>9.468638e+06</td>\n",
       "      <td>0.0</td>\n",
       "      <td>9.418927e+06</td>\n",
       "      <td>9.417728e+06</td>\n",
       "      <td>0.857137</td>\n",
       "    </tr>\n",
       "    <tr>\n",
       "      <th>474</th>\n",
       "      <td>UNIVERSIDAD NACIONAL DE SAN MARTIN</td>\n",
       "      <td>SAN MARTIN</td>\n",
       "      <td>110</td>\n",
       "      <td>2020</td>\n",
       "      <td>NaN</td>\n",
       "      <td>NaN</td>\n",
       "      <td>NaN</td>\n",
       "      <td>NaN</td>\n",
       "      <td>NaN</td>\n",
       "      <td>NaN</td>\n",
       "      <td>NaN</td>\n",
       "    </tr>\n",
       "    <tr>\n",
       "      <th>484</th>\n",
       "      <td>UNIVERSIDAD NACIONAL SANTIAGO ANTUNEZ DE MAYOLO</td>\n",
       "      <td>ANCASH</td>\n",
       "      <td>112</td>\n",
       "      <td>2020</td>\n",
       "      <td>NaN</td>\n",
       "      <td>NaN</td>\n",
       "      <td>NaN</td>\n",
       "      <td>NaN</td>\n",
       "      <td>NaN</td>\n",
       "      <td>NaN</td>\n",
       "      <td>NaN</td>\n",
       "    </tr>\n",
       "    <tr>\n",
       "      <th>494</th>\n",
       "      <td>UNIVERSIDAD NAC. TECNOLOGICA DEL CONO SUR DE LIMA</td>\n",
       "      <td>LIMA</td>\n",
       "      <td>113</td>\n",
       "      <td>2020</td>\n",
       "      <td>NaN</td>\n",
       "      <td>NaN</td>\n",
       "      <td>NaN</td>\n",
       "      <td>NaN</td>\n",
       "      <td>NaN</td>\n",
       "      <td>NaN</td>\n",
       "      <td>NaN</td>\n",
       "    </tr>\n",
       "    <tr>\n",
       "      <th>504</th>\n",
       "      <td>UNIVERSIDAD NACIONAL AGRARIA LA MOLINA</td>\n",
       "      <td>LIMA</td>\n",
       "      <td>124</td>\n",
       "      <td>2020</td>\n",
       "      <td>NaN</td>\n",
       "      <td>NaN</td>\n",
       "      <td>NaN</td>\n",
       "      <td>NaN</td>\n",
       "      <td>NaN</td>\n",
       "      <td>NaN</td>\n",
       "      <td>NaN</td>\n",
       "    </tr>\n",
       "    <tr>\n",
       "      <th>514</th>\n",
       "      <td>UNIVERSIDAD NACIONAL FEDERICO VILLARREAL</td>\n",
       "      <td>LIMA</td>\n",
       "      <td>126</td>\n",
       "      <td>2020</td>\n",
       "      <td>NaN</td>\n",
       "      <td>NaN</td>\n",
       "      <td>NaN</td>\n",
       "      <td>NaN</td>\n",
       "      <td>NaN</td>\n",
       "      <td>NaN</td>\n",
       "      <td>NaN</td>\n",
       "    </tr>\n",
       "    <tr>\n",
       "      <th>524</th>\n",
       "      <td>U. N. AUTONOMA DE TAYACAJA DANIEL HERNANDEZ MO...</td>\n",
       "      <td>HUANCAVELICA</td>\n",
       "      <td>146</td>\n",
       "      <td>2020</td>\n",
       "      <td>17480133.0</td>\n",
       "      <td>20610651.0</td>\n",
       "      <td>1.668580e+07</td>\n",
       "      <td>0.0</td>\n",
       "      <td>1.278869e+07</td>\n",
       "      <td>1.278769e+07</td>\n",
       "      <td>0.620489</td>\n",
       "    </tr>\n",
       "    <tr>\n",
       "      <th>534</th>\n",
       "      <td>UNIVERSIDAD NACIONAL CIRO ALEGRIA</td>\n",
       "      <td>LA LIBERTAD</td>\n",
       "      <td>166</td>\n",
       "      <td>2020</td>\n",
       "      <td>11389819.0</td>\n",
       "      <td>11406740.0</td>\n",
       "      <td>7.264587e+06</td>\n",
       "      <td>0.0</td>\n",
       "      <td>7.264587e+06</td>\n",
       "      <td>7.264587e+06</td>\n",
       "      <td>0.636868</td>\n",
       "    </tr>\n",
       "    <tr>\n",
       "      <th>544</th>\n",
       "      <td>U. N. AUTÓNOMA ALTOANDINA DE TARMA - UNAAT</td>\n",
       "      <td>JUNIN</td>\n",
       "      <td>362</td>\n",
       "      <td>2020</td>\n",
       "      <td>NaN</td>\n",
       "      <td>NaN</td>\n",
       "      <td>NaN</td>\n",
       "      <td>NaN</td>\n",
       "      <td>NaN</td>\n",
       "      <td>NaN</td>\n",
       "      <td>NaN</td>\n",
       "    </tr>\n",
       "  </tbody>\n",
       "</table>\n",
       "</div>"
      ],
      "text/plain": [
       "                                                NOMBRE   departamento  \\\n",
       "4       UNIVERSIDAD NACIONAL SAN CRISTOBAL DE HUAMANGA       AYACUCHO   \n",
       "14         UNIVERSIDAD NACIONAL DANIEL ALCIDES CARRION          PASCO   \n",
       "24   UNIVERSIDAD NACIONAL TORIBIO RODRIGUEZ DE MEND...       AMAZONAS   \n",
       "34            UNIVERSIDAD NACIONAL DEL CENTRO DEL PERU          JUNIN   \n",
       "44                      UNIVERSIDAD NACIONAL DEL SANTA         ANCASH   \n",
       "54   UNIVERSIDAD NACIONAL DE EDUCACION ENRIQUE GUZM...           LIMA   \n",
       "64                    UNIVERSIDAD NACIONAL DE MOQUEGUA       MOQUEGUA   \n",
       "74                       UNIVERSIDAD NACIONAL DE PIURA          PIURA   \n",
       "84           UNIVERSIDAD NACIONAL DANIEL ALOMIA ROBLES        HUANUCO   \n",
       "94                      UNIVERSIDAD NACIONAL DE TUMBES         TUMBES   \n",
       "104                   UNIVERSIDAD NACIONAL DE TRUJILLO    LA LIBERTAD   \n",
       "114                   UNIVERSIDAD NACIONAL DE BARRANCA           LIMA   \n",
       "124           UNIVERSIDAD NACIONAL JOSE MARIA ARGUEDAS       APURIMAC   \n",
       "134        U. N. AUTÓNOMA ALTOANADINA DE TARMA - UNAAT          JUNIN   \n",
       "144                                       INICTEL- UNI           LIMA   \n",
       "154        UNIVERSIDAD NACIONAL JORGE BASADRE GROHMANN          TACNA   \n",
       "164             UNIVERSIDAD NACIONAL DIEGO QUISPE TITO          CUSCO   \n",
       "174        UNIVERSIDAD NACIONAL DE LA AMAZONIA PERUANA         LORETO   \n",
       "184             UNIVERSIDAD NACIONAL HERMILIO VALDIZAN        HUANUCO   \n",
       "194             UNIVERSIDAD NACIONAL AUTONOMA DE CHOTA      CAJAMARCA   \n",
       "204                   UNIVERSIDAD NACIONAL DE FRONTERA          PIURA   \n",
       "214    UNIVERSIDAD NACIONAL SAN ANTONIO ABAD DEL CUSCO          CUSCO   \n",
       "224           UNIVERSIDAD NACIONAL AGRARIA DE LA SELVA        HUANUCO   \n",
       "234                       UNIVERSIDAD NACIONAL DE JAEN      CAJAMARCA   \n",
       "244           UNIVERSIDAD NACIONAL MAYOR DE SAN MARCOS           LIMA   \n",
       "254       UNIVERSIDAD NACIONAL TECNOLOGICA DE LIMA SUR           LIMA   \n",
       "264                    UNIVERSIDAD NACIONAL DEL CALLAO         CALLAO   \n",
       "274      UNIVERSIDAD NACIONAL AUTONOMA DE HUANTA- UNAH       AYACUCHO   \n",
       "284                     UNIVERSIDAD NACIONAL DE CAÑETE           LIMA   \n",
       "294                  UNIVERSIDAD NACIONAL DE CAJAMARCA      CAJAMARCA   \n",
       "304                 UNIVERSIDAD NACIONAL DE INGENIERIA           LIMA   \n",
       "314  UNIVERSIDAD NACIONAL MICAELA BASTIDAS DE APURIMAC       APURIMAC   \n",
       "324    UNIVERSIDAD NACIONAL AMAZONICA DE MADRE DE DIOS  MADRE DE DIOS   \n",
       "334                     UNIVERSIDAD NACIONAL DE MÚSICA           LIMA   \n",
       "344                UNIVERSIDAD NACIONAL DE SAN AGUSTIN       AREQUIPA   \n",
       "354  UNIV.NAC. INTERCULTURAL DE LA SELVA CENTRAL JU...          JUNIN   \n",
       "364  UNIVERSIDAD NACIONAL INTERCULTURAL DE LA AMAZONIA        UCAYALI   \n",
       "374                    UNIVERSIDAD NACIONAL DE JULIACA           PUNO   \n",
       "384      UNIVERSIDAD NACIONAL FAUSTINO SANCHEZ CARRION           LIMA   \n",
       "394                 UNIVERSIDAD NACIONAL DEL ALTIPLANO           PUNO   \n",
       "404              UNIVERSIDAD NACIONAL PEDRO RUIZ GALLO     LAMBAYEQUE   \n",
       "414                    UNIVERSIDAD NACIONAL DE UCAYALI        UCAYALI   \n",
       "424  UNIVERSIDAD NACIONAL INTERCULTURAL DE QUILLABAMBA          CUSCO   \n",
       "434       UNIVERSIDAD NACIONAL SAN LUIS GONZAGA DE ICA            ICA   \n",
       "444               UNIVERSIDAD NACIONAL DE HUANCAVELICA   HUANCAVELICA   \n",
       "454  U.N. INTERCULTURAL FABIOLA SALAZAR LEGUIA DE B...       AMAZONAS   \n",
       "464           UNIV. NACIONAL AUTONOMA DE ALTO AMAZONAS         LORETO   \n",
       "474                 UNIVERSIDAD NACIONAL DE SAN MARTIN     SAN MARTIN   \n",
       "484    UNIVERSIDAD NACIONAL SANTIAGO ANTUNEZ DE MAYOLO         ANCASH   \n",
       "494  UNIVERSIDAD NAC. TECNOLOGICA DEL CONO SUR DE LIMA           LIMA   \n",
       "504             UNIVERSIDAD NACIONAL AGRARIA LA MOLINA           LIMA   \n",
       "514           UNIVERSIDAD NACIONAL FEDERICO VILLARREAL           LIMA   \n",
       "524  U. N. AUTONOMA DE TAYACAJA DANIEL HERNANDEZ MO...   HUANCAVELICA   \n",
       "534                  UNIVERSIDAD NACIONAL CIRO ALEGRIA    LA LIBERTAD   \n",
       "544         U. N. AUTÓNOMA ALTOANDINA DE TARMA - UNAAT          JUNIN   \n",
       "\n",
       "     EJECUTORA_ID  ANIO_ID          PIA          PIM   Certificado  CompAnual  \\\n",
       "4               1     2020          NaN          NaN           NaN        NaN   \n",
       "14              2     2020          NaN          NaN           NaN        NaN   \n",
       "24              3     2020          NaN          NaN           NaN        NaN   \n",
       "34              4     2020          NaN          NaN           NaN        NaN   \n",
       "44              5     2020   82291158.0   97043680.0  5.035749e+07        0.0   \n",
       "54              6     2020  111916742.0  114940553.0  9.645985e+07        0.0   \n",
       "64              7     2020          NaN          NaN           NaN        NaN   \n",
       "74              8     2020          NaN          NaN           NaN        NaN   \n",
       "84             10     2020    6458997.0    6918012.0  6.454558e+06        0.0   \n",
       "94             11     2020          NaN          NaN           NaN        NaN   \n",
       "104            12     2020          NaN          NaN           NaN        NaN   \n",
       "114            13     2020   23521187.0   29749848.0  2.729222e+07        0.0   \n",
       "124            14     2020          NaN          NaN           NaN        NaN   \n",
       "134            16     2020          NaN          NaN           NaN        NaN   \n",
       "144            17     2020          NaN          NaN           NaN        NaN   \n",
       "154            18     2020   90615157.0  103334258.0  8.311292e+07        0.0   \n",
       "164            19     2020          NaN          NaN           NaN        NaN   \n",
       "174            22     2020          NaN          NaN           NaN        NaN   \n",
       "184            23     2020          NaN          NaN           NaN        NaN   \n",
       "194            24     2020          NaN          NaN           NaN        NaN   \n",
       "204            25     2020          NaN          NaN           NaN        NaN   \n",
       "214            26     2020          NaN          NaN           NaN        NaN   \n",
       "224            28     2020          NaN          NaN           NaN        NaN   \n",
       "234            32     2020          NaN          NaN           NaN        NaN   \n",
       "244            33     2020          NaN          NaN           NaN        NaN   \n",
       "254            35     2020   23165711.0   24984401.0  2.072761e+07        0.0   \n",
       "264            36     2020          NaN          NaN           NaN        NaN   \n",
       "274            37     2020          NaN          NaN           NaN        NaN   \n",
       "284            45     2020   20097425.0   20008145.0  1.560069e+07        0.0   \n",
       "294            46     2020          NaN          NaN           NaN        NaN   \n",
       "304            48     2020  248463206.0  268494756.0  2.372975e+08        0.0   \n",
       "314            49     2020          NaN          NaN           NaN        NaN   \n",
       "324            51     2020          NaN          NaN           NaN        NaN   \n",
       "334            53     2020          NaN          NaN           NaN        NaN   \n",
       "344            54     2020  324118759.0  373876031.0  3.607277e+08        0.0   \n",
       "354            58     2020          NaN          NaN           NaN        NaN   \n",
       "364            60     2020          NaN          NaN           NaN        NaN   \n",
       "374            61     2020          NaN          NaN           NaN        NaN   \n",
       "384            67     2020          NaN          NaN           NaN        NaN   \n",
       "394            71     2020          NaN          NaN           NaN        NaN   \n",
       "404            75     2020          NaN          NaN           NaN        NaN   \n",
       "414            82     2020          NaN          NaN           NaN        NaN   \n",
       "424            85     2020          NaN          NaN           NaN        NaN   \n",
       "434            95     2020          NaN          NaN           NaN        NaN   \n",
       "444            96     2020   47262092.0   54270522.0  4.391500e+07        0.0   \n",
       "454           102     2020          NaN          NaN           NaN        NaN   \n",
       "464           106     2020    9526034.0   10988824.0  9.468638e+06        0.0   \n",
       "474           110     2020          NaN          NaN           NaN        NaN   \n",
       "484           112     2020          NaN          NaN           NaN        NaN   \n",
       "494           113     2020          NaN          NaN           NaN        NaN   \n",
       "504           124     2020          NaN          NaN           NaN        NaN   \n",
       "514           126     2020          NaN          NaN           NaN        NaN   \n",
       "524           146     2020   17480133.0   20610651.0  1.668580e+07        0.0   \n",
       "534           166     2020   11389819.0   11406740.0  7.264587e+06        0.0   \n",
       "544           362     2020          NaN          NaN           NaN        NaN   \n",
       "\n",
       "        Devengado        Girado  porc_ejecucion  \n",
       "4             NaN           NaN             NaN  \n",
       "14            NaN           NaN             NaN  \n",
       "24            NaN           NaN             NaN  \n",
       "34            NaN           NaN             NaN  \n",
       "44   4.142092e+07  4.141270e+07        0.426828  \n",
       "54   9.214496e+07  9.212738e+07        0.801675  \n",
       "64            NaN           NaN             NaN  \n",
       "74            NaN           NaN             NaN  \n",
       "84   6.415513e+06  6.414065e+06        0.927364  \n",
       "94            NaN           NaN             NaN  \n",
       "104           NaN           NaN             NaN  \n",
       "114  1.733622e+07  1.733531e+07        0.582733  \n",
       "124           NaN           NaN             NaN  \n",
       "134           NaN           NaN             NaN  \n",
       "144           NaN           NaN             NaN  \n",
       "154  7.716635e+07  7.712489e+07        0.746764  \n",
       "164           NaN           NaN             NaN  \n",
       "174           NaN           NaN             NaN  \n",
       "184           NaN           NaN             NaN  \n",
       "194           NaN           NaN             NaN  \n",
       "204           NaN           NaN             NaN  \n",
       "214           NaN           NaN             NaN  \n",
       "224           NaN           NaN             NaN  \n",
       "234           NaN           NaN             NaN  \n",
       "244           NaN           NaN             NaN  \n",
       "254  1.995162e+07  1.994999e+07        0.798563  \n",
       "264           NaN           NaN             NaN  \n",
       "274           NaN           NaN             NaN  \n",
       "284  1.556184e+07  1.548219e+07        0.777775  \n",
       "294           NaN           NaN             NaN  \n",
       "304  2.032909e+08  2.030517e+08        0.757150  \n",
       "314           NaN           NaN             NaN  \n",
       "324           NaN           NaN             NaN  \n",
       "334           NaN           NaN             NaN  \n",
       "344  3.483212e+08  3.478520e+08        0.931649  \n",
       "354           NaN           NaN             NaN  \n",
       "364           NaN           NaN             NaN  \n",
       "374           NaN           NaN             NaN  \n",
       "384           NaN           NaN             NaN  \n",
       "394           NaN           NaN             NaN  \n",
       "404           NaN           NaN             NaN  \n",
       "414           NaN           NaN             NaN  \n",
       "424           NaN           NaN             NaN  \n",
       "434           NaN           NaN             NaN  \n",
       "444  3.485367e+07  3.479754e+07        0.642221  \n",
       "454           NaN           NaN             NaN  \n",
       "464  9.418927e+06  9.417728e+06        0.857137  \n",
       "474           NaN           NaN             NaN  \n",
       "484           NaN           NaN             NaN  \n",
       "494           NaN           NaN             NaN  \n",
       "504           NaN           NaN             NaN  \n",
       "514           NaN           NaN             NaN  \n",
       "524  1.278869e+07  1.278769e+07        0.620489  \n",
       "534  7.264587e+06  7.264587e+06        0.636868  \n",
       "544           NaN           NaN             NaN  "
      ]
     },
     "execution_count": 41,
     "metadata": {},
     "output_type": "execute_result"
    }
   ],
   "source": [
    "df_final[df_final['ANIO_ID'] == 2020]"
   ]
  },
  {
   "cell_type": "code",
   "execution_count": 42,
   "id": "21ecd5c2",
   "metadata": {},
   "outputs": [
    {
     "data": {
      "image/png": "[encoded data removed]",
      "text/plain": [
       "<Figure size 1000x800 with 1 Axes>"
      ]
     },
     "metadata": {},
     "output_type": "display_data"
    }
   ],
   "source": [
    "df_2020 = df_final[df_final['ANIO_ID'] == 2020].copy()\n",
    "df_2020 = df_2020.sort_values('porc_ejecucion', ascending=False)\n",
    "\n",
    "plt.figure(figsize=(10, 8))\n",
    "sns.barplot(\n",
    "    data=df_2020,\n",
    "    y='NOMBRE',\n",
    "    x='porc_ejecucion',\n",
    "    hue='NOMBRE',\n",
    "    palette='Blues_d',\n",
    "    dodge=False,\n",
    "    legend=False\n",
    ")\n",
    "\n",
    "plt.xlabel('% Ejecucion')\n",
    "plt.ylabel('Universidad')\n",
    "plt.title('Porcentaje Ejecución presupuestal por universidad – Anho 2020')\n",
    "plt.xlim(0, 1)\n",
    "plt.tight_layout()\n",
    "plt.show()"
   ]
  },
  {
   "cell_type": "code",
   "execution_count": null,
   "id": "dbecceab",
   "metadata": {},
   "outputs": [],
   "source": []
  }
 ],
 "metadata": {
  "kernelspec": {
   "display_name": "Python 3 (ipykernel)",
   "language": "python",
   "name": "python3"
  },
  "language_info": {
   "codemirror_mode": {
    "name": "ipython",
    "version": 3
   },
   "file_extension": ".py",
   "mimetype": "text/x-python",
   "name": "python",
   "nbconvert_exporter": "python",
   "pygments_lexer": "ipython3",
   "version": "3.13.5"
  }
 },
 "nbformat": 4,
 "nbformat_minor": 5
}
